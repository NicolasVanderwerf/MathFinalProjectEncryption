{
 "cells": [
  {
   "metadata": {},
   "cell_type": "markdown",
   "source": [
    "# Matrix Encryption\n",
    "Makenna Worley and Nic Van Der Werf\n",
    "\n",
    "An exploration into encrypting data through matrices transformations and modular arithmetic"
   ],
   "id": "13985eb8b585a9e2"
  },
  {
   "cell_type": "code",
   "id": "initial_id",
   "metadata": {
    "collapsed": true,
    "ExecuteTime": {
     "end_time": "2024-12-11T02:57:49.155942Z",
     "start_time": "2024-12-11T02:57:49.148238Z"
    }
   },
   "source": [
    "# Importing and declaring global variables\n",
    "import numpy as np\n",
    "import math\n",
    "import random\n",
    "\n",
    "from ipywidgets import widgets\n",
    "from IPython.display import display\n",
    "\n",
    "MODULO = 59\n",
    "ALPHABET = \"ABCDEFGHIJKLMNOPQRSTUVWXYZabcdefghijklmnopqrstuvwxyz .,!?&\\n\"\n",
    "# print(len(ALPHABET))\n",
    "\n",
    "KEY_MATRIX_2x2 = np.array([\n",
    "    [3, 2],\n",
    "    [5, 7]\n",
    "])\n",
    "\n",
    "text1 = open('text/one.txt').read()\n",
    "text2 = open('text/two.txt').read()\n",
    "text3 = open('text/our_super_secret_message.txt').read()"
   ],
   "outputs": [],
   "execution_count": 46
  },
  {
   "metadata": {},
   "cell_type": "markdown",
   "source": "Functions that will help us with encrypting and decrypting our secret messages!",
   "id": "12dc1ec93b09be3a"
  },
  {
   "cell_type": "code",
   "source": [
    "def generate_key_matrix(n, modulo):\n",
    "    while True:\n",
    "        key_matrix = np.random.randint(0, modulo, size=(n, n))\n",
    "\n",
    "        # Calculating the determinant with Mod\n",
    "        a, b = key_matrix[0]\n",
    "        c, d = key_matrix[1]\n",
    "        det = (a*d - b*c) % modulo\n",
    "        if math.gcd(det, modulo) == 1:\n",
    "            try:\n",
    "                inverse_key_matrix = inverse_2x2_mod(key_matrix, modulo)\n",
    "                return key_matrix, inverse_key_matrix\n",
    "            except ValueError:\n",
    "                continue\n",
    "        else:\n",
    "            print(\"Failed Iteration\")\n",
    "\n",
    "\n",
    "def generate_key_matrix_nxn(n, modulo):\n",
    "    while True:\n",
    "        key_matrix = np.random.randint(0, modulo, size=(n, n))\n",
    "        det = int(round(np.linalg.det(key_matrix))) % modulo\n",
    "        if math.gcd(det, modulo) == 1:\n",
    "            try:\n",
    "                inverse_key_matrix = inverse_nxn_mod(key_matrix, modulo)\n",
    "                return key_matrix, inverse_key_matrix\n",
    "            except ValueError:\n",
    "                continue\n",
    "        else:\n",
    "            # All matrices must be invertible\n",
    "            pass\n",
    "\n",
    "\n",
    "def inverse_2x2_mod(matrix, modulo):\n",
    "    a, b = matrix[0]\n",
    "    c, d = matrix[1]\n",
    "    det = int((a*d - b*c) % modulo)\n",
    "    if math.gcd(det, modulo) != 1:\n",
    "        raise ValueError(\"Matrix not invertible modulo {}\".format(modulo))\n",
    "    det_inv = pow(det, -1, modulo)\n",
    "    return (det_inv * np.array([[d, -b],\n",
    "                                [-c, a]])) % modulo\n",
    "\n",
    "\n",
    "# Inverting matrices with >2 rows and columns requires GCD since it is not guaranteed that rows and columns will be the same number, so we need to look at the coprime of them\n",
    "def inverse_nxn_mod(matrix, modulo):\n",
    "    A = np.array(matrix, dtype=int) % modulo\n",
    "    n = A.shape[0]\n",
    "\n",
    "    I = np.eye(n, dtype=int)\n",
    "\n",
    "    # Perform Gaussian elimination\n",
    "    for i in range(n):\n",
    "        # Find pivot (row with non-zero element in column i)\n",
    "        for r in range(i, n):\n",
    "            if A[r, i] % modulo != 0:\n",
    "                # Swap pivot row if necessary\n",
    "                if r != i:\n",
    "                    A[[i, r]] = A[[r, i]]\n",
    "                    I[[i, r]] = I[[r, i]]\n",
    "                break\n",
    "        else:\n",
    "            # No pivot found, matrix not invertible\n",
    "            raise ValueError(\"Matrix not invertible modulo {}\".format(modulo))\n",
    "\n",
    "        # Normalize pivot row\n",
    "        inv_pivot = pow(int(A[i, i]), -1, modulo)\n",
    "        A[i] = (A[i] * inv_pivot) % modulo\n",
    "        I[i] = (I[i] * inv_pivot) % modulo\n",
    "\n",
    "        # Eliminate other rows\n",
    "        for r in range(n):\n",
    "            if r != i:\n",
    "                factor = A[r, i] % modulo\n",
    "                if factor != 0:\n",
    "                    A[r] = (A[r] - factor * A[i]) % modulo\n",
    "                    I[r] = (I[r] - factor * I[i]) % modulo\n",
    "\n",
    "    return I % modulo\n",
    "\n",
    "\n",
    "def encrypt(plaintext, key_matrix, modulo, alphabet):\n",
    "    # Map chars to numbers from 0 to len(alphabet)-1\n",
    "    char_to_num = {char: idx for idx, char in enumerate(alphabet)}\n",
    "    num_to_char = {v: k for k, v in char_to_num.items()}\n",
    "    padding_val = len(alphabet)  # Use a padding value outside the char range\n",
    "\n",
    "    # Convert plaintext to numbers\n",
    "    numbers = [char_to_num[c] for c in plaintext if c in char_to_num]\n",
    "\n",
    "    # Pad if necessary\n",
    "    if len(numbers) % 2 != 0:\n",
    "        numbers.append(padding_val)\n",
    "\n",
    "    plaintext_matrix = np.array(numbers).reshape(-1, 2).T\n",
    "    ciphertext_matrix = (key_matrix.dot(plaintext_matrix) % modulo).T\n",
    "\n",
    "    # Convert back to chars (skip padding_val when converting back)\n",
    "    ciphertext = []\n",
    "    for pair in ciphertext_matrix:\n",
    "        for num in pair:\n",
    "            if num != padding_val:\n",
    "                if num in num_to_char:\n",
    "                    ciphertext.append(num_to_char[num])\n",
    "                else:\n",
    "                    # If something unexpected, place a placeholder\n",
    "                    ciphertext.append('?')\n",
    "    return ''.join(ciphertext), ciphertext_matrix\n",
    "\n",
    "\n",
    "def encrypt_nxn(plaintext, key_matrix, modulo, alphabet):\n",
    "    # Map chars to numbers from 0 to len(alphabet)-1\n",
    "    n = key_matrix.shape[0]\n",
    "    char_to_num = {char: idx for idx, char in enumerate(alphabet)}\n",
    "    num_to_char = {v: k for k, v in char_to_num.items()}\n",
    "    padding_val = len(alphabet)  # Use a padding value outside the char range\n",
    "\n",
    "    # Convert plaintext to numbers\n",
    "    numbers = [char_to_num[c] for c in plaintext if c in char_to_num]\n",
    "\n",
    "    # Pad if necessary\n",
    "    remainder = len(numbers) % n\n",
    "    if remainder != 0:\n",
    "        numbers.extend([padding_val] * (n - remainder))\n",
    "\n",
    "    plaintext_matrix = np.array(numbers).reshape(-1, n).T\n",
    "    ciphertext_matrix = (key_matrix.dot(plaintext_matrix) % modulo).T\n",
    "\n",
    "    # Convert back to chars (skip padding_val when converting back)\n",
    "    ciphertext = []\n",
    "    for pair in ciphertext_matrix:\n",
    "        for num in pair:\n",
    "            if num != padding_val:\n",
    "                if num in num_to_char:\n",
    "                    ciphertext.append(num_to_char[num])\n",
    "                else:\n",
    "                    # If something unexpected, place a placeholder\n",
    "                    ciphertext.append('?')\n",
    "    return ''.join(ciphertext), ciphertext_matrix\n",
    "\n",
    "\n",
    "def decrypt(ciphertext, inverse_key_matrix, modulo, alphabet):\n",
    "    char_to_num = {char: idx for idx, char in enumerate(alphabet)}\n",
    "    num_to_char = {v: k for k, v in char_to_num.items()}\n",
    "    padding_val = len(alphabet)\n",
    "\n",
    "    numbers = [char_to_num[c] for c in ciphertext if c in char_to_num]\n",
    "    if len(numbers) % 2 != 0:\n",
    "        numbers.append(padding_val)\n",
    "\n",
    "    cipher_matrix = np.array(numbers).reshape(-1, 2)\n",
    "    decrypted_matrix = (inverse_key_matrix.dot(cipher_matrix.T) % modulo).T\n",
    "\n",
    "    # Convert back to text and remove padding\n",
    "    plaintext_chars = []\n",
    "    for pair in decrypted_matrix:\n",
    "        for num in pair:\n",
    "            if num == padding_val:\n",
    "                # Padding encountered, skip it\n",
    "                continue\n",
    "            if num in num_to_char:\n",
    "                plaintext_chars.append(num_to_char[num])\n",
    "            else:\n",
    "                plaintext_chars.append('?')\n",
    "    return ''.join(plaintext_chars)\n",
    "\n",
    "\n",
    "def decrypt_nxn(ciphertext, inverse_key_matrix, modulo, alphabet):\n",
    "    n = inverse_key_matrix.shape[0]\n",
    "    char_to_num = {char: idx for idx, char in enumerate(alphabet)}\n",
    "    num_to_char = {v: k for k, v in char_to_num.items()}\n",
    "    padding_val = len(alphabet)\n",
    "\n",
    "    numbers = [char_to_num[c] for c in ciphertext if c in char_to_num]\n",
    "    remainder = len(numbers) % n\n",
    "    if remainder != 0:\n",
    "        numbers.extend([padding_val] * (n - remainder))\n",
    "\n",
    "    cipher_matrix = np.array(numbers).reshape(-1, n)\n",
    "    decrypted_matrix = (inverse_key_matrix.dot(cipher_matrix.T) % modulo).T\n",
    "\n",
    "    # Convert back to text and remove padding\n",
    "    plaintext_chars = []\n",
    "    for pair in decrypted_matrix:\n",
    "        for num in pair:\n",
    "            if num == padding_val:\n",
    "                # Padding encountered, skip it\n",
    "                continue\n",
    "            if num in num_to_char:\n",
    "                plaintext_chars.append(num_to_char[num])\n",
    "            else:\n",
    "                plaintext_chars.append('?')\n",
    "    dec = ''.join(plaintext_chars)\n",
    "    return dec.rstrip('A')\n",
    "\n",
    "\n",
    "def generate_random_string(alphabet, l):\n",
    "    return ''.join(random.choice(alphabet) for _ in range(l))\n",
    "\n",
    "\n",
    "def test_encryption_decryption(l):\n",
    "    plaintext = generate_random_string(ALPHABET, l)\n",
    "    ciphertext, ciphertext_matrix = encrypt(plaintext, KEY_MATRIX_2x2, MODULO, ALPHABET)\n",
    "    decrypted_text = decrypt(ciphertext, inverse_key_matrix, MODULO, ALPHABET)\n",
    "    return plaintext, decrypted_text, plaintext == decrypted_text"
   ],
   "metadata": {
    "collapsed": false,
    "ExecuteTime": {
     "end_time": "2024-12-11T02:57:49.185735Z",
     "start_time": "2024-12-11T02:57:49.172629Z"
    }
   },
   "id": "33c9131fcbfa8bb0",
   "outputs": [],
   "execution_count": 47
  },
  {
   "metadata": {},
   "cell_type": "markdown",
   "source": "First testing our matrix to make sure it is invertible and therefore useable for our purposes.",
   "id": "3f1d0ecaf506f153"
  },
  {
   "cell_type": "code",
   "source": [
    "inverse_key_matrix = inverse_2x2_mod(KEY_MATRIX_2x2, MODULO)\n",
    "\n",
    "for idx in range(1, 51):\n",
    "    plaintext, decrypted_text, result = test_encryption_decryption(200)\n",
    "    if result:\n",
    "        print(f\"Test {idx}: True\")\n",
    "    else:\n",
    "        print(f\"Test {idx}: False\")\n",
    "        print(f\"  Original: {plaintext}\")\n",
    "        print(f\"  Decrypted: {decrypted_text}\")"
   ],
   "metadata": {
    "collapsed": false,
    "ExecuteTime": {
     "end_time": "2024-12-11T02:57:49.201579Z",
     "start_time": "2024-12-11T02:57:49.189049Z"
    }
   },
   "id": "1a4d3f1e85aebb8a",
   "outputs": [
    {
     "name": "stdout",
     "output_type": "stream",
     "text": [
      "Test 1: True\n",
      "Test 2: True\n",
      "Test 3: True\n",
      "Test 4: True\n",
      "Test 5: True\n",
      "Test 6: True\n",
      "Test 7: True\n",
      "Test 8: True\n",
      "Test 9: True\n",
      "Test 10: True\n",
      "Test 11: True\n",
      "Test 12: True\n",
      "Test 13: True\n",
      "Test 14: True\n",
      "Test 15: True\n",
      "Test 16: True\n",
      "Test 17: True\n",
      "Test 18: True\n",
      "Test 19: True\n",
      "Test 20: True\n",
      "Test 21: True\n",
      "Test 22: True\n",
      "Test 23: True\n",
      "Test 24: True\n",
      "Test 25: True\n",
      "Test 26: True\n",
      "Test 27: True\n",
      "Test 28: True\n",
      "Test 29: True\n",
      "Test 30: True\n",
      "Test 31: True\n",
      "Test 32: True\n",
      "Test 33: True\n",
      "Test 34: True\n",
      "Test 35: True\n",
      "Test 36: True\n",
      "Test 37: True\n",
      "Test 38: True\n",
      "Test 39: True\n",
      "Test 40: True\n",
      "Test 41: True\n",
      "Test 42: True\n",
      "Test 43: True\n",
      "Test 44: True\n",
      "Test 45: True\n",
      "Test 46: True\n",
      "Test 47: True\n",
      "Test 48: True\n",
      "Test 49: True\n",
      "Test 50: True\n"
     ]
    }
   ],
   "execution_count": 48
  },
  {
   "metadata": {},
   "cell_type": "markdown",
   "source": "Now let's look at our encrypting a message using our predefined KEY_MATRIX_2x2",
   "id": "fd4c5f07fa2ffd0a"
  },
  {
   "metadata": {
    "collapsed": false,
    "ExecuteTime": {
     "end_time": "2024-12-11T02:58:23.434955Z",
     "start_time": "2024-12-11T02:58:23.426795Z"
    }
   },
   "cell_type": "code",
   "source": [
    "MESSAGE = text1\n",
    "\n",
    "inverse_key_matrix = inverse_2x2_mod(KEY_MATRIX_2x2, MODULO)\n",
    "print(f\"Key Matrix:\\n{KEY_MATRIX_2x2}\")\n",
    "print(f\"Inverse Key Matrix:\\n{inverse_key_matrix}\")\n",
    "\n",
    "ciphertext, ciphertext_matrix = encrypt(MESSAGE, KEY_MATRIX_2x2, MODULO, ALPHABET)\n",
    "print(f\"Ciphertext Matrix:\\n{ciphertext_matrix}\")\n",
    "\n",
    "decrypted_text = decrypt(ciphertext, inverse_key_matrix, MODULO, ALPHABET)\n",
    "print(f\"Ciphertext: {ciphertext}\")\n",
    "print(f\"Condition: {np.linalg.cond(KEY_MATRIX_2x2)}\")\n",
    "\n",
    "original_text = MESSAGE\n",
    "\n",
    "original_button = widgets.Button(description=\"Show Original Text\")\n",
    "decrypted_button = widgets.Button(description=\"Show Decrypted Text\")\n",
    "original_output = widgets.Output()\n",
    "decrypted_output = widgets.Output()\n",
    "\n",
    "def show_original_text(button):\n",
    "    with original_output:\n",
    "        original_output.clear_output()\n",
    "        print(original_text)\n",
    "\n",
    "def show_decrypted_text(button):\n",
    "    with decrypted_output:\n",
    "        decrypted_output.clear_output()\n",
    "        print(decrypted_text)\n",
    "\n",
    "original_button.on_click(show_original_text)\n",
    "decrypted_button.on_click(show_decrypted_text)\n",
    "\n",
    "display(original_button, original_output)\n",
    "display(decrypted_button, decrypted_output)\n"
   ],
   "id": "5eeb9832cb154c86",
   "outputs": [
    {
     "name": "stdout",
     "output_type": "stream",
     "text": [
      "Key Matrix:\n",
      "[[3 2]\n",
      " [5 7]]\n",
      "Inverse Key Matrix:\n",
      "[[ 6 32]\n",
      " [21 11]]\n",
      "Ciphertext Matrix:\n",
      "[[22  9]\n",
      " [ 8 31]\n",
      " [47 33]\n",
      " [18 56]\n",
      " [57  2]\n",
      " [36 42]\n",
      " [17 42]\n",
      " [13  6]\n",
      " [ 5 56]\n",
      " [40 12]]\n",
      "Ciphertext: WJIfvhS?&CkqRqNGF?oM\n",
      "Condition: 7.780565547548909\n"
     ]
    },
    {
     "data": {
      "text/plain": [
       "Button(description='Show Original Text', style=ButtonStyle())"
      ],
      "application/vnd.jupyter.widget-view+json": {
       "version_major": 2,
       "version_minor": 0,
       "model_id": "e0247bb3b91140fcadf4205fc8c2c4df"
      }
     },
     "metadata": {},
     "output_type": "display_data"
    },
    {
     "data": {
      "text/plain": [
       "Output()"
      ],
      "application/vnd.jupyter.widget-view+json": {
       "version_major": 2,
       "version_minor": 0,
       "model_id": "463d930afe00491ea3890c51d9891f53"
      }
     },
     "metadata": {},
     "output_type": "display_data"
    },
    {
     "data": {
      "text/plain": [
       "Button(description='Show Decrypted Text', style=ButtonStyle())"
      ],
      "application/vnd.jupyter.widget-view+json": {
       "version_major": 2,
       "version_minor": 0,
       "model_id": "d200abc4c4494b9fa6f2dc0c40735ce5"
      }
     },
     "metadata": {},
     "output_type": "display_data"
    },
    {
     "data": {
      "text/plain": [
       "Output()"
      ],
      "application/vnd.jupyter.widget-view+json": {
       "version_major": 2,
       "version_minor": 0,
       "model_id": "2dcc150ccbfe4ae18dd44f9aa3a50462"
      }
     },
     "metadata": {},
     "output_type": "display_data"
    }
   ],
   "execution_count": 55
  },
  {
   "cell_type": "code",
   "source": [
    "MESSAGE = text1\n",
    "\n",
    "key_matrix, inverse_key_matrix = generate_key_matrix(2, MODULO)\n",
    "\n",
    "print(f\"Key Matrix:\\n{key_matrix}\")\n",
    "print(f\"Inverse Key Matrix:\\n{inverse_key_matrix}\")\n",
    "\n",
    "ciphertext, ciphertext_matrix = encrypt(MESSAGE, key_matrix, MODULO, ALPHABET)\n",
    "print(f\"Ciphertext Matrix:\\n{ciphertext_matrix}\")\n",
    "\n",
    "decrypted_text = decrypt(ciphertext, inverse_key_matrix, MODULO, ALPHABET)\n",
    "print(f\"Ciphertext: {ciphertext}\")\n",
    "print(f\"Condition: {np.linalg.cond(key_matrix)}\")\n",
    "\n",
    "original_text = MESSAGE\n",
    "\n",
    "original_button = widgets.Button(description=\"Show Original Text\")\n",
    "decrypted_button = widgets.Button(description=\"Show Decrypted Text\")\n",
    "original_output = widgets.Output()\n",
    "decrypted_output = widgets.Output()\n",
    "\n",
    "def show_original_text(button):\n",
    "    with original_output:\n",
    "        original_output.clear_output()\n",
    "        print(original_text)\n",
    "\n",
    "def show_decrypted_text(button):\n",
    "    with decrypted_output:\n",
    "        decrypted_output.clear_output()\n",
    "        print(decrypted_text)\n",
    "\n",
    "original_button.on_click(show_original_text)\n",
    "decrypted_button.on_click(show_decrypted_text)\n",
    "\n",
    "display(original_button, original_output)\n",
    "display(decrypted_button, decrypted_output)"
   ],
   "metadata": {
    "collapsed": false,
    "ExecuteTime": {
     "end_time": "2024-12-11T02:59:45.489642Z",
     "start_time": "2024-12-11T02:59:45.480559Z"
    }
   },
   "id": "960b069258a8220c",
   "outputs": [
    {
     "name": "stdout",
     "output_type": "stream",
     "text": [
      "Key Matrix:\n",
      "[[48 55]\n",
      " [29 20]]\n",
      "Inverse Key Matrix:\n",
      "[[52 34]\n",
      " [19 54]]\n",
      "Ciphertext Matrix:\n",
      "[[39 36]\n",
      " [35 43]\n",
      " [ 1 17]\n",
      " [22 50]\n",
      " [39 46]\n",
      " [34 39]\n",
      " [52 22]\n",
      " [40 37]\n",
      " [25 57]\n",
      " [45 12]]\n",
      "Ciphertext: nkjrBRWynuin WolZ&tM\n",
      "Condition: 10.248885104412558\n"
     ]
    },
    {
     "data": {
      "text/plain": [
       "Button(description='Show Original Text', style=ButtonStyle())"
      ],
      "application/vnd.jupyter.widget-view+json": {
       "version_major": 2,
       "version_minor": 0,
       "model_id": "12193d2cd5654f8dba9960ec47a54df7"
      }
     },
     "metadata": {},
     "output_type": "display_data"
    },
    {
     "data": {
      "text/plain": [
       "Output()"
      ],
      "application/vnd.jupyter.widget-view+json": {
       "version_major": 2,
       "version_minor": 0,
       "model_id": "c029e52bb4514f6ca5ac14b32dd4083d"
      }
     },
     "metadata": {},
     "output_type": "display_data"
    },
    {
     "data": {
      "text/plain": [
       "Button(description='Show Decrypted Text', style=ButtonStyle())"
      ],
      "application/vnd.jupyter.widget-view+json": {
       "version_major": 2,
       "version_minor": 0,
       "model_id": "51c08ce4ff154b3fa74247b08af26f49"
      }
     },
     "metadata": {},
     "output_type": "display_data"
    },
    {
     "data": {
      "text/plain": [
       "Output()"
      ],
      "application/vnd.jupyter.widget-view+json": {
       "version_major": 2,
       "version_minor": 0,
       "model_id": "7b37d9b10cdf4572833936cd5e062e06"
      }
     },
     "metadata": {},
     "output_type": "display_data"
    }
   ],
   "execution_count": 59
  },
  {
   "metadata": {
    "collapsed": false,
    "ExecuteTime": {
     "end_time": "2024-12-11T03:00:58.349845Z",
     "start_time": "2024-12-11T03:00:58.338771Z"
    }
   },
   "cell_type": "code",
   "source": [
    "MESSAGE = text3\n",
    "KEY_MATRIX_SIZE = 7\n",
    "\n",
    "key_matrix, inverse_key_matrix = generate_key_matrix_nxn(KEY_MATRIX_SIZE, MODULO)\n",
    "\n",
    "ciphertext, ciphertext_matrix = encrypt_nxn(MESSAGE, key_matrix, MODULO, ALPHABET)\n",
    "print(\"Plain Text Length:\", len(text1))\n",
    "print(\"Ciphertext Length:\", len(ciphertext))\n",
    "\n",
    "print(f\"Key Matrix:\\n{key_matrix}\")\n",
    "print(f\"Inverse Key Matrix:\\n{inverse_key_matrix}\")\n",
    "\n",
    "decrypted_text = decrypt_nxn(ciphertext, inverse_key_matrix, MODULO, ALPHABET)\n",
    "print(f\"Ciphertext: {ciphertext}\")\n",
    "\n",
    "original_text = MESSAGE\n",
    "\n",
    "original_button = widgets.Button(description=\"Show Original Text\")\n",
    "decrypted_button = widgets.Button(description=\"Show Decrypted Text\")\n",
    "original_output = widgets.Output()\n",
    "decrypted_output = widgets.Output()\n",
    "\n",
    "def show_original_text(button):\n",
    "    with original_output:\n",
    "        original_output.clear_output()\n",
    "        print(original_text)\n",
    "\n",
    "def show_decrypted_text(button):\n",
    "    with decrypted_output:\n",
    "        decrypted_output.clear_output()\n",
    "        print(decrypted_text)\n",
    "\n",
    "original_button.on_click(show_original_text)\n",
    "decrypted_button.on_click(show_decrypted_text)\n",
    "\n",
    "display(original_button, original_output)\n",
    "display(decrypted_button, decrypted_output)"
   ],
   "id": "5cf3dbb61281f0ae",
   "outputs": [
    {
     "name": "stdout",
     "output_type": "stream",
     "text": [
      "Plain Text Length: 20\n",
      "Ciphertext Length: 1701\n",
      "Key Matrix:\n",
      "[[23 21 40 30 17 52 58]\n",
      " [38 22 40 17 21 40 51]\n",
      " [48  9 56 55  2 58 31]\n",
      " [ 6 53 32 28 10 23 27]\n",
      " [52  4  5 39 48 51 35]\n",
      " [ 4 45  1 43 13 10  5]\n",
      " [18 42 17 30 25 15 44]]\n",
      "Inverse Key Matrix:\n",
      "[[26 12 57 39  7  7 53]\n",
      " [54 21 29  3 13 46 49]\n",
      " [27  5 20 58 42 37 51]\n",
      " [36 16 42  5 35 22 48]\n",
      " [39 10 49 43 26 26  8]\n",
      " [24 58 51 11 14 36 39]\n",
      " [20 40 31 13 27 35 45]]\n",
      "Ciphertext: UoWEmZdlJy .OwkPWOdi.&sV,v,ElXsquKLWFqTeCws&zxnUVkQ&FSwtz\n",
      "w&W?!xcTbOM?ecRBvdr\n",
      "A?tOUwyJYWWNxYhMQ.vYZSrVLqFC KW\n",
      "nEXektkTRUVqOVTK.\n",
      "jOHyM ,HMX.l\n",
      "MnWS lF,u&jfg?YggcFmHeeiwxKgANiwuHFcXUBxFa,PTNZLrDiqgQrQAZoGWs OquNa,EurIiFUIYsZR&YYwAjNxU?zHeJ&IJNaHpwoKahp,Dv OquNa,rPnAs&TRixAFDJFDJ!p!rO.RVOXlYwAjNxUskerrZPeKnICqjbfewkvJ OquNa,gAH?duUromLov\n",
      "YwAjNxUNuxTlK\n",
      "?dFn.L\n",
      "aCCRekOReZzcgIQAGxQNpqHEuHBXbMd!jJe&ss!QHVh.lfaOuG.QEEevkJysWKL, ,GIpYMNRbCQOUSVkuz.Labmmwmw,JRdu jDheatEjwEPkvDdruoMZL?JgWzzgAUHipkj\n",
      "aJMCKMRqENPDaa,YnvzMwAVkc?ldqIFXHUlfPTFkchuWI!Sk\n",
      "dmtDSb&oVNrxrcJc&lsmHeeiwxKus&TwkWMrKZtKxe,lIvCE?iAhrfuo.V TquLQ&?Y\n",
      "UYwAjNxUpLAfuoXYmSOYjoIzEvC,,op?bDaIiII,GpBitHDUOOYwAjNxUTNVr?yazmqeQoIKlpxBGNxfU FLxIzEvC,,nhc,mf kKuDwTSc eHmizYwAjNxUtyZGyCQ,a&abbCIzEvC,,gkJHvHGFoFmebZTT\n",
      "nO!kmeh&yKn.?PYFf! OquNa,EurIiFUIYsZR&YYwAjNxU?zHeJ&IJNaHpwoKahp,Dv OquNa,rPnAs&TRixAFDJFDJ!p!rO.RVOXlYwAjNxUskerrZPeKnICqjbfewkvJ OquNa,gAH?duUromLov\n",
      "YwAjNxUNuxTlK\n",
      "?dFn.L\n",
      "aCCRekOReZzcgIQAGxQNpqHEuHBXbMd!jJe&ss!QHVh.lfaOuG.QEEevkJysWKL, ,GIpYMNRbCQOUSVkuz.Labmmwmw,JRdu jDheatEjwEPkvDdruoMZL?JgWzzgAUHipkj\n",
      "aJMCKMRqENPDaa,YnvzMwAVkc?ldqIFXHUlfPTFkcZpivo\n",
      "iQKLZNzdwKHPDsAbnkarEbAP!&aEmgVEgqQbsQZ.jqxGM?jXMSfQaIuGH zf\n",
      "PdeIVWgRAHgUC&.fysf!\n",
      "Sg!?rL.oLY OquNa,!LD,WsqPpk\n",
      "dxYIVWgRAHZcAycSjJseNBaIsFVYOEIOlEqbql.?PYFf! OquNa,GM?jXMSjshBXgkIVWgRAH.uJPfEIZ,OCZ&?nmOu\n",
      "aD OquNa,IAa.,v\n",
      "ojpI.mIBzAEkuDbbqJqWScG.IaofOKoB&ZhTiC!XKIIVWgRAHdoNUTubaPEJHlkFAJoRitcG.IaoftPvAqCQXhZGttnHgjbkYwarpsIuZIVWgRAHYgjxUhJD&cslBeD tDllEcG.IaofdqgOtOGLfEIwQMIVWgRAH!kRCFz H\n",
      "leA&!AlpRLGFgpz\n",
      "HFbgRHMNZZsxxafx?zdoKEYfBbxQn&icG.IaofCiSt WSnzk\n",
      "IfPgRHMNZZOn?NJqpknds&AA&i.rwJTe?jCkYhbbqJqWScG.IaofVwsyZy!!iGM.?VgRHMNZZbDZbJLCnDTiWtRn!Yvay&cG.IaofdKK\n",
      "Vdm\n",
      "xAA&V\n",
      "sbsBBNM,Sa&oo\n",
      "\n"
     ]
    },
    {
     "data": {
      "text/plain": [
       "Button(description='Show Original Text', style=ButtonStyle())"
      ],
      "application/vnd.jupyter.widget-view+json": {
       "version_major": 2,
       "version_minor": 0,
       "model_id": "e57e5eaba92b4f948f2d2147dfc5e7ee"
      }
     },
     "metadata": {},
     "output_type": "display_data"
    },
    {
     "data": {
      "text/plain": [
       "Output()"
      ],
      "application/vnd.jupyter.widget-view+json": {
       "version_major": 2,
       "version_minor": 0,
       "model_id": "07a12297974d4026ad10f31012b24a24"
      }
     },
     "metadata": {},
     "output_type": "display_data"
    },
    {
     "data": {
      "text/plain": [
       "Button(description='Show Decrypted Text', style=ButtonStyle())"
      ],
      "application/vnd.jupyter.widget-view+json": {
       "version_major": 2,
       "version_minor": 0,
       "model_id": "8cad7fbfeba04cec8f3f5af5fd69d945"
      }
     },
     "metadata": {},
     "output_type": "display_data"
    },
    {
     "data": {
      "text/plain": [
       "Output()"
      ],
      "application/vnd.jupyter.widget-view+json": {
       "version_major": 2,
       "version_minor": 0,
       "model_id": "462e8a4dd7984e2da2a1b80c2c301aa8"
      }
     },
     "metadata": {},
     "output_type": "display_data"
    }
   ],
   "execution_count": 64
  }
 ],
 "metadata": {
  "kernelspec": {
   "display_name": "Python 3",
   "language": "python",
   "name": "python3"
  },
  "language_info": {
   "codemirror_mode": {
    "name": "ipython",
    "version": 2
   },
   "file_extension": ".py",
   "mimetype": "text/x-python",
   "name": "python",
   "nbconvert_exporter": "python",
   "pygments_lexer": "ipython2",
   "version": "2.7.6"
  }
 },
 "nbformat": 4,
 "nbformat_minor": 5
}
