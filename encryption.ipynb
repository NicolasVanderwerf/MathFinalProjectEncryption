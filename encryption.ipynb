{
 "cells": [
  {
   "cell_type": "code",
   "execution_count": 48,
   "id": "initial_id",
   "metadata": {
    "collapsed": true,
    "ExecuteTime": {
     "end_time": "2024-12-04T23:14:57.313360Z",
     "start_time": "2024-12-04T23:14:57.310693Z"
    }
   },
   "outputs": [],
   "source": [
    "import numpy as np\n",
    "from math import gcd\n",
    "import sympy as sp"
   ]
  },
  {
   "cell_type": "code",
   "outputs": [],
   "source": [
    "def generateKeyMatrix(n, modulo):\n",
    "    while True:\n",
    "        key_matrix = np.random.randint(1, modulo, size=(n, n))\n",
    "        try:\n",
    "            inverse_key_matrix = inverse(key_matrix, modulo)\n",
    "            return key_matrix, inverse_key_matrix\n",
    "        except ValueError:\n",
    "            continue  # Regenerate if not invertible"
   ],
   "metadata": {
    "collapsed": false,
    "ExecuteTime": {
     "end_time": "2024-12-04T23:14:57.317980Z",
     "start_time": "2024-12-04T23:14:57.315166Z"
    }
   },
   "id": "33c9131fcbfa8bb0",
   "execution_count": 49
  },
  {
   "cell_type": "code",
   "outputs": [],
   "source": [
    "def inverse(matrix, modulo):\n",
    "    det = int(round(np.linalg.det(matrix))) % modulo\n",
    "    det_inv = pow(det, -1, modulo)  # Modular inverse of determinant\n",
    "    adjugate = np.round(np.linalg.inv(matrix) * det).astype(int) % modulo\n",
    "    return (det_inv * adjugate) % modulo"
   ],
   "metadata": {
    "collapsed": false,
    "ExecuteTime": {
     "end_time": "2024-12-04T23:14:57.320613Z",
     "start_time": "2024-12-04T23:14:57.318716Z"
    }
   },
   "id": "855480cf7414a0e5",
   "execution_count": 50
  },
  {
   "cell_type": "code",
   "outputs": [],
   "source": [
    "def encrypt(plaintext, key_matrix, modulo, alphabet):\n",
    "    # Map characters to numbers\n",
    "    char_to_num = {char: idx + 1 for idx, char in enumerate(alphabet)}\n",
    "    num_to_char = {v: k for k, v in char_to_num.items()}\n",
    "\n",
    "    # Convert plaintext to numbers and pair into groups\n",
    "    numbers = [char_to_num[char] for char in plaintext if char in char_to_num]\n",
    "    if len(numbers) % 2 != 0:\n",
    "        numbers.append(0)  # Padding if necessary\n",
    "\n",
    "    plaintext_matrix = np.array(numbers).reshape(-1, 2).T\n",
    "    print(\"Original Matrix: \\n\", np.array(numbers).reshape(-1, 2))\n",
    "    ciphertext_matrix = (np.dot(key_matrix, plaintext_matrix) % modulo).T\n",
    "\n",
    "    # Convert numbers back to characters\n",
    "    ciphertext = ''.join(num_to_char.get(num, '') for pair in ciphertext_matrix for num in pair if num != 0)\n",
    "    return ciphertext, ciphertext_matrix"
   ],
   "metadata": {
    "collapsed": false,
    "ExecuteTime": {
     "end_time": "2024-12-04T23:14:57.329702Z",
     "start_time": "2024-12-04T23:14:57.326324Z"
    }
   },
   "id": "2c7da1b404df69e5",
   "execution_count": 52
  },
  {
   "cell_type": "code",
   "outputs": [],
   "source": [
    "def decrypt(ciphertext, inverse_key_matrix, modulo, alphabet):\n",
    "    # Map numbers back to plaintext\n",
    "    char_to_num = {char: idx + 1 for idx, char in enumerate(alphabet)}\n",
    "    num_to_char = {v: k for k, v in char_to_num.items()}\n",
    "\n",
    "    numbers = [char_to_num[char] for char in ciphertext if char in char_to_num]\n",
    "    if len(numbers) % 2 != 0:\n",
    "        numbers.append(0)  # Padding if necessary\n",
    "\n",
    "    cipher_matrix = np.array(numbers).reshape(-1, 2)\n",
    "\n",
    "    decrypted_matrix = (np.dot(inverse_key_matrix, cipher_matrix.T) % modulo).T\n",
    "    text = ''.join(num_to_char.get(int(round(num)), '') for pair in decrypted_matrix for num in pair if num != 0)\n",
    "    return text"
   ],
   "metadata": {
    "collapsed": false,
    "ExecuteTime": {
     "end_time": "2024-12-04T23:14:57.333230Z",
     "start_time": "2024-12-04T23:14:57.330501Z"
    }
   },
   "id": "d802c365f5648805",
   "execution_count": 53
  },
  {
   "cell_type": "code",
   "outputs": [
    {
     "name": "stdout",
     "output_type": "stream",
     "text": [
      "Key Matrix:\n",
      "[[3 2]\n",
      " [5 7]]\n",
      "Inverse Key Matrix:\n",
      "[[35 29]\n",
      " [44 15]]\n",
      "Original Matrix: \n",
      " [[ 8 31]\n",
      " [38 38]\n",
      " [41 53]\n",
      " [13 51]\n",
      " [53 40]\n",
      " [27 39]\n",
      " [31 53]\n",
      " [35 45]\n",
      " [53 14]\n",
      " [35 29]]\n",
      "Ciphertext Matrix:\n",
      "[[32 41]\n",
      " [28 24]\n",
      " [13 36]\n",
      " [33 44]\n",
      " [23  5]\n",
      " [51 30]\n",
      " [37 40]\n",
      " [33  4]\n",
      " [25 39]\n",
      " [ 1  0]]\n",
      "Original Text: Hello My name is Nic\n",
      "Ciphertext: fobXMjgrWEydkngDYmA\n",
      "Decrypted Text: oYBZofAFfGIvYNcHKir\n",
      "Original Matrix: \n",
      " [[ 8 31]\n",
      " [38 38]\n",
      " [41 53]\n",
      " [13 51]\n",
      " [53 40]\n",
      " [27 39]\n",
      " [31 53]\n",
      " [35 45]\n",
      " [53 14]\n",
      " [35 29]]\n",
      "Ciphertext: sGBbBGrosPXsd tAuDNe\n",
      "Decrypted Text: oDHrTEzUEMChifUouxQ\n"
     ]
    }
   ],
   "source": [
    "modulo = 54  # Adjust modulo to match extended alphabet size\n",
    "alphabet = \"ABCDEFGHIJKLMNOPQRSTUVWXYZabcdefghijklmnopqrstuvwxyz .,!?\"\n",
    "\n",
    "plaintext = \"Hello My name is Nic\"\n",
    "key_matrix = np.array([[3, 2], [5, 7]])\n",
    "\n",
    "# Compute inverse key matrix dynamically\n",
    "inverse_key_matrix = inverse(key_matrix, modulo)\n",
    "print(f\"Key Matrix:\\n{key_matrix}\")\n",
    "print(f\"Inverse Key Matrix:\\n{inverse_key_matrix}\")\n",
    "\n",
    "# Encrypt the plaintext\n",
    "ciphertext, ciphertext_matrix = encrypt(plaintext, key_matrix, modulo, alphabet)\n",
    "print(f\"Ciphertext Matrix:\\n{ciphertext_matrix}\")\n",
    "\n",
    "# Decrypt the ciphertext\n",
    "decrypted_text = decrypt(ciphertext, inverse_key_matrix, modulo, alphabet)\n",
    "print(\"Original Text:\", plaintext)\n",
    "print(f\"Ciphertext: {ciphertext}\")\n",
    "print(f\"Decrypted Text: {decrypted_text}\")\n",
    "\n",
    "ciphertext, ciphertext_matrix = encrypt(plaintext, inverse_key_matrix, modulo, alphabet)\n",
    "decrypted_text = decrypt(ciphertext, key_matrix, modulo, alphabet)\n",
    "print(f\"Ciphertext: {ciphertext}\")\n",
    "print(f\"Decrypted Text: {decrypted_text}\")"
   ],
   "metadata": {
    "collapsed": false,
    "ExecuteTime": {
     "end_time": "2024-12-04T23:14:57.337665Z",
     "start_time": "2024-12-04T23:14:57.333947Z"
    }
   },
   "id": "5eeb9832cb154c86",
   "execution_count": 54
  },
  {
   "cell_type": "code",
   "outputs": [
    {
     "name": "stdout",
     "output_type": "stream",
     "text": [
      "Key Matrix:\n",
      "[[27 29]\n",
      " [ 4 13]]\n",
      "Inverse Key Matrix:\n",
      "[[49 14]\n",
      " [ 7 27]]\n",
      "Original Matrix: \n",
      " [[ 8 31]\n",
      " [38 38]\n",
      " [41 53]\n",
      " [13 51]\n",
      " [53 40]\n",
      " [27 39]\n",
      " [31 53]\n",
      " [35 45]\n",
      " [53 14]\n",
      " [35 29]]\n",
      "Ciphertext Matrix:\n",
      "[[35  3]\n",
      " [22 52]\n",
      " [52 43]\n",
      " [48 13]\n",
      " [53 30]\n",
      " [24 21]\n",
      " [52  3]\n",
      " [36 23]\n",
      " [ 1 16]\n",
      " [ 4 31]]\n",
      "Original Text: Hello My name is Nic\n",
      "Ciphertext: iCVzzqvM dXUzCjWAPDe\n",
      "Decrypted Text: cBXtRMxmuuLgzMhICGjA\n",
      "Original Matrix: \n",
      " [[ 8 31]\n",
      " [38 38]\n",
      " [41 53]\n",
      " [13 51]\n",
      " [53 40]\n",
      " [27 39]\n",
      " [31 53]\n",
      " [35 45]\n",
      " [53 14]\n",
      " [35 29]]\n",
      "Ciphertext: PcRxyrAJYugubWBmuOB\n",
      "Decrypted Text: eItTGTuZnInoSgycdEH\n"
     ]
    }
   ],
   "source": [
    "modulo = 54  # Adjust modulo to match extended alphabet size\n",
    "alphabet = \"ABCDEFGHIJKLMNOPQRSTUVWXYZabcdefghijklmnopqrstuvwxyz .,!?\"\n",
    "\n",
    "plaintext = \"Hello My name is Nic\"\n",
    "key_matrix, inverse_key_matrix = generateKeyMatrix(2, 54)\n",
    "\n",
    "# Compute inverse key matrix dynamically\n",
    "\n",
    "print(f\"Key Matrix:\\n{key_matrix}\")\n",
    "print(f\"Inverse Key Matrix:\\n{inverse_key_matrix}\")\n",
    "\n",
    "# Encrypt the plaintext\n",
    "ciphertext, ciphertext_matrix = encrypt(plaintext, key_matrix, modulo, alphabet)\n",
    "print(f\"Ciphertext Matrix:\\n{ciphertext_matrix}\")\n",
    "\n",
    "# Decrypt the ciphertext\n",
    "decrypted_text = decrypt(ciphertext, inverse_key_matrix, modulo, alphabet)\n",
    "print(\"Original Text:\", plaintext)\n",
    "print(f\"Ciphertext: {ciphertext}\")\n",
    "print(f\"Decrypted Text: {decrypted_text}\")\n",
    "\n",
    "ciphertext, ciphertext_matrix = encrypt(plaintext, inverse_key_matrix, modulo, alphabet)\n",
    "decrypted_text = decrypt(ciphertext, key_matrix, modulo, alphabet)\n",
    "print(f\"Ciphertext: {ciphertext}\")\n",
    "print(f\"Decrypted Text: {decrypted_text}\")"
   ],
   "metadata": {
    "collapsed": false,
    "ExecuteTime": {
     "end_time": "2024-12-04T23:14:57.342444Z",
     "start_time": "2024-12-04T23:14:57.338746Z"
    }
   },
   "id": "12737eed0d0fd8e5",
   "execution_count": 55
  }
 ],
 "metadata": {
  "kernelspec": {
   "display_name": "Python 3",
   "language": "python",
   "name": "python3"
  },
  "language_info": {
   "codemirror_mode": {
    "name": "ipython",
    "version": 2
   },
   "file_extension": ".py",
   "mimetype": "text/x-python",
   "name": "python",
   "nbconvert_exporter": "python",
   "pygments_lexer": "ipython2",
   "version": "2.7.6"
  }
 },
 "nbformat": 4,
 "nbformat_minor": 5
}
