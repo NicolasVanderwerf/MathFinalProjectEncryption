{
 "cells": [
  {
   "metadata": {},
   "cell_type": "markdown",
   "source": [
    "# Matrix Encryption\n",
    "Makenna Worley and Nic Van Der Werf\n",
    "\n",
    "An exploration into encrypting data through matrices transformations and modular arithmetic"
   ],
   "id": "13985eb8b585a9e2"
  },
  {
   "cell_type": "code",
   "id": "initial_id",
   "metadata": {
    "collapsed": true,
    "ExecuteTime": {
     "end_time": "2024-12-11T19:16:58.995064Z",
     "start_time": "2024-12-11T19:16:58.990824Z"
    }
   },
   "source": [
    "# Importing and declaring global variables\n",
    "import numpy as np\n",
    "import math\n",
    "import random\n",
    "\n",
    "from ipywidgets import widgets\n",
    "from IPython.display import display\n",
    "\n",
    "MODULO = 59\n",
    "ALPHABET = \"ABCDEFGHIJKLMNOPQRSTUVWXYZabcdefghijklmnopqrstuvwxyz .,!?'\\n\"\n",
    "# print(len(ALPHABET))\n",
    "\n",
    "KEY_MATRIX_2x2 = np.array([\n",
    "    [3, 2],\n",
    "    [5, 7]\n",
    "])\n",
    "\n",
    "text1 = open('text/one.txt').read()\n",
    "text2 = open('text/two.txt').read()\n",
    "text3 = open('text/our_super_secret_message.txt').read()"
   ],
   "outputs": [],
   "execution_count": 20
  },
  {
   "metadata": {},
   "cell_type": "markdown",
   "source": "Functions that will help us with encrypting and decrypting our secret messages!",
   "id": "12dc1ec93b09be3a"
  },
  {
   "cell_type": "markdown",
   "source": [
    "Generates a random 2 x 2 Key Matrix. Checks to make sure Greatest Common Denominator is 1 and that it is invertible with the modulo."
   ],
   "metadata": {
    "collapsed": false
   },
   "id": "b6ebf32969d817b2"
  },
  {
   "cell_type": "code",
   "source": [
    "def generate_key_matrix_2x2(modulo):\n",
    "    while True:\n",
    "        key_matrix = np.random.randint(0, modulo, size=(2, 2))\n",
    "\n",
    "        # Calculating the determinant with Mod\n",
    "        a, b = key_matrix[0]\n",
    "        c, d = key_matrix[1]\n",
    "        det = (a*d - b*c) % modulo\n",
    "        if math.gcd(det, modulo) == 1:\n",
    "            try:\n",
    "                inverse_key_matrix = inverse_2x2_mod(key_matrix, modulo)\n",
    "                return key_matrix, inverse_key_matrix\n",
    "            except ValueError:\n",
    "                continue\n",
    "        else:\n",
    "            print(\"Failed Iteration\")"
   ],
   "metadata": {
    "collapsed": false,
    "ExecuteTime": {
     "end_time": "2024-12-11T19:15:38.358035Z",
     "start_time": "2024-12-11T19:15:38.354913Z"
    }
   },
   "id": "1f1dfeedf6b19cf6",
   "outputs": [],
   "execution_count": 2
  },
  {
   "cell_type": "markdown",
   "source": [
    "Inverts a 2 x 2 Matrix with the modulo using integers "
   ],
   "metadata": {
    "collapsed": false
   },
   "id": "4cd5ff34af8a8421"
  },
  {
   "cell_type": "code",
   "source": [
    "def inverse_2x2_mod(matrix, modulo):\n",
    "    a, b = matrix[0]\n",
    "    c, d = matrix[1]\n",
    "    det = int((a*d - b*c) % modulo)\n",
    "    if math.gcd(det, modulo) != 1:\n",
    "        raise ValueError(\"Matrix not invertible modulo {}\".format(modulo))\n",
    "    det_inv = pow(det, -1, modulo)\n",
    "    return (det_inv * np.array([[d, -b],\n",
    "                                [-c, a]])) % modulo"
   ],
   "metadata": {
    "collapsed": false,
    "ExecuteTime": {
     "end_time": "2024-12-11T19:15:39.952973Z",
     "start_time": "2024-12-11T19:15:39.950903Z"
    }
   },
   "id": "a5a05819e3958255",
   "outputs": [],
   "execution_count": 3
  },
  {
   "cell_type": "markdown",
   "source": [
    "Encrypts plain text using a 2 x 2 key matrix. by converting text to integers based on the provided alphabet, creating a matrix of those integers, getting the dot product with the key, then converting back to text. Modulo is used to ensure all digits are in the range of the alphabet."
   ],
   "metadata": {
    "collapsed": false
   },
   "id": "48fa1888e159b3d8"
  },
  {
   "cell_type": "code",
   "source": [
    "def encrypt(plaintext, key_matrix, modulo, alphabet):\n",
    "    # Map chars to numbers from 0 to len(alphabet)-1\n",
    "    char_to_num = {char: idx for idx, char in enumerate(alphabet)}\n",
    "    num_to_char = {v: k for k, v in char_to_num.items()}\n",
    "    padding_val = len(alphabet)  # Use a padding value outside the char range\n",
    "\n",
    "    # Convert plaintext to numbers\n",
    "    numbers = [char_to_num[c] for c in plaintext if c in char_to_num]\n",
    "\n",
    "    # Pad if necessary\n",
    "    if len(numbers) % 2 != 0:\n",
    "        numbers.append(padding_val)\n",
    "\n",
    "    plaintext_matrix = np.array(numbers).reshape(-1, 2).T\n",
    "    ciphertext_matrix = (key_matrix.dot(plaintext_matrix) % modulo).T\n",
    "\n",
    "    # Convert back to chars (skip padding_val when converting back)\n",
    "    ciphertext = []\n",
    "    for pair in ciphertext_matrix:\n",
    "        for num in pair:\n",
    "            if num != padding_val:\n",
    "                if num in num_to_char:\n",
    "                    ciphertext.append(num_to_char[num])\n",
    "                else:\n",
    "                    # If something unexpected, place a placeholder\n",
    "                    ciphertext.append('?')\n",
    "    return ''.join(ciphertext), ciphertext_matrix"
   ],
   "metadata": {
    "collapsed": false,
    "ExecuteTime": {
     "end_time": "2024-12-11T19:15:40.996767Z",
     "start_time": "2024-12-11T19:15:40.993648Z"
    }
   },
   "id": "5d4e7b3c0c25275e",
   "outputs": [],
   "execution_count": 4
  },
  {
   "cell_type": "markdown",
   "source": [
    "Decrypts plain text using a 2 x 2 inverse key matrix by converting text to integers based on the provided alphabet, creating a matrix of those integers, getting the dot product with the inverse key, then converting back to text. Modulo is used to ensure all digits are in the range of the alphabet."
   ],
   "metadata": {
    "collapsed": false
   },
   "id": "299a440a0df76052"
  },
  {
   "cell_type": "code",
   "source": [
    "def decrypt(ciphertext, inverse_key_matrix, modulo, alphabet):\n",
    "    char_to_num = {char: idx for idx, char in enumerate(alphabet)}\n",
    "    num_to_char = {v: k for k, v in char_to_num.items()}\n",
    "    padding_val = len(alphabet)\n",
    "\n",
    "    numbers = [char_to_num[c] for c in ciphertext if c in char_to_num]\n",
    "    if len(numbers) % 2 != 0:\n",
    "        numbers.append(padding_val)\n",
    "\n",
    "    cipher_matrix = np.array(numbers).reshape(-1, 2)\n",
    "    decrypted_matrix = (inverse_key_matrix.dot(cipher_matrix.T) % modulo).T\n",
    "\n",
    "    # Convert back to text and remove padding\n",
    "    plaintext_chars = []\n",
    "    for pair in decrypted_matrix:\n",
    "        for num in pair:\n",
    "            if num == padding_val:\n",
    "                # Padding encountered, skip it\n",
    "                continue\n",
    "            if num in num_to_char:\n",
    "                plaintext_chars.append(num_to_char[num])\n",
    "            else:\n",
    "                plaintext_chars.append('*')\n",
    "    return ''.join(plaintext_chars).rstrip('A')"
   ],
   "metadata": {
    "collapsed": false,
    "ExecuteTime": {
     "end_time": "2024-12-11T19:15:42.826164Z",
     "start_time": "2024-12-11T19:15:42.823112Z"
    }
   },
   "id": "b1051b19258a65c3",
   "outputs": [],
   "execution_count": 5
  },
  {
   "cell_type": "markdown",
   "source": [
    "Generates a random n x n Key Matrix. Checks to make sure Greatest Common Denominator is 1 and that it is invertible with the modulo.\n"
   ],
   "metadata": {
    "collapsed": false
   },
   "id": "ccb84d0feab89e0c"
  },
  {
   "cell_type": "code",
   "source": [
    "def generate_key_matrix_nxn(n, modulo):\n",
    "    while True:\n",
    "        key_matrix = np.random.randint(0, modulo, size=(n, n))\n",
    "        det = int(round(np.linalg.det(key_matrix))) % modulo\n",
    "        if math.gcd(det, modulo) == 1:\n",
    "            try:\n",
    "                inverse_key_matrix = inverse_nxn_mod(key_matrix, modulo)\n",
    "                return key_matrix, inverse_key_matrix\n",
    "            except ValueError:\n",
    "                continue\n",
    "        else:\n",
    "            # All matrices must be invertible\n",
    "            pass"
   ],
   "metadata": {
    "collapsed": false,
    "ExecuteTime": {
     "end_time": "2024-12-11T19:15:44.531749Z",
     "start_time": "2024-12-11T19:15:44.529578Z"
    }
   },
   "id": "c87425f21599cad9",
   "outputs": [],
   "execution_count": 6
  },
  {
   "cell_type": "markdown",
   "source": [
    "Inverts a n x n matrix with the modulo using Gaussian Elimination\n",
    "\n",
    "Inverting matrices with >2 rows and columns requires GCD since it is not guaranteed that rows and columns will be the same number, so we need to look at the coprime of them"
   ],
   "metadata": {
    "collapsed": false
   },
   "id": "7a2cb94e930b72e2"
  },
  {
   "cell_type": "code",
   "source": [
    "# Inverting matrices with >2 rows and columns requires GCD since it is not guaranteed that rows and columns will be the same number, so we need to look at the coprime of them\n",
    "def inverse_nxn_mod(matrix, modulo):\n",
    "    A = np.array(matrix, dtype=int) % modulo\n",
    "    n = A.shape[0]\n",
    "\n",
    "    I = np.eye(n, dtype=int)\n",
    "\n",
    "    # Perform Gaussian elimination\n",
    "    for i in range(n):\n",
    "        # Find pivot (row with non-zero element in column i)\n",
    "        for r in range(i, n):\n",
    "            if A[r, i] % modulo != 0:\n",
    "                # Swap pivot row if necessary\n",
    "                if r != i:\n",
    "                    A[[i, r]] = A[[r, i]]\n",
    "                    I[[i, r]] = I[[r, i]]\n",
    "                break\n",
    "        else:\n",
    "            # No pivot found, matrix not invertible\n",
    "            raise ValueError(\"Matrix not invertible modulo {}\".format(modulo))\n",
    "\n",
    "        # Normalize pivot row\n",
    "        inv_pivot = pow(int(A[i, i]), -1, modulo)\n",
    "        A[i] = (A[i] * inv_pivot) % modulo\n",
    "        I[i] = (I[i] * inv_pivot) % modulo\n",
    "\n",
    "        # Eliminate other rows\n",
    "        for r in range(n):\n",
    "            if r != i:\n",
    "                factor = A[r, i] % modulo\n",
    "                if factor != 0:\n",
    "                    A[r] = (A[r] - factor * A[i]) % modulo\n",
    "                    I[r] = (I[r] - factor * I[i]) % modulo\n",
    "\n",
    "    return I % modulo"
   ],
   "metadata": {
    "collapsed": false,
    "ExecuteTime": {
     "end_time": "2024-12-11T19:15:45.603554Z",
     "start_time": "2024-12-11T19:15:45.600511Z"
    }
   },
   "id": "c2427cdb5277501a",
   "outputs": [],
   "execution_count": 7
  },
  {
   "cell_type": "markdown",
   "source": [
    "Encrypts plain text using a n x n key matrix. by converting text to integers based on the provided alphabet, creating a matrix of those integers, getting the dot product with the key, then converting back to text. Modulo is used to ensure all digits are in the range of the alphabet.\n",
    "\n",
    "Matrix created from text is dynamically sized so that the dot product can be taken with the n x n key\n"
   ],
   "metadata": {
    "collapsed": false
   },
   "id": "e13d0393aa5402f3"
  },
  {
   "cell_type": "code",
   "source": [
    "def encrypt_nxn(plaintext, key_matrix, modulo, alphabet):\n",
    "    # Map chars to numbers from 0 to len(alphabet)-1\n",
    "    n = key_matrix.shape[0]\n",
    "    char_to_num = {char: idx for idx, char in enumerate(alphabet)}\n",
    "    num_to_char = {v: k for k, v in char_to_num.items()}\n",
    "    padding_val = len(alphabet)  # Use a padding value outside the char range\n",
    "\n",
    "    # Convert plaintext to numbers\n",
    "    numbers = [char_to_num[c] for c in plaintext if c in char_to_num]\n",
    "\n",
    "    # Pad if necessary\n",
    "    remainder = len(numbers) % n\n",
    "    if remainder != 0:\n",
    "        numbers.extend([padding_val] * (n - remainder))\n",
    "\n",
    "    plaintext_matrix = np.array(numbers).reshape(-1, n).T\n",
    "    ciphertext_matrix = (key_matrix.dot(plaintext_matrix) % modulo).T\n",
    "\n",
    "    # Convert back to chars (skip padding_val when converting back)\n",
    "    ciphertext = []\n",
    "    for pair in ciphertext_matrix:\n",
    "        for num in pair:\n",
    "            if num != padding_val:\n",
    "                if num in num_to_char:\n",
    "                    ciphertext.append(num_to_char[num])\n",
    "                else:\n",
    "                    # If something unexpected, place a placeholder\n",
    "                    ciphertext.append('?')\n",
    "    return ''.join(ciphertext), ciphertext_matrix"
   ],
   "metadata": {
    "collapsed": false,
    "ExecuteTime": {
     "end_time": "2024-12-11T19:15:47.427779Z",
     "start_time": "2024-12-11T19:15:47.425124Z"
    }
   },
   "id": "bdafb66747688dc2",
   "outputs": [],
   "execution_count": 8
  },
  {
   "cell_type": "markdown",
   "source": [
    "Decrypts plain text using a 2 x 2 inverse key matrix by converting text to integers based on the provided alphabet, creating a matrix of those integers, getting the dot product with the inverse key, then converting back to text. Modulo is used to ensure all digits are in the range of the alphabet.\n",
    "\n",
    "Matrix created from text is dynamically sized so that the dot product can be taken with the n x n inverse key\n"
   ],
   "metadata": {
    "collapsed": false
   },
   "id": "f5cfe6cbc8fe8624"
  },
  {
   "cell_type": "code",
   "source": [
    "def decrypt_nxn(ciphertext, inverse_key_matrix, modulo, alphabet):\n",
    "    n = inverse_key_matrix.shape[0]\n",
    "    char_to_num = {char: idx for idx, char in enumerate(alphabet)}\n",
    "    num_to_char = {v: k for k, v in char_to_num.items()}\n",
    "    padding_val = len(alphabet)\n",
    "\n",
    "    numbers = [char_to_num[c] for c in ciphertext if c in char_to_num]\n",
    "    remainder = len(numbers) % n\n",
    "    if remainder != 0:\n",
    "        numbers.extend([padding_val] * (n - remainder))\n",
    "\n",
    "    cipher_matrix = np.array(numbers).reshape(-1, n)\n",
    "    decrypted_matrix = (inverse_key_matrix.dot(cipher_matrix.T) % modulo).T\n",
    "\n",
    "    # Convert back to text and remove padding\n",
    "    plaintext_chars = []\n",
    "    for pair in decrypted_matrix:\n",
    "        for num in pair:\n",
    "            if num == padding_val:\n",
    "                # Padding encountered, skip it\n",
    "                continue\n",
    "            if num in num_to_char:\n",
    "                plaintext_chars.append(num_to_char[num])\n",
    "            else:\n",
    "                plaintext_chars.append('?')\n",
    "    dec = ''.join(plaintext_chars)\n",
    "    return dec.rstrip('A')"
   ],
   "metadata": {
    "collapsed": false,
    "ExecuteTime": {
     "end_time": "2024-12-11T19:15:49.046727Z",
     "start_time": "2024-12-11T19:15:49.042989Z"
    }
   },
   "id": "2561d6be663b150c",
   "outputs": [],
   "execution_count": 9
  },
  {
   "cell_type": "markdown",
   "source": [
    "Functions for creating and testing random strings with a 2 x 2 key matrix"
   ],
   "metadata": {
    "collapsed": false
   },
   "id": "da21553585024c1e"
  },
  {
   "cell_type": "code",
   "source": [
    "def generate_random_string(alphabet, l):\n",
    "    return ''.join(random.choice(alphabet) for _ in range(l))\n",
    "\n",
    "\n",
    "def test_encryption_decryption(l):\n",
    "    plaintext = generate_random_string(ALPHABET, l)\n",
    "    ciphertext, ciphertext_matrix = encrypt(plaintext, KEY_MATRIX_2x2, MODULO, ALPHABET)\n",
    "    decrypted_text = decrypt(ciphertext, inverse_key_matrix, MODULO, ALPHABET)\n",
    "    return plaintext, decrypted_text, plaintext == decrypted_text"
   ],
   "metadata": {
    "collapsed": false,
    "ExecuteTime": {
     "end_time": "2024-12-11T19:15:56.219247Z",
     "start_time": "2024-12-11T19:15:56.216455Z"
    }
   },
   "id": "33c9131fcbfa8bb0",
   "outputs": [],
   "execution_count": 10
  },
  {
   "metadata": {},
   "cell_type": "markdown",
   "source": "First testing our matrix to make sure it is invertible and therefore useable for our purposes.",
   "id": "3f1d0ecaf506f153"
  },
  {
   "cell_type": "code",
   "source": [
    "inverse_key_matrix = inverse_2x2_mod(KEY_MATRIX_2x2, MODULO)\n",
    "\n",
    "for idx in range(1, 51):\n",
    "    plaintext, decrypted_text, result = test_encryption_decryption(200)\n",
    "    if result:\n",
    "        print(f\"Test {idx}: True\")\n",
    "    else:\n",
    "        print(f\"Test {idx}: False\")\n",
    "        print(f\"  Original: {plaintext}\")\n",
    "        print(f\"  Decrypted: {decrypted_text}\")"
   ],
   "metadata": {
    "collapsed": false,
    "ExecuteTime": {
     "end_time": "2024-12-11T19:16:42.961566Z",
     "start_time": "2024-12-11T19:16:42.944679Z"
    }
   },
   "id": "1a4d3f1e85aebb8a",
   "outputs": [
    {
     "name": "stdout",
     "output_type": "stream",
     "text": [
      "Test 1: True\n",
      "Test 2: True\n",
      "Test 3: True\n",
      "Test 4: True\n",
      "Test 5: True\n",
      "Test 6: True\n",
      "Test 7: True\n",
      "Test 8: True\n",
      "Test 9: True\n",
      "Test 10: True\n",
      "Test 11: True\n",
      "Test 12: True\n",
      "Test 13: True\n",
      "Test 14: True\n",
      "Test 15: True\n",
      "Test 16: True\n",
      "Test 17: True\n",
      "Test 18: True\n",
      "Test 19: True\n",
      "Test 20: True\n",
      "Test 21: True\n",
      "Test 22: True\n",
      "Test 23: True\n",
      "Test 24: True\n",
      "Test 25: True\n",
      "Test 26: True\n",
      "Test 27: True\n",
      "Test 28: True\n",
      "Test 29: True\n",
      "Test 30: True\n",
      "Test 31: True\n",
      "Test 32: True\n",
      "Test 33: True\n",
      "Test 34: True\n",
      "Test 35: True\n",
      "Test 36: True\n",
      "Test 37: True\n",
      "Test 38: True\n",
      "Test 39: True\n",
      "Test 40: True\n",
      "Test 41: True\n",
      "Test 42: True\n",
      "Test 43: True\n",
      "Test 44: True\n",
      "Test 45: True\n",
      "Test 46: True\n",
      "Test 47: True\n",
      "Test 48: True\n",
      "Test 49: True\n",
      "Test 50: True\n"
     ]
    }
   ],
   "execution_count": 16
  },
  {
   "metadata": {},
   "cell_type": "markdown",
   "source": "Now let's look at our encrypting a message using our predefined KEY_MATRIX_2x2",
   "id": "fd4c5f07fa2ffd0a"
  },
  {
   "metadata": {
    "collapsed": false,
    "ExecuteTime": {
     "end_time": "2024-12-11T19:16:45.465413Z",
     "start_time": "2024-12-11T19:16:45.460834Z"
    }
   },
   "cell_type": "code",
   "source": [
    "MESSAGE = \"Hello my name is Makenna\"\n",
    "\n",
    "inverse_key_matrix = inverse_2x2_mod(KEY_MATRIX_2x2, MODULO)\n",
    "print(f\"Key Matrix:\\n{KEY_MATRIX_2x2}\")\n",
    "print(f\"Inverse Key Matrix:\\n{inverse_key_matrix}\")\n",
    "\n",
    "ciphertext, ciphertext_matrix = encrypt(MESSAGE, KEY_MATRIX_2x2, MODULO, ALPHABET)\n",
    "print(f\"Ciphertext Matrix:\\n{ciphertext_matrix}\")\n",
    "\n",
    "decrypted_text = decrypt(ciphertext, inverse_key_matrix, MODULO, ALPHABET)\n",
    "print(f\"Ciphertext: {ciphertext}\")\n",
    "print(f\"Condition: {np.linalg.cond(KEY_MATRIX_2x2)}\")\n",
    "\n",
    "original_text = MESSAGE\n",
    "\n",
    "print(\"Cipher Text Matrx: \\n\", ciphertext_matrix)\n",
    "print(\"\\n\\n\")\n",
    "\n",
    "print(\"Original Text :   \",original_text)\n",
    "print()\n",
    "print(\"Cipher Text   :   \",ciphertext)\n",
    "print()\n",
    "print(\"Decrypted Text:   \",decrypted_text)\n"
   ],
   "id": "5eeb9832cb154c86",
   "outputs": [
    {
     "name": "stdout",
     "output_type": "stream",
     "text": [
      "Key Matrix:\n",
      "[[3 2]\n",
      " [5 7]]\n",
      "Inverse Key Matrix:\n",
      "[[ 6 32]\n",
      " [21 11]]\n",
      "Ciphertext Matrix:\n",
      "[[22  9]\n",
      " [ 8 31]\n",
      " [47 33]\n",
      " [37  9]\n",
      " [57  2]\n",
      " [36 42]\n",
      " [17 42]\n",
      " [13  6]\n",
      " [ 3 49]\n",
      " [32 28]\n",
      " [50 10]\n",
      " [51 23]]\n",
      "Ciphertext: WJIfvhlJ'CkqRqNGDxgcyKzX\n",
      "Condition: 7.780565547548909\n",
      "Cipher Text Matrx: \n",
      " [[22  9]\n",
      " [ 8 31]\n",
      " [47 33]\n",
      " [37  9]\n",
      " [57  2]\n",
      " [36 42]\n",
      " [17 42]\n",
      " [13  6]\n",
      " [ 3 49]\n",
      " [32 28]\n",
      " [50 10]\n",
      " [51 23]]\n",
      "\n",
      "\n",
      "\n",
      "Original Text :    Hello my name is Makenna\n",
      "\n",
      "Cipher Text   :    WJIfvhlJ'CkqRqNGDxgcyKzX\n",
      "\n",
      "Decrypted Text:    Hello my name is Makenna\n"
     ]
    }
   ],
   "execution_count": 17
  },
  {
   "cell_type": "markdown",
   "source": [
    "Example with the generating of a 2 x 2 random key. "
   ],
   "metadata": {
    "collapsed": false
   },
   "id": "e0e924355c41d52d"
  },
  {
   "metadata": {
    "collapsed": false,
    "ExecuteTime": {
     "end_time": "2024-12-11T19:16:47.231494Z",
     "start_time": "2024-12-11T19:16:47.226981Z"
    }
   },
   "cell_type": "code",
   "source": [
    "MESSAGE = \"Hello my name is Nic\"\n",
    "\n",
    "key_matrix, inverse_key_matrix = generate_key_matrix_2x2(MODULO)\n",
    "\n",
    "print(f\"Key Matrix:\\n{KEY_MATRIX_2x2}\")\n",
    "print(f\"Inverse Key Matrix:\\n{inverse_key_matrix}\")\n",
    "\n",
    "ciphertext, ciphertext_matrix = encrypt(MESSAGE, key_matrix, MODULO, ALPHABET)\n",
    "\n",
    "decrypted_text = decrypt(ciphertext, inverse_key_matrix, MODULO, ALPHABET)\n",
    "\n",
    "original_text = MESSAGE\n",
    "\n",
    "print(\"Cipher Text Matrx: \\n\", ciphertext_matrix)\n",
    "print(\"\\n\\n\")\n",
    "\n",
    "print(\"Original Text :   \",original_text)\n",
    "print()\n",
    "print(\"Cipher Text   :   \",ciphertext)\n",
    "print()\n",
    "print(\"Decrypted Text:   \",decrypted_text)"
   ],
   "id": "960b069258a8220c",
   "outputs": [
    {
     "name": "stdout",
     "output_type": "stream",
     "text": [
      "Key Matrix:\n",
      "[[3 2]\n",
      " [5 7]]\n",
      "Inverse Key Matrix:\n",
      "[[26 20]\n",
      " [21  7]]\n",
      "Cipher Text Matrx: \n",
      " [[10  8]\n",
      " [34 55]\n",
      " [26 39]\n",
      " [13 44]\n",
      " [31 39]\n",
      " [53 15]\n",
      " [ 2 52]\n",
      " [26 21]\n",
      " [ 7 23]\n",
      " [43 52]]\n",
      "\n",
      "\n",
      "\n",
      "Original Text :    Hello my name is Nic\n",
      "\n",
      "Cipher Text   :    KIi!anNsfn.PC aVHXr \n",
      "\n",
      "Decrypted Text:    Hello my name is Nic\n"
     ]
    }
   ],
   "execution_count": 18
  },
  {
   "cell_type": "code",
   "source": [
    "MESSAGE = text1\n",
    "KEY_MATRIX_SIZE = 7\n",
    "\n",
    "key_matrix, inverse_key_matrix = generate_key_matrix_nxn(KEY_MATRIX_SIZE, MODULO)\n",
    "\n",
    "ciphertext, ciphertext_matrix = encrypt_nxn(MESSAGE, key_matrix, MODULO, ALPHABET)\n",
    "print(\"Plain Text Length:\", len(text1))\n",
    "print(\"Ciphertext Length:\", len(ciphertext))\n",
    "\n",
    "print(f\"Key Matrix:\\n{key_matrix}\")\n",
    "print(f\"Inverse Key Matrix:\\n{inverse_key_matrix}\")\n",
    "\n",
    "decrypted_text = decrypt_nxn(ciphertext, inverse_key_matrix, MODULO, ALPHABET)\n",
    "print(f\"Ciphertext: {ciphertext}\")\n",
    "\n",
    "original_text = MESSAGE\n",
    "\n",
    "original_button = widgets.Button(description=\"Show Original Text\")\n",
    "decrypted_button = widgets.Button(description=\"Show Decrypted Text\")\n",
    "original_output = widgets.Output()\n",
    "decrypted_output = widgets.Output()\n",
    "\n",
    "def show_original_text(button):\n",
    "    with original_output:\n",
    "        original_output.clear_output()\n",
    "        print(original_text)\n",
    "\n",
    "def show_decrypted_text(button):\n",
    "    with decrypted_output:\n",
    "        decrypted_output.clear_output()\n",
    "        print(decrypted_text)\n",
    "\n",
    "original_button.on_click(show_original_text)\n",
    "decrypted_button.on_click(show_decrypted_text)\n",
    "\n",
    "display(original_button, original_output)\n",
    "display(decrypted_button, decrypted_output)"
   ],
   "metadata": {
    "collapsed": false,
    "ExecuteTime": {
     "end_time": "2024-12-11T19:17:12.326148Z",
     "start_time": "2024-12-11T19:17:12.314875Z"
    }
   },
   "id": "20ca6fd6e7a16f9f",
   "outputs": [
    {
     "name": "stdout",
     "output_type": "stream",
     "text": [
      "Plain Text Length: 93\n",
      "Ciphertext Length: 98\n",
      "Key Matrix:\n",
      "[[ 2 22  3 39  3  8  7]\n",
      " [57 43 36 41  4  9 44]\n",
      " [38 25 47 21 47 29 13]\n",
      " [20 15  9 54  7 12 24]\n",
      " [19 39 25 19 49 46 49]\n",
      " [53 15 23 26 55 58 19]\n",
      " [23 50 48 32 58 15 27]]\n",
      "Inverse Key Matrix:\n",
      "[[36 22 26 54 43 24 31]\n",
      " [54 57 41 39 44 30 24]\n",
      " [20 43 11 21 50 18 29]\n",
      " [11 44 45 16 29 23 48]\n",
      " [21 33 28 23 46  2 23]\n",
      " [17 29 33  6 25 16 30]\n",
      " [ 0  1 39  0 48 22 30]]\n",
      "Ciphertext: CCztzyPvgxwkreVSoNriB.RrfqS'nmVIQ,nbzJulGLAEGfKV?GuadVsaA!SJqipcPdKJyuI,s.r ZAccQEdnvLPoI.gZD'VsI\n",
      "\n"
     ]
    },
    {
     "data": {
      "text/plain": [
       "Button(description='Show Original Text', style=ButtonStyle())"
      ],
      "application/vnd.jupyter.widget-view+json": {
       "version_major": 2,
       "version_minor": 0,
       "model_id": "cec0d22007ad4ee9a3530bbf5a1c4787"
      }
     },
     "metadata": {},
     "output_type": "display_data"
    },
    {
     "data": {
      "text/plain": [
       "Output()"
      ],
      "application/vnd.jupyter.widget-view+json": {
       "version_major": 2,
       "version_minor": 0,
       "model_id": "a65425f1634246ebb4130969e8d71dc8"
      }
     },
     "metadata": {},
     "output_type": "display_data"
    },
    {
     "data": {
      "text/plain": [
       "Button(description='Show Decrypted Text', style=ButtonStyle())"
      ],
      "application/vnd.jupyter.widget-view+json": {
       "version_major": 2,
       "version_minor": 0,
       "model_id": "ff495ba37e4442c8a16a1ad6f030d93e"
      }
     },
     "metadata": {},
     "output_type": "display_data"
    },
    {
     "data": {
      "text/plain": [
       "Output()"
      ],
      "application/vnd.jupyter.widget-view+json": {
       "version_major": 2,
       "version_minor": 0,
       "model_id": "9c59c8ae72454b74a3a15881ad29b34b"
      }
     },
     "metadata": {},
     "output_type": "display_data"
    }
   ],
   "execution_count": 22
  },
  {
   "cell_type": "code",
   "source": [
    "MESSAGE = text2\n",
    "KEY_MATRIX_SIZE = 23\n",
    "\n",
    "key_matrix, inverse_key_matrix = generate_key_matrix_nxn(KEY_MATRIX_SIZE, MODULO)\n",
    "\n",
    "ciphertext, ciphertext_matrix = encrypt_nxn(MESSAGE, key_matrix, MODULO, ALPHABET)\n",
    "print(\"Plain Text Length:\", len(text1))\n",
    "print(\"Ciphertext Length:\", len(ciphertext))\n",
    "\n",
    "print(f\"Key Matrix:\\n{key_matrix}\")\n",
    "print(f\"Inverse Key Matrix:\\n{inverse_key_matrix}\")\n",
    "\n",
    "decrypted_text = decrypt_nxn(ciphertext, inverse_key_matrix, MODULO, ALPHABET)\n",
    "print(f\"Ciphertext: {ciphertext}\")\n",
    "\n",
    "original_text = MESSAGE\n",
    "\n",
    "original_button = widgets.Button(description=\"Show Original Text\")\n",
    "decrypted_button = widgets.Button(description=\"Show Decrypted Text\")\n",
    "original_output = widgets.Output()\n",
    "decrypted_output = widgets.Output()\n",
    "\n",
    "def show_original_text(button):\n",
    "    with original_output:\n",
    "        original_output.clear_output()\n",
    "        print(original_text)\n",
    "\n",
    "def show_decrypted_text(button):\n",
    "    with decrypted_output:\n",
    "        decrypted_output.clear_output()\n",
    "        print(decrypted_text)\n",
    "\n",
    "original_button.on_click(show_original_text)\n",
    "decrypted_button.on_click(show_decrypted_text)\n",
    "\n",
    "display(original_button, original_output)\n",
    "display(decrypted_button, decrypted_output)"
   ],
   "metadata": {
    "collapsed": false,
    "ExecuteTime": {
     "end_time": "2024-12-11T19:17:14.187225Z",
     "start_time": "2024-12-11T19:17:14.172298Z"
    }
   },
   "id": "a64c9cc25f9f1e60",
   "outputs": [
    {
     "name": "stdout",
     "output_type": "stream",
     "text": [
      "Plain Text Length: 93\n",
      "Ciphertext Length: 69\n",
      "Key Matrix:\n",
      "[[56 39 13 39 26 36 42  3 50 35 10 48 45 17 39 20 44 36 58 56 29  9 42]\n",
      " [35 51  0 30 44 54 36 23  5 51 37 14 47 19 27 51 17 19 44 28 17 11  8]\n",
      " [27  4  4 47 33 11 42 57  9 16 42 32 51  1 48 45 18 18 36 32  8 44 19]\n",
      " [34 42 48 38 15  4 48 11 40 50 28 50 55 35 31 41 16 30 25 16 50 44 33]\n",
      " [12  2 40 13 30  2  1  3 42 15 16 14 35 34 22  4 37 48 30  4  3 55 33]\n",
      " [47 49 36 15 28 15  8 32 43 58 17 55  5 45 49 15 39 30 30 31 29  1  4]\n",
      " [32 43 46 34  9  2 35 39 11 42 20 15 43 42 29 54  9 33 24  9 54 58 25]\n",
      " [ 9  7 41 58 22  9 36 53 57  4 27 43 31 44  5 45 49 40 37 51  4 22 54]\n",
      " [47 57 54 46 34 35  2 26 29 10 35 25  5 34 53 18  1 39 24  9 33  1 35]\n",
      " [54 17 31 27 19 55 29  4 34 42 25 12 10 45 26 36  4 25 56 27 32 27 22]\n",
      " [ 5 27  3 18 39 32 35 44 46 16 12 53 51 39 43  5 23 36 29  6  7 26 13]\n",
      " [52 28 15  1 28 48  3 53 46 52 53 46  4  7 35 24  3 27 43 46 37 37 33]\n",
      " [29 25 16 55 37 33  7 17 37 23 23  3 12 39 20 13 52 26 53  4 12 43 32]\n",
      " [ 3 53 46 22  3 15 16  0 40 29 49 33 45 16 29 48 13 16 32 31 57 46 42]\n",
      " [ 3 18 15  8 55 11 50 33  2 36 52 52 17 25 47 51 19 31 55 49 25 54 13]\n",
      " [ 1 24 46 31 16 37 22  4 40 29 30 42  5 15 13 15 54 51 44 21 38 34  5]\n",
      " [55 56 58 58 48 25 53  4 39 47 28 56 35  5 18 28  2  6 34 45 33  0 20]\n",
      " [21  8  0  6 53 19 56 42 27 58 48  0  8  1  3  5  6 44 31 33 46 55 21]\n",
      " [45 49 46 31 41 42 56 20 10  4 52 48 34 21 21 29 26 30 25 50 26 42 15]\n",
      " [33 45 53 25 35 49 42 27 43 58 47 11 33 35 15 33 51  1 10 55 23 21  8]\n",
      " [56 46 27 36 37 42 58  2  5  5 24 33 44 38 57 34 47  2 58  5 30 36 56]\n",
      " [15 58 57 50 27  9  1 43  0 12 58 34 54 41  2 10 39 29 17  3 26 35 24]\n",
      " [ 6 23  9  7 14 13 51 39 29 33  1 21 57 16  3 21 41 25 54 58  9 42 32]]\n",
      "Inverse Key Matrix:\n",
      "[[58 50 41 58 11 57 23  6 35 20 32  9 29 21 34  3 36 25 48 12 52 51 30]\n",
      " [49 56 35 29 12 20 18 39 46 58 30 29 15 40 22 48 43 39 32 38 50 41 47]\n",
      " [ 0 55 46 44 43 14 45 26 45 46  2 48 31 15  9 20 45 30 50 54 11 56 18]\n",
      " [41 44 15  4 20  5  8 36 19  8 10 21 27 20 55 36 32 43 37 47 50 24 12]\n",
      " [45  4 29 53 18 53 19 31  0 39 56 51 19 28  0  0 25 55 29 41 18 24  9]\n",
      " [52 55 21 52 44 19 14 49 37 10 31  7  1 29  1  0 22 43 52 48 43 21 43]\n",
      " [43 28 57 15 38 19 36 17 33 48  5  0 13 12 33 55 40 21  0 29 19 11 57]\n",
      " [54 30 17  5 25 11 33 32 28 20 48 32 55 28  3 31  1  3  8 43  5 19  9]\n",
      " [27 19 30 31  1 57  4 57 47 54 44 42 31 34 18 57 29 26 43 55  3 50 41]\n",
      " [49 49 26  7 42 36 13 37 27 30 40 39 46  1 21  8 12  2 55 20 48  6 38]\n",
      " [38  4 56  9 54  3 53 12 19 14 24 40 38 35 16 58 14 17 52  2 14  8  1]\n",
      " [12 47 37 24 42 49 30 55 58 21 32 29 50 53 18 21 53 27 28  3  2 24 24]\n",
      " [47  9 35 48 30 48 54  4 57 33 39  5  4 10 50 17 20  9 13 43  3 24 27]\n",
      " [23 23 53 40 49 24 24  8 39 55 35  3 14 20 51  5 11 38  7 23 45 57 11]\n",
      " [23  2 53 25 23 31 12 56 31 23 36 58 41 40 34 22 36 15 51 34 33 23  7]\n",
      " [51 50 26 44 22 54 29 50 54 19  7 25 15 47 44  0 16 25 33 33 17  3 34]\n",
      " [56 33 26 44 36  4 33 28  3 42 34 54 34 27 50 26 47 35 35 31 31 55 32]\n",
      " [40 34 33 18 48  1 37  2 22 46 33 57  6 26 39 14 10 20 50 28 36  5 16]\n",
      " [50 41 49 27 10 55 26  4 52 44 49 31 41 17 10 40 17  4 56 42 54 17 32]\n",
      " [52 52 56  0 52  8 37 40 35 55 48 36 49  4 25 55 15 12 21 10 36 29 21]\n",
      " [31  1 26 19 49 13 57 12  2 42 44 26  5 14 19 42 34 19 47 41 41  8 33]\n",
      " [27 20 58 24 12 13 33  7 51 53 21 41 21 10 44  0 18 12 14 55 32 53  9]\n",
      " [ 9  3  3 45  4  6 57 16 49 19  7  3  9 14 43 40  7 18 57 40 21 52 18]]\n",
      "Ciphertext: E UKJMDL?TnOcErD'Mrz\n",
      "GepafOjULLquXHEnjQZvfeLAF'D!tqvJJY.?bL.fdetEp aB\n"
     ]
    },
    {
     "data": {
      "text/plain": [
       "Button(description='Show Original Text', style=ButtonStyle())"
      ],
      "application/vnd.jupyter.widget-view+json": {
       "version_major": 2,
       "version_minor": 0,
       "model_id": "3c96e88b7b0049ef8d9f8442cf6746f9"
      }
     },
     "metadata": {},
     "output_type": "display_data"
    },
    {
     "data": {
      "text/plain": [
       "Output()"
      ],
      "application/vnd.jupyter.widget-view+json": {
       "version_major": 2,
       "version_minor": 0,
       "model_id": "7e31626fae3b42fbac996b3edede4934"
      }
     },
     "metadata": {},
     "output_type": "display_data"
    },
    {
     "data": {
      "text/plain": [
       "Button(description='Show Decrypted Text', style=ButtonStyle())"
      ],
      "application/vnd.jupyter.widget-view+json": {
       "version_major": 2,
       "version_minor": 0,
       "model_id": "7f5504d6c1e14c439d79769ad74b8449"
      }
     },
     "metadata": {},
     "output_type": "display_data"
    },
    {
     "data": {
      "text/plain": [
       "Output()"
      ],
      "application/vnd.jupyter.widget-view+json": {
       "version_major": 2,
       "version_minor": 0,
       "model_id": "1abbdf44e9c44eb291f0487328d6c490"
      }
     },
     "metadata": {},
     "output_type": "display_data"
    }
   ],
   "execution_count": 23
  },
  {
   "metadata": {
    "collapsed": false,
    "ExecuteTime": {
     "end_time": "2024-12-11T19:17:16.541363Z",
     "start_time": "2024-12-11T19:17:16.393632Z"
    }
   },
   "cell_type": "code",
   "source": [
    "MESSAGE = text3\n",
    "KEY_MATRIX_SIZE = 100\n",
    "\n",
    "key_matrix, inverse_key_matrix = generate_key_matrix_nxn(KEY_MATRIX_SIZE, MODULO)\n",
    "\n",
    "ciphertext, ciphertext_matrix = encrypt_nxn(MESSAGE, key_matrix, MODULO, ALPHABET)\n",
    "print(\"Plain Text Length:\", len(text1))\n",
    "print(\"Ciphertext Length:\", len(ciphertext))\n",
    "\n",
    "print(f\"Key Matrix:\\n{key_matrix}\")\n",
    "print(f\"Inverse Key Matrix:\\n{inverse_key_matrix}\")\n",
    "\n",
    "decrypted_text = decrypt_nxn(ciphertext, inverse_key_matrix, MODULO, ALPHABET)\n",
    "print(f\"Ciphertext: {ciphertext}\")\n",
    "\n",
    "original_text = MESSAGE\n",
    "\n",
    "original_button = widgets.Button(description=\"Show Original Text\")\n",
    "decrypted_button = widgets.Button(description=\"Show Decrypted Text\")\n",
    "original_output = widgets.Output()\n",
    "decrypted_output = widgets.Output()\n",
    "\n",
    "def show_original_text(button):\n",
    "    with original_output:\n",
    "        original_output.clear_output()\n",
    "        print(original_text)\n",
    "\n",
    "def show_decrypted_text(button):\n",
    "    with decrypted_output:\n",
    "        decrypted_output.clear_output()\n",
    "        print(decrypted_text)\n",
    "\n",
    "original_button.on_click(show_original_text)\n",
    "decrypted_button.on_click(show_decrypted_text)\n",
    "\n",
    "display(original_button, original_output)\n",
    "display(decrypted_button, decrypted_output)"
   ],
   "id": "5cf3dbb61281f0ae",
   "outputs": [
    {
     "name": "stdout",
     "output_type": "stream",
     "text": [
      "Plain Text Length: 93\n",
      "Ciphertext Length: 1800\n",
      "Key Matrix:\n",
      "[[35 56  4 ... 56 16  1]\n",
      " [43 47 56 ... 22  9 44]\n",
      " [54 24 30 ... 40 31 34]\n",
      " ...\n",
      " [47 28 29 ... 29  5 47]\n",
      " [ 2  4  7 ...  2 35 53]\n",
      " [23 54 10 ... 44  4 40]]\n",
      "Inverse Key Matrix:\n",
      "[[29 35 53 ...  6 24 49]\n",
      " [36 25 52 ... 50 57 39]\n",
      " [ 2 52 45 ...  4 15  7]\n",
      " ...\n",
      " [53 14 13 ...  3 27 37]\n",
      " [36 22  6 ... 36 12  5]\n",
      " [47 44  2 ... 10 16 55]]\n",
      "Ciphertext: QVYBAJRuLcD'Vq,wgawsTevbL,o?,nFpqZEuGOmjJipoZZzqbiVexry.tbIukHul'DoC ,koiSoABDJ hBVcddCtOuEiLL.D?xli'wM. U VOuLA'bkWIvgQ!QaVa.Lvc'nv!HHcZhDKkqEPWeWZPW.eHXfSJNtN'mlFGZWHPKpEfbIDfR'rcSLfEK.H.D,mvKysCpqnKMy'gV'BKrn\n",
      " DQA?aOAvqAcTLSPBPcjB\n",
      "RLEN.nxaLQ?pE.DADzly.ItLgmajSrs?tiU'Sng\n",
      "itvPkVTsUMrdEUKmlkPiFDwwgAxnRqC aXBfSvlIkvVXtJGm\n",
      "CMbqri\n",
      "VXcgBCT\n",
      "DGm\n",
      "XKITq?fopb.qEPXSPHkn?TMiakktQVHAlRWed!DTzbnwazigQLPTc?E V?plLSvcKFwTqAGCvEhZ!xjOJ,MOouzUIR??\n",
      "OrWAjm\n",
      "lLGo GNsdgCGKDMmgJnUlEHfBF.oijygxitdTLJyc'BAtpLeNOfnOxDCUBRIHa'fPLWTWOcAkEyBWrSAkZcF!xfd\n",
      ".h'H?xDXJLeGDWpJXbwtPTps\n",
      ",iUE.nbHeeRlGX?NXhKQvLWjbp pJaCcdSMYflvHGQkWJuuHgyBTUtVfsRDLik.HDABJA!VjDLfypg\n",
      "EibVvpc\n",
      "eJR.nTz?OKIGd?wBoH,kO!DyYaIfbFZ!poVU!pBozvSIZIoKDUzNkBcGyMAP.YJvQtpvIHffZ\n",
      "oJKwNTAgZzrtiyueseoIHpGPukxizaTF?AdneuQCwqAc'xXEpuBd?AqlctBLtzwgOKB nyHwXaK'gkJOgo?olZdrcAwraOENIsd,SktljcSJzbBWeyrRqPcmSgVf,ZXQUoDVOljGrJv!z,DTKsZIY\n",
      "hDvYhA?cLakkRLyqi?zADtjAlDdRjmA?fSMDEJJHCuCWtuyKmUWhfFFEUAmmk\n",
      "KdMucmMrTAmQQXkLiAFJH?zHHoGwzeWpLzlibFgRyTheMvMxdC,bkHLETDKfMKY?xTijli!VrVwdDxdoUODLGRZWJSjfFraWsziRDSHkUtP'TkkeGGhIEXZJU!BjdgrbPJWOqa\n",
      "PGMGrofhwiDLemXmPBmr..dJhkxrlnwALlCnPv,X\n",
      "skOpRJFOMMaBoKXPZ.qOpqixVplAJFGpYUHnlBESYXiVezXNB'GZKWZ,twLhP..qVRvhcb'dEIdjNQKj\n",
      ".PLGYLdAVa, trUlXfJNWEpD?ow,osMI!aAgeQEkNKlQZS hSBBum?rtFY,vlboc!vc lOAcxjbogS.k?GY?yuwF'exjLaiUQQN.jR ,BVZztLtEqwLo\n",
      "oAAIBgoC!VCq.zWCdldSaaEBkyp .DApBdjLdp,krdaZ,LEOVCc,qWpjGqYqVwvp'oQkP.pDKaTB'lslz?JsLJDryhnXIxXovcMqph'LMcOUVzwNrmLhkQUohwP\n",
      "FkHaiw\n",
      "G.ZFb meCDUnYkfafoKy SorC,wKPZPMYkhHJMurZIgMCjY\n",
      "CGeGvSCd,aANksbOenSeiibOS.IgFRf YAjdtmIqnlMKSiMurmKsOzTznMFhVsncIFicwW'JUWb!RkuSIepNXvfh nVbawONawgbp lqKKSvo\n",
      "vFYfiRWlpRPJxgPSzoNyafFmtqfdoK,uoPjUD\n",
      "xGxtqxGGwxcoJTiCKOg  zyOFcb?slAXuqWI X'UasYhUll.O\n",
      "PeiT!m,MMUvW,w,webwIwOMkeZXR?sjdf\n",
      "dWQizF.jOxGGcfyz\n",
      "qi!pzk!gEIKmLd i aDEcsLeOPkKVZ.pzWNPXm .hJwv ffCxx.feZCLLmw B.JZr?UpP\n"
     ]
    },
    {
     "data": {
      "text/plain": [
       "Button(description='Show Original Text', style=ButtonStyle())"
      ],
      "application/vnd.jupyter.widget-view+json": {
       "version_major": 2,
       "version_minor": 0,
       "model_id": "26f4220d1d89425699fc3f97d1a3d47e"
      }
     },
     "metadata": {},
     "output_type": "display_data"
    },
    {
     "data": {
      "text/plain": [
       "Output()"
      ],
      "application/vnd.jupyter.widget-view+json": {
       "version_major": 2,
       "version_minor": 0,
       "model_id": "e9b3932dada94db9ac006122be1fd7f9"
      }
     },
     "metadata": {},
     "output_type": "display_data"
    },
    {
     "data": {
      "text/plain": [
       "Button(description='Show Decrypted Text', style=ButtonStyle())"
      ],
      "application/vnd.jupyter.widget-view+json": {
       "version_major": 2,
       "version_minor": 0,
       "model_id": "6da02b0fd23144d1a7bc23c65c696848"
      }
     },
     "metadata": {},
     "output_type": "display_data"
    },
    {
     "data": {
      "text/plain": [
       "Output()"
      ],
      "application/vnd.jupyter.widget-view+json": {
       "version_major": 2,
       "version_minor": 0,
       "model_id": "12b4efaf7d1545bfb6114413d5121ff1"
      }
     },
     "metadata": {},
     "output_type": "display_data"
    }
   ],
   "execution_count": 24
  }
 ],
 "metadata": {
  "kernelspec": {
   "display_name": "Python 3",
   "language": "python",
   "name": "python3"
  },
  "language_info": {
   "codemirror_mode": {
    "name": "ipython",
    "version": 2
   },
   "file_extension": ".py",
   "mimetype": "text/x-python",
   "name": "python",
   "nbconvert_exporter": "python",
   "pygments_lexer": "ipython2",
   "version": "2.7.6"
  }
 },
 "nbformat": 4,
 "nbformat_minor": 5
}
