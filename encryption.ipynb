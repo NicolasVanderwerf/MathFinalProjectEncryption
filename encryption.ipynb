{
 "cells": [
  {
   "cell_type": "code",
   "execution_count": 820,
   "id": "initial_id",
   "metadata": {
    "collapsed": true,
    "ExecuteTime": {
     "end_time": "2024-12-09T19:45:45.826578Z",
     "start_time": "2024-12-09T19:45:45.824025Z"
    }
   },
   "outputs": [],
   "source": [
    "import numpy as np\n",
    "import math\n"
   ]
  },
  {
   "cell_type": "code",
   "outputs": [],
   "source": [
    "# def generateKeyMatrix(n, modulo):\n",
    "#     while True:\n",
    "#         key_matrix = np.random.randint(1, modulo, size=(n, n))\n",
    "#         try:\n",
    "#             inverse_key_matrix = inverse(key_matrix, modulo)\n",
    "#             return key_matrix, inverse_key_matrix\n",
    "#         except ValueError:\n",
    "#             continue  # Regenerate if not invertible"
   ],
   "metadata": {
    "collapsed": false,
    "ExecuteTime": {
     "end_time": "2024-12-09T19:45:45.834375Z",
     "start_time": "2024-12-09T19:45:45.832660Z"
    }
   },
   "id": "33c9131fcbfa8bb0",
   "execution_count": 821
  },
  {
   "cell_type": "code",
   "outputs": [],
   "source": [
    "\n",
    "def generateKeyMatrix(n, modulo):\n",
    "    while True:\n",
    "        key_matrix = np.random.randint(1, modulo, size=(n, n))\n",
    "        det = int(round(np.linalg.det(key_matrix))) % modulo\n",
    "        # Check if gcd(det, modulo) == 1 to ensure invertibility\n",
    "        if math.gcd(det, modulo) == 1:\n",
    "            try:\n",
    "                inverse_key_matrix = inverse_2x2_mod(key_matrix, modulo)\n",
    "                return key_matrix, inverse_key_matrix\n",
    "            except ValueError:\n",
    "                continue\n",
    "        else:\n",
    "            print(\"Failed Iteration\")"
   ],
   "metadata": {
    "collapsed": false,
    "ExecuteTime": {
     "end_time": "2024-12-09T19:45:45.838646Z",
     "start_time": "2024-12-09T19:45:45.835609Z"
    }
   },
   "id": "8dd8cf865d604415",
   "execution_count": 822
  },
  {
   "cell_type": "code",
   "outputs": [],
   "source": [
    "def inverse(matrix, modulo):\n",
    "    det = int(round(np.linalg.det(matrix))) % modulo\n",
    "    det_inv = pow(det, -1, modulo)  # Modular inverse of determinant\n",
    "    adjugate = np.round(np.linalg.inv(matrix) * det).astype(int) % modulo\n",
    "    return (det_inv * adjugate) % modulo"
   ],
   "metadata": {
    "collapsed": false,
    "ExecuteTime": {
     "end_time": "2024-12-09T19:45:45.841968Z",
     "start_time": "2024-12-09T19:45:45.839776Z"
    }
   },
   "id": "855480cf7414a0e5",
   "execution_count": 823
  },
  {
   "cell_type": "code",
   "outputs": [],
   "source": [
    "def inverse_2x2_mod(matrix, modulo):\n",
    "    a, b = matrix[0]\n",
    "    c, d = matrix[1]\n",
    "    det = int((a*d - b*c) % modulo)  # Ensure det is a Python int\n",
    "    if math.gcd(det, modulo) != 1:\n",
    "        raise ValueError(\"Matrix not invertible modulo {}\".format(modulo))\n",
    "    \n",
    "    det_inv = pow(det, -1, modulo)  # Now det is a Python int, this should work\n",
    "    # Adjugate matrix = [[d, -b], [-c, a]]\n",
    "    return (det_inv * np.array([[d, -b],\n",
    "                                [-c, a]])) % modulo\n"
   ],
   "metadata": {
    "collapsed": false,
    "ExecuteTime": {
     "end_time": "2024-12-09T19:45:45.845756Z",
     "start_time": "2024-12-09T19:45:45.842994Z"
    }
   },
   "id": "f0b514f06758e58d",
   "execution_count": 824
  },
  {
   "cell_type": "code",
   "outputs": [],
   "source": [
    "def encrypt(plaintext, key_matrix, modulo, alphabet):\n",
    "    # Map characters to numbers\n",
    "    char_to_num = {char: idx + 1 for idx, char in enumerate(alphabet)}\n",
    "    num_to_char = {v: k for k, v in char_to_num.items()}\n",
    "\n",
    "    # Convert plaintext to numbers and pair into groups\n",
    "    numbers = [char_to_num[char] for char in plaintext if char in char_to_num]\n",
    "    if len(numbers) % 2 != 0:\n",
    "        numbers.append(0)  # Padding if necessary\n",
    "\n",
    "    plaintext_matrix = np.array(numbers).reshape(-1, 2).T\n",
    "    print(\"Original Matrix: \\n\", np.array(numbers).reshape(-1, 2))\n",
    "    ciphertext_matrix = (np.dot(key_matrix, plaintext_matrix) % modulo).T\n",
    "\n",
    "    # Convert numbers back to characters\n",
    "    ciphertext = ''.join(num_to_char.get(num, '') for pair in ciphertext_matrix for num in pair if num != 0)\n",
    "    return ciphertext, ciphertext_matrix"
   ],
   "metadata": {
    "collapsed": false,
    "ExecuteTime": {
     "end_time": "2024-12-09T19:45:45.850465Z",
     "start_time": "2024-12-09T19:45:45.847065Z"
    }
   },
   "id": "2c7da1b404df69e5",
   "execution_count": 825
  },
  {
   "cell_type": "code",
   "outputs": [],
   "source": [
    "def decrypt(ciphertext, inverse_key_matrix, modulo, alphabet):\n",
    "    # Map numbers back to plaintext\n",
    "    char_to_num = {char: idx + 1 for idx, char in enumerate(alphabet)}\n",
    "    num_to_char = {v: k for k, v in char_to_num.items()}\n",
    "\n",
    "    numbers = [char_to_num[char] for char in ciphertext if char in char_to_num]\n",
    "    if len(numbers) % 2 != 0:\n",
    "        numbers.append(0)  # Padding if necessary\n",
    "\n",
    "    cipher_matrix = np.array(numbers).reshape(-1, 2)\n",
    "\n",
    "    decrypted_matrix = (np.dot(inverse_key_matrix, cipher_matrix.T) % modulo).T\n",
    "    text = ''.join(num_to_char.get(int(round(num)), '') for pair in decrypted_matrix for num in pair if num != 0)\n",
    "    return text"
   ],
   "metadata": {
    "collapsed": false,
    "ExecuteTime": {
     "end_time": "2024-12-09T19:45:45.854172Z",
     "start_time": "2024-12-09T19:45:45.851233Z"
    }
   },
   "id": "d802c365f5648805",
   "execution_count": 826
  },
  {
   "cell_type": "code",
   "outputs": [
    {
     "name": "stdout",
     "output_type": "stream",
     "text": [
      "Key Matrix:\n",
      "[[3 2]\n",
      " [5 7]]\n",
      "Inverse Key Matrix:\n",
      "[[27 42]\n",
      " [47 53]]\n",
      "Original Matrix: \n",
      " [[ 8 31]\n",
      " [38 38]\n",
      " [41 53]\n",
      " [13 51]\n",
      " [53 40]\n",
      " [27 39]\n",
      " [31 53]\n",
      " [35 45]\n",
      " [53 14]\n",
      " [35 29]]\n",
      "Ciphertext Matrix:\n",
      "[[28 25]\n",
      " [16 50]\n",
      " [55 54]\n",
      " [25 16]\n",
      " [ 7 23]\n",
      " [43  2]\n",
      " [25  4]\n",
      " [21 26]\n",
      " [13 15]\n",
      " [47 30]]\n",
      "Original Text: Hello My name is Nic\n",
      "Ciphertext: bYPx,.YPGWqBYDUZMOud\n",
      "Decrypted Text: Hello My name is Nic\n",
      "Original Matrix: \n",
      " [[ 8 31]\n",
      " [38 38]\n",
      " [41 53]\n",
      " [13 51]\n",
      " [53 40]\n",
      " [27 39]\n",
      " [31 53]\n",
      " [35 45]\n",
      " [53 14]\n",
      " [35 29]]\n",
      "Ciphertext: JuLdal?HkcudufybuqQx\n",
      "Decrypted Text: Hello My name is Nic\n"
     ]
    }
   ],
   "source": [
    "modulo = 58  # Adjust modulo to match extended alphabet size\n",
    "alphabet = \"ABCDEFGHIJKLMNOPQRSTUVWXYZabcdefghijklmnopqrstuvwxyz .,!?\"\n",
    "\n",
    "plaintext = \"Hello My name is Nic\"\n",
    "key_matrix = np.array([\n",
    "    [3, 2],\n",
    "    [5, 7]\n",
    "])\n",
    "\n",
    "# Compute inverse key matrix dynamically\n",
    "inverse_key_matrix = inverse(key_matrix, modulo)\n",
    "print(f\"Key Matrix:\\n{key_matrix}\")\n",
    "print(f\"Inverse Key Matrix:\\n{inverse_key_matrix}\")\n",
    "\n",
    "# Encrypt the plaintext\n",
    "ciphertext, ciphertext_matrix = encrypt(plaintext, key_matrix, modulo, alphabet)\n",
    "print(f\"Ciphertext Matrix:\\n{ciphertext_matrix}\")\n",
    "\n",
    "# Decrypt the ciphertext\n",
    "decrypted_text = decrypt(ciphertext, inverse_key_matrix, modulo, alphabet)\n",
    "print(\"Original Text:\", plaintext)\n",
    "print(f\"Ciphertext: {ciphertext}\")\n",
    "print(f\"Decrypted Text: {decrypted_text}\")\n",
    "\n",
    "ciphertext, ciphertext_matrix = encrypt(plaintext, inverse_key_matrix, modulo, alphabet)\n",
    "decrypted_text = decrypt(ciphertext, key_matrix, modulo, alphabet)\n",
    "print(f\"Ciphertext: {ciphertext}\")\n",
    "print(f\"Decrypted Text: {decrypted_text}\")"
   ],
   "metadata": {
    "collapsed": false,
    "ExecuteTime": {
     "end_time": "2024-12-09T19:45:45.859087Z",
     "start_time": "2024-12-09T19:45:45.855122Z"
    }
   },
   "id": "5eeb9832cb154c86",
   "execution_count": 827
  },
  {
   "cell_type": "code",
   "outputs": [
    {
     "name": "stdout",
     "output_type": "stream",
     "text": [
      "Key Matrix:\n",
      "[[23  9]\n",
      " [ 9 32]]\n",
      "Inverse Key Matrix:\n",
      "[[36 37]\n",
      " [37 15]]\n",
      "Original Matrix: \n",
      " [[ 8 31]\n",
      " [38 38]\n",
      " [41 53]\n",
      " [13 51]\n",
      " [53 40]\n",
      " [27 39]\n",
      " [31 53]\n",
      " [35 45]\n",
      " [53 14]\n",
      " [35 29]]\n",
      "Ciphertext Matrix:\n",
      "[[57 20]\n",
      " [56 50]\n",
      " [28 35]\n",
      " [ 4  9]\n",
      " [13 17]\n",
      " [44 41]\n",
      " [30  3]\n",
      " [50 15]\n",
      " [11 55]\n",
      " [22 25]]\n",
      "Original Text: Hello My name is Nic\n",
      "Ciphertext: ?T!xbiDIMQrodCxOK,VY\n",
      "Decrypted Text: Hello My name is Nic\n"
     ]
    }
   ],
   "source": [
    "modulo = 58  # Adjust modulo to match extended alphabet size\n",
    "alphabet = \"ABCDEFGHIJKLMNOPQRSTUVWXYZabcdefghijklmnopqrstuvwxyz .,!?\"\n",
    "\n",
    "plaintext = \"Hello My name is Nic\"\n",
    "key_matrix, inverse_key_matrix = generateKeyMatrix(2, modulo)\n",
    "\n",
    "# Compute inverse key matrix dynamically\n",
    "\n",
    "print(f\"Key Matrix:\\n{key_matrix}\")\n",
    "print(f\"Inverse Key Matrix:\\n{inverse_key_matrix}\")\n",
    "\n",
    "# Encrypt the plaintext\n",
    "ciphertext, ciphertext_matrix = encrypt(plaintext, key_matrix, modulo, alphabet)\n",
    "print(f\"Ciphertext Matrix:\\n{ciphertext_matrix}\")\n",
    "\n",
    "# Decrypt the ciphertext\n",
    "decrypted_text = decrypt(ciphertext, inverse_key_matrix, modulo, alphabet)\n",
    "print(\"Original Text:\", plaintext)\n",
    "print(f\"Ciphertext: {ciphertext}\")\n",
    "print(f\"Decrypted Text: {decrypted_text}\")"
   ],
   "metadata": {
    "collapsed": false,
    "ExecuteTime": {
     "end_time": "2024-12-09T19:45:45.863514Z",
     "start_time": "2024-12-09T19:45:45.860502Z"
    }
   },
   "id": "12737eed0d0fd8e5",
   "execution_count": 828
  },
  {
   "cell_type": "code",
   "outputs": [],
   "source": [
    "def minor_mod(M, i, j, mod):\n",
    "    # Return the minor matrix M_(i,j) with the ith row and jth column removed\n",
    "    return np.delete(np.delete(M, i, axis=0), j, axis=1) % mod"
   ],
   "metadata": {
    "collapsed": false,
    "ExecuteTime": {
     "end_time": "2024-12-09T19:45:45.866127Z",
     "start_time": "2024-12-09T19:45:45.864272Z"
    }
   },
   "id": "7ae41cae204b9aaf",
   "execution_count": 829
  },
  {
   "cell_type": "code",
   "outputs": [],
   "source": [
    "def determinant_mod(M, mod):\n",
    "    # Compute the determinant of M mod 'mod' using recursion (Laplace expansion)\n",
    "    M = M % mod\n",
    "    n = M.shape[0]\n",
    "    if n == 1:\n",
    "        return M[0,0] % mod\n",
    "    elif n == 2:\n",
    "        return (M[0,0]*M[1,1] - M[0,1]*M[1,0]) % mod\n",
    "\n",
    "    det_val = 0\n",
    "    for j in range(n):\n",
    "        cofactor = ((-1)**j) * M[0,j] * determinant_mod(minor_mod(M, 0, j, mod), mod)\n",
    "        det_val = (det_val + cofactor) % mod\n",
    "    return det_val % mod"
   ],
   "metadata": {
    "collapsed": false,
    "ExecuteTime": {
     "end_time": "2024-12-09T19:45:45.869497Z",
     "start_time": "2024-12-09T19:45:45.866701Z"
    }
   },
   "id": "bc5ab4e884402b1a",
   "execution_count": 830
  },
  {
   "cell_type": "code",
   "outputs": [],
   "source": [
    "def adjugate_mod(M, mod):\n",
    "    n = M.shape[0]\n",
    "    adj = np.zeros_like(M, dtype=int)\n",
    "    for i in range(n):\n",
    "        for j in range(n):\n",
    "            # Compute cofactor C[i,j]\n",
    "            C_ij = ((-1)**(i+j)) * determinant_mod(minor_mod(M, i, j, mod), mod)\n",
    "            # Note: adjugate is transpose of the cofactor matrix\n",
    "            adj[j, i] = C_ij % mod\n",
    "    return adj % mod"
   ],
   "metadata": {
    "collapsed": false,
    "ExecuteTime": {
     "end_time": "2024-12-09T19:45:45.872928Z",
     "start_time": "2024-12-09T19:45:45.870846Z"
    }
   },
   "id": "302c59a366955c",
   "execution_count": 831
  },
  {
   "cell_type": "code",
   "outputs": [],
   "source": [
    "def inverse_nxn_mod(M, mod):\n",
    "    # Compute the modular inverse of an n×n matrix M under modulo 'mod'\n",
    "    M = M % mod\n",
    "    det = determinant_mod(M, mod)\n",
    "    if math.gcd(det, mod) != 1:\n",
    "        raise ValueError(\"Matrix not invertible modulo {}\".format(mod))\n",
    "    det_inv = pow(int(det), -1, mod)\n",
    "    adj = adjugate_mod(M, mod)\n",
    "    return (det_inv * adj) % mod"
   ],
   "metadata": {
    "collapsed": false,
    "ExecuteTime": {
     "end_time": "2024-12-09T19:45:45.875451Z",
     "start_time": "2024-12-09T19:45:45.873582Z"
    }
   },
   "id": "91ace6b5ab05c1a3",
   "execution_count": 832
  },
  {
   "cell_type": "code",
   "outputs": [],
   "source": [
    "def generateKeyMatrix(n, modulo):\n",
    "    while True:\n",
    "        key_matrix = np.random.randint(1, modulo, size=(n, n))\n",
    "        print(\"Finding DET\")\n",
    "        det = determinant_mod(key_matrix, modulo)\n",
    "        print(\"Found DET\")\n",
    "        print(\"Failed Iteration\")\n",
    "        if math.gcd(det, modulo) == 1:\n",
    "            try:\n",
    "                inverse_key_matrix = inverse_nxn_mod(key_matrix, modulo)\n",
    "                return key_matrix, inverse_key_matrix\n",
    "            except ValueError:\n",
    "                continue\n",
    "        else:\n",
    "            print(\"Failed Iteration\")\n"
   ],
   "metadata": {
    "collapsed": false,
    "ExecuteTime": {
     "end_time": "2024-12-09T19:45:45.878245Z",
     "start_time": "2024-12-09T19:45:45.876063Z"
    }
   },
   "id": "fa16243b1bacf0da",
   "execution_count": 833
  },
  {
   "cell_type": "code",
   "outputs": [],
   "source": [
    "def encryptNN(plaintext, key_matrix, modulo, alphabet):\n",
    "    n = key_matrix.shape[0]\n",
    "    char_to_num = {char: idx + 1 for idx, char in enumerate(alphabet)}\n",
    "    num_to_char = {v: k for k, v in char_to_num.items()}\n",
    "\n",
    "    numbers = [char_to_num[char] for char in plaintext if char in char_to_num]\n",
    "\n",
    "    # Pad so length is a multiple of n\n",
    "    while len(numbers) % n != 0:\n",
    "        numbers.append(0)\n",
    "\n",
    "    # Reshape into n-rows and as many columns as needed, then transpose\n",
    "    plaintext_matrix = np.array(numbers).reshape(-1, n).T\n",
    "    print(\"Plain Text Matrix: \\n\", plaintext_matrix)\n",
    "    ciphertext_matrix = (np.dot(key_matrix, plaintext_matrix) % modulo).T\n",
    "\n",
    "    # Convert numbers back to characters\n",
    "    ciphertext = ''.join(num_to_char.get(num, '')\n",
    "                         for row in ciphertext_matrix\n",
    "                         for num in row if num != 0)\n",
    "    return ciphertext, ciphertext_matrix"
   ],
   "metadata": {
    "collapsed": false,
    "ExecuteTime": {
     "end_time": "2024-12-09T19:45:45.881583Z",
     "start_time": "2024-12-09T19:45:45.878920Z"
    }
   },
   "id": "96980e7070e215cb",
   "execution_count": 834
  },
  {
   "cell_type": "code",
   "outputs": [],
   "source": [
    "\n",
    "\n",
    "def decryptNN(ciphertext, inverse_key_matrix, modulo, alphabet):\n",
    "    n = inverse_key_matrix.shape[0]\n",
    "    char_to_num = {char: idx + 1 for idx, char in enumerate(alphabet)}\n",
    "    num_to_char = {v: k for k, v in char_to_num.items()}\n",
    "\n",
    "    numbers = [char_to_num[char] for char in ciphertext if char in char_to_num]\n",
    "\n",
    "    # Pad if needed\n",
    "    while len(numbers) % n != 0:\n",
    "        numbers.append(0)\n",
    "\n",
    "    cipher_matrix = np.array(numbers).reshape(-1, n)\n",
    "    decrypted_matrix = (np.dot(inverse_key_matrix, cipher_matrix.T) % modulo).T\n",
    "\n",
    "    text = ''.join(num_to_char.get(int(num), '')\n",
    "                   for row in decrypted_matrix\n",
    "                   for num in row if num != 0)\n",
    "    return text\n"
   ],
   "metadata": {
    "collapsed": false,
    "ExecuteTime": {
     "end_time": "2024-12-09T19:45:45.885635Z",
     "start_time": "2024-12-09T19:45:45.883064Z"
    }
   },
   "id": "73b8b087e6c3688f",
   "execution_count": 835
  },
  {
   "cell_type": "code",
   "outputs": [
    {
     "name": "stdout",
     "output_type": "stream",
     "text": [
      "Finding DET\n",
      "Found DET\n",
      "Failed Iteration\n",
      "Failed Iteration\n",
      "Finding DET\n",
      "Found DET\n",
      "Failed Iteration\n",
      "Key Matrix:\n",
      "[[40 11]\n",
      " [15 49]]\n",
      "Inverse Key Matrix:\n",
      "[[ 3 23]\n",
      " [ 5  6]]\n",
      "Original Matrix: \n",
      " [[ 8 31]\n",
      " [38 38]\n",
      " [41 53]\n",
      " [13 51]\n",
      " [53 40]\n",
      " [27 39]\n",
      " [31 53]\n",
      " [35 45]\n",
      " [53 14]\n",
      " [35 29]]\n",
      "Original Text: Hello My name is Nic\n",
      "Ciphertext: WOX.SVkZHcA.YtmDLekf\n",
      "Decrypted Text: Hello My name is Nic\n"
     ]
    }
   ],
   "source": [
    "modulo = 58  # Adjust modulo to match extended alphabet size\n",
    "alphabet = \"ABCDEFGHIJKLMNOPQRSTUVWXYZabcdefghijklmnopqrstuvwxyz .,!?\"\n",
    "\n",
    "plaintext = \"Hello My name is Nic\"\n",
    "key_matrix, inverse_key_matrix = generateKeyMatrix(2, modulo)\n",
    "\n",
    "# Compute inverse key matrix dynamically\n",
    "\n",
    "print(f\"Key Matrix:\\n{key_matrix}\")\n",
    "print(f\"Inverse Key Matrix:\\n{inverse_key_matrix}\")\n",
    "\n",
    "# Encrypt the plaintext\n",
    "ciphertext, ciphertext_matrix = encrypt(plaintext, key_matrix, modulo, alphabet)\n",
    "\n",
    "# Decrypt the ciphertext\n",
    "decrypted_text = decrypt(ciphertext, inverse_key_matrix, modulo, alphabet)\n",
    "print(\"Original Text:\", plaintext)\n",
    "print(f\"Ciphertext: {ciphertext}\")\n",
    "print(f\"Decrypted Text: {decrypted_text}\")"
   ],
   "metadata": {
    "collapsed": false,
    "ExecuteTime": {
     "end_time": "2024-12-09T19:45:45.888872Z",
     "start_time": "2024-12-09T19:45:45.886327Z"
    }
   },
   "id": "ae531fd46ccb6778",
   "execution_count": 836
  },
  {
   "cell_type": "code",
   "outputs": [
    {
     "name": "stdout",
     "output_type": "stream",
     "text": [
      "Finding DET\n",
      "Found DET\n",
      "Failed Iteration\n",
      "Key Matrix:\n",
      "[[32  6 55 26 40 53 30]\n",
      " [ 3 37 24 12 24 22 34]\n",
      " [ 9  9 24 25 14 23 26]\n",
      " [53 10 37 33 55 41  2]\n",
      " [16 29  4  5 22 50  8]\n",
      " [14 54 36 55 56 44 18]\n",
      " [50 48 56 23  7 33 21]]\n",
      "Inverse Key Matrix:\n",
      "[[50 15 14 44 39 53  2]\n",
      " [12 52 30 12 15 21 30]\n",
      " [41 41 37 56 54  5 20]\n",
      " [14 56 44 46 22 31 22]\n",
      " [37 37 24  1 35 46 56]\n",
      " [ 0 37 33  2 40 41 42]\n",
      " [ 1  2  9 43 39 44 27]]\n",
      "Plain Text Matrix: \n",
      " [[ 8 51 35]\n",
      " [31 53 45]\n",
      " [38 40 53]\n",
      " [38 27 14]\n",
      " [41 39 35]\n",
      " [53 31 29]\n",
      " [13 53  0]]\n",
      "Original Text: Hello My name is Nic\n",
      "Ciphertext: GazRkNGQftTbonHvSLQRx\n",
      "Decrypted Text: Hello My name is Nic\n"
     ]
    }
   ],
   "source": [
    "modulo = 58  # Adjust modulo to match extended alphabet size\\\n",
    "keyMatrixSize = 7\n",
    "alphabet = \"ABCDEFGHIJKLMNOPQRSTUVWXYZabcdefghijklmnopqrstuvwxyz .,!?\"\n",
    "\n",
    "plaintext = \"Hello My name is Nic\"\n",
    "key_matrix, inverse_key_matrix = generateKeyMatrix(keyMatrixSize, modulo)\n",
    "\n",
    "\n",
    "# Compute inverse key matrix dynamically\n",
    "print(f\"Key Matrix:\\n{key_matrix}\")\n",
    "print(f\"Inverse Key Matrix:\\n{inverse_key_matrix}\")\n",
    "\n",
    "# Encrypt the plaintext\n",
    "ciphertext, ciphertext_matrix = encryptNN(plaintext, key_matrix, modulo, alphabet)\n",
    "\n",
    "# Decrypt the ciphertext\n",
    "decrypted_text = decryptNN(ciphertext, inverse_key_matrix, modulo, alphabet)\n",
    "print(\"Original Text:\", plaintext)\n",
    "print(f\"Ciphertext: {ciphertext}\")\n",
    "print(f\"Decrypted Text: {decrypted_text}\")"
   ],
   "metadata": {
    "collapsed": false,
    "ExecuteTime": {
     "end_time": "2024-12-09T19:45:46.050641Z",
     "start_time": "2024-12-09T19:45:45.889470Z"
    }
   },
   "id": "5cf3dbb61281f0ae",
   "execution_count": 837
  },
  {
   "cell_type": "code",
   "outputs": [],
   "source": [
    "lyrics = '''\n",
    "We're no strangers to love\n",
    "You know the rules and so do I\n",
    "A full commitment's what I'm thinkin' of\n",
    "You wouldn't get this from any other guy\n",
    "I just wanna tell you how I'm feeling\n",
    "Gotta make you understand\n",
    "Never gonna give you up\n",
    "Never gonna let you down\n",
    "Never gonna run around and desert you\n",
    "Never gonna make you cry\n",
    "Never gonna say goodbye\n",
    "Never gonna tell a lie and hurt you\n",
    "We've known each other for so long\n",
    "Your heart's been aching, but you're too shy to say it\n",
    "Inside, we both know what's been going on\n",
    "We know the game and we're gonna play it\n",
    "And if you ask me how I'm feeling\n",
    "Don't tell me you're too blind to see\n",
    "Never gonna give you up\n",
    "Never gonna let you down\n",
    "Never gonna run around and desert you\n",
    "Never gonna make you cry\n",
    "Never gonna say goodbye\n",
    "Never gonna tell a lie and hurt you\n",
    "Never gonna give you up\n",
    "Never gonna let you down\n",
    "Never gonna run around and desert you\n",
    "Never gonna make you cry\n",
    "Never gonna say goodbye\n",
    "Never gonna tell a lie and hurt you\n",
    "We've known each other for so long\n",
    "Your heart's been aching, but you're too shy to say it\n",
    "Inside, we both know what's been going on\n",
    "We know the game and we're gonna play it\n",
    "I just wanna tell you how I'm feeling\n",
    "Gotta make you understand\n",
    "Never gonna give you up\n",
    "Never gonna let you down\n",
    "Never gonna run around and desert you\n",
    "Never gonna make you cry\n",
    "Never gonna say goodbye\n",
    "Never gonna tell a lie and hurt you\n",
    "Never gonna give you up\n",
    "Never gonna let you down\n",
    "Never gonna run around and desert you\n",
    "Never gonna make you cry\n",
    "Never gonna say goodbye\n",
    "Never gonna tell a lie and hurt you\n",
    "Never gonna give you up\n",
    "Never gonna let you down\n",
    "Never gonna run around and desert you\n",
    "Never gonna make you cry\n",
    "Never gonna say goodbye\n",
    "Never gonna tell a lie and hurt you\n",
    "'''"
   ],
   "metadata": {
    "collapsed": false,
    "ExecuteTime": {
     "end_time": "2024-12-09T19:45:46.053371Z",
     "start_time": "2024-12-09T19:45:46.051330Z"
    }
   },
   "id": "8315a783a2745cc",
   "execution_count": 838
  },
  {
   "cell_type": "code",
   "outputs": [
    {
     "name": "stdout",
     "output_type": "stream",
     "text": [
      "Finding DET\n",
      "Found DET\n",
      "Failed Iteration\n",
      "Failed Iteration\n",
      "Finding DET\n",
      "Found DET\n",
      "Failed Iteration\n",
      "Failed Iteration\n",
      "Finding DET\n",
      "Found DET\n",
      "Failed Iteration\n",
      "Failed Iteration\n",
      "Finding DET\n",
      "Found DET\n",
      "Failed Iteration\n",
      "Failed Iteration\n",
      "Finding DET\n",
      "Found DET\n",
      "Failed Iteration\n",
      "Key Matrix:\n",
      "[[27 57]\n",
      " [27 54]]\n",
      "Inverse Key Matrix:\n",
      "[[38  5]\n",
      " [39 19]]\n",
      "Plain Text Matrix: \n",
      " [[23 44 53 ... 44 53 41]\n",
      " [31 31 40 ... 46 51 47]]\n",
      "Original Text: \n",
      "We're no strangers to love\n",
      "You know the rules and so do I\n",
      "A full commitment's what I'm thinkin' of\n",
      "You wouldn't get this from any other guy\n",
      "I just wanna tell you how I'm feeling\n",
      "Gotta make you understand\n",
      "Never gonna give you up\n",
      "Never gonna let you down\n",
      "Never gonna run around and desert you\n",
      "Never gonna make you cry\n",
      "Never gonna say goodbye\n",
      "Never gonna tell a lie and hurt you\n",
      "We've known each other for so long\n",
      "Your heart's been aching, but you're too shy to say it\n",
      "Inside, we both know what's been going on\n",
      "We know the game and we're gonna play it\n",
      "And if you ask me how I'm feeling\n",
      "Don't tell me you're too blind to see\n",
      "Never gonna give you up\n",
      "Never gonna let you down\n",
      "Never gonna run around and desert you\n",
      "Never gonna make you cry\n",
      "Never gonna say goodbye\n",
      "Never gonna tell a lie and hurt you\n",
      "Never gonna give you up\n",
      "Never gonna let you down\n",
      "Never gonna run around and desert you\n",
      "Never gonna make you cry\n",
      "Never gonna say goodbye\n",
      "Never gonna tell a lie and hurt you\n",
      "We've known each other for so long\n",
      "Your heart's been aching, but you're too shy to say it\n",
      "Inside, we both know what's been going on\n",
      "We know the game and we're gonna play it\n",
      "I just wanna tell you how I'm feeling\n",
      "Gotta make you understand\n",
      "Never gonna give you up\n",
      "Never gonna let you down\n",
      "Never gonna run around and desert you\n",
      "Never gonna make you cry\n",
      "Never gonna say goodbye\n",
      "Never gonna tell a lie and hurt you\n",
      "Never gonna give you up\n",
      "Never gonna let you down\n",
      "Never gonna run around and desert you\n",
      "Never gonna make you cry\n",
      "Never gonna say goodbye\n",
      "Never gonna tell a lie and hurt you\n",
      "Never gonna give you up\n",
      "Never gonna let you down\n",
      "Never gonna run around and desert you\n",
      "Never gonna make you cry\n",
      "Never gonna say goodbye\n",
      "Never gonna tell a lie and hurt you\n",
      "\n",
      "Ciphertext: Jg,T? JYIsAjCTmWBQohACOsoPwBG tzIvDdsmNIfBQyuCRNGIiJYJGGaMOsBtmbacGjAvZBQMasWdCNcvDiejuo!ey.u!MF?MOPLcrvMcrvDdKGaslNcyuvEQ QngvfGhGCKFscrT,.xl yPBDtIPwESNodCNcUrsuieNyQ ,f?.AdsB !MKGYvoV,fFf?VuLgvle.xl r,uLtIPwxYRhiGmWFWWSIrACkOtIPwIiNoVliGmWFWWSIr kKGLuslKGCRyuCRYvXunRtIPw?VuLgvle.xl nQnEtIPwJmi!?VuLgvle.xl bEvElegAIdKaiGmWFWWSIrycsusBl EPdsyuCRAhnRtIPwJguLBG tGCHeDg JQ QngvKDgvNGACWS.kPwgvQnuekRKqzQo!DgMXCTn,MtcrB GwdsohJYUivEohzgnCDOOtwdsMbkvQdsSLvDBG tzIMasWBQczqmFWbmCT!wMBdseaNoycQnFWzydsyuCRPm,TFWWSIr,sMvvEcGsoCRqEtIPwLuRW?dsGzIdcGazQEPCTIBvZycsusBjAtIPw,TycVOKqEPFfycJYXuKaiGmWFWWSIrFWa?dsB !MI??VuLgvle.xl IfcrB !MOHGC?VuLgvle.xl mNo!uePwFfLuFfIilSmWcrB k iGmWFWWSIr?.AdsB !MqacsiGmWFWWSIrzgnCFWVObBLi?VuLgvle.xl yPBDLuACrILuFfESGwcrB k iGmWFWWSIrFWa?dsB !MI??VuLgvle.xl IfcrB !MOHGC?VuLgvle.xl mNo!uePwFfLuFfIilSmWcrB k iGmWFWWSIr?.AdsB !MqacsiGmWFWWSIrzgnCFWVObBLi?VuLgvle.xl yPBDLuACrILuFfESGwcrB bQiGdseaNoo!!g I!wvDmWGaSCzgJY?xCT.uGwES!gnRBQczqmLu IieXgKqEotIPw,TycVOzg,RycJYbEvEcGcYTeYvn,PmKqQ  JeaNovQU!kRKqzQo!leieZoWSJgBG tzIvDdszcjALuFfvQmWdsle.xl z.nCDOOtCKFscrT,.xl yPBDtIPwESNodCNcUrsuieNyQ ,f?.AdsB !MKGYvoV,fFf?VuLgvle.xl r,uLtIPwxYRhiGmWFWWSIrACkOtIPwIiNoVliGmWFWWSIr kKGLuslKGCRyuCRYvXunRtIPw?VuLgvle.xl nQnEtIPwJmi!?VuLgvle.xl bEvElegAIdKaiGmWFWWSIrycsusBl EPdsyuCRAhnRtIPw?VuLgvle.xl r,uLtIPwxYRhiGmWFWWSIrACkOtIPwIiNoVliGmWFWWSIr kKGLuslKGCRyuCRYvXunRtIPw?VuLgvle.xl nQnEtIPwJmi!?VuLgvle.xl bEvElegAIdKaiGmWFWWSIrycsusBl EPdsyuCRAhnRtIPw?VuLgvle.xl r,uLtIPwxYRhiGmWFWWSIrACkOtIPwIiNoVliGmWFWWSIr kKGLuslKGCRyuCRYvXunRtIPw?VuLgvle.xl nQnEtIPwJmi!?VuLgvle.xl bEvElegAIdKaiGmWFWWSIrycsusBl EPdsyuCRAhnRtIPw\n",
      "\n",
      "Decrypted Text: Were no strangers to lovNuPiIDj!BsLdwB,UHJeHChnUltuNEKuXovPX!WKlnctWLHOngzlQJiHMkIXkSBUuD?j,BoahLSUg!RAN!RLdungzFHWL.Sq.KLCoLrdwwnpU?rfHnmBDGTlXhrPQehlUZWJiuVoSuDdYyxalyKake you understandNever gonna give you upNever gonna let you downNever gonna run around and desert youNever gonna make you cryNever gonna say goodbyeNever gonna tell a lie and hurt youWeve known each other for so longYour hearts been aching, but youre too shy to say itInside, we both know whats been going onWe know the game and were gonna play itAnd if you ask.IEfw Im feelingDont tell me youre too blind to seeNever gonna give you upNever gonna let you downNever gonna run around and desert youNever gonnaANcl f?MvKlcp,bhYCMpRjDQb?!mNOTPwLaKoypp!eBDGTlXljy.rY.?RgWICDiZN rqF,bhYCMpTfWR.Il f?QnOaKoypp!eBDchaANf?ulwmynaKoypp!eBDEXowqCnEj ZRgqaL?ufg!N rqF,bhYCMpqOake you cryNever gonna say goodbyeNever gonna tell a lie and hurt youWeve known each other for so longYour hearts been aching, but youre too shy to say itInside, we both know whats been going onWe know the game and were gonna play itI just wanna tell you how Im feelingGottaANcl f?aTqz?oIubbyKaKoypp!eBDdCEVvHPQXS.oQS,bhYCMp  IHtIPQyzHGrs A,bhYCMpW,KbjkmTwIwnKuCh,QdHNorJPQAjaKoypp!eBDJqheNYPQ!MgniSaKoypp!eBDHuXEfuIlYjisoj,bhYCMpMQyNmThtIPDhy!ChyYp!rJPQAjaKoypp!eBDdCEVvHPQXS.oQS,bhYCMp  IHtIPQyzHGrs A,bhYCMpW,KbjkmTwIwnKuCh,QdHNorJPQAjaKoypp!eBDJqheNYPQ!MgniSaKoypp!eBDHuXEfuIlYjisoj,bhYCMpMQyNmThtIPDhy!ChyYp!rJPQAjaKoypp!eBDdCEVvHPQXS.oQS,bhYCMp  IHtIPQyzHGrs A,bhYCMpW,KbjkmTwIwnKuCh,QdHNorJPQAjaKoypp!eBDJqheNYPQ!MgniSaKoypp!eBDHuXEfuIlYjisoj,bhYCMpMQyNmThtIPDhy!ChyYp!rJPQF,\n"
     ]
    }
   ],
   "source": [
    "modulo = 58  # Adjust modulo to match extended alphabet size\\\n",
    "keyMatrixSize = 2\n",
    "alphabet = \"ABCDEFGHIJKLMNOPQRSTUVWXYZabcdefghijklmnopqrstuvwxyz .,!?\"\n",
    "\n",
    "plaintext = lyrics\n",
    "key_matrix, inverse_key_matrix = generateKeyMatrix(keyMatrixSize, modulo)\n",
    "\n",
    "\n",
    "# Compute inverse key matrix dynamically\n",
    "print(f\"Key Matrix:\\n{key_matrix}\")\n",
    "print(f\"Inverse Key Matrix:\\n{inverse_key_matrix}\")\n",
    "\n",
    "# Encrypt the plaintext\n",
    "ciphertext, ciphertext_matrix = encryptNN(plaintext, key_matrix, modulo, alphabet)\n",
    "\n",
    "# Decrypt the ciphertext\n",
    "decrypted_text = decryptNN(ciphertext, inverse_key_matrix, modulo, alphabet)\n",
    "print(\"Original Text:\", plaintext)\n",
    "print(f\"Ciphertext: {ciphertext}\")\n",
    "print()\n",
    "print(f\"Decrypted Text: {decrypted_text}\")"
   ],
   "metadata": {
    "collapsed": false,
    "ExecuteTime": {
     "end_time": "2024-12-09T19:45:46.058782Z",
     "start_time": "2024-12-09T19:45:46.054924Z"
    }
   },
   "id": "50f90ac36a68aeb9",
   "execution_count": 839
  }
 ],
 "metadata": {
  "kernelspec": {
   "display_name": "Python 3",
   "language": "python",
   "name": "python3"
  },
  "language_info": {
   "codemirror_mode": {
    "name": "ipython",
    "version": 2
   },
   "file_extension": ".py",
   "mimetype": "text/x-python",
   "name": "python",
   "nbconvert_exporter": "python",
   "pygments_lexer": "ipython2",
   "version": "2.7.6"
  }
 },
 "nbformat": 4,
 "nbformat_minor": 5
}
