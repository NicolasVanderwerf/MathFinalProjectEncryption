{
 "cells": [
  {
   "metadata": {},
   "cell_type": "markdown",
   "source": [
    "# Matrix Encryption\n",
    "Makenna Worley and Nic Van Der Werf\n",
    "\n",
    "An exploration into encrypting data through matrices transformations and modular arithmetic"
   ],
   "id": "13985eb8b585a9e2"
  },
  {
   "cell_type": "code",
   "id": "initial_id",
   "metadata": {
    "collapsed": true
   },
   "source": [
    "# Importing and declaring global variables\n",
    "import numpy as np\n",
    "import math\n",
    "import random\n",
    "\n",
    "from ipywidgets import widgets\n",
    "from IPython.display import display\n",
    "\n",
    "MODULO = 59\n",
    "ALPHABET = \"ABCDEFGHIJKLMNOPQRSTUVWXYZabcdefghijklmnopqrstuvwxyz .,!?'\\n\"\n",
    "# print(len(ALPHABET))\n",
    "\n",
    "KEY_MATRIX_2x2 = np.array([\n",
    "    [3, 2],\n",
    "    [5, 7]\n",
    "])\n",
    "\n",
    "text1 = open('text/one.txt').read()\n",
    "text2 = open('text/two.txt').read()\n",
    "text3 = open('text/our_super_secret_message.txt').read()"
   ],
   "outputs": [],
   "execution_count": null
  },
  {
   "metadata": {},
   "cell_type": "markdown",
   "source": "Functions that will help us with encrypting and decrypting our secret messages!",
   "id": "12dc1ec93b09be3a"
  },
  {
   "cell_type": "markdown",
   "source": [
    "Generates a random 2 x 2 Key Matrix. Checks to make sure Greatest Common Denominator is 1 and that it is invertible with the modulo."
   ],
   "metadata": {
    "collapsed": false
   },
   "id": "b6ebf32969d817b2"
  },
  {
   "cell_type": "code",
   "outputs": [],
   "source": [
    "def generate_key_matrix_2x2(modulo):\n",
    "    while True:\n",
    "        key_matrix = np.random.randint(0, modulo, size=(2, 2))\n",
    "\n",
    "        # Calculating the determinant with Mod\n",
    "        a, b = key_matrix[0]\n",
    "        c, d = key_matrix[1]\n",
    "        det = (a*d - b*c) % modulo\n",
    "        if math.gcd(det, modulo) == 1:\n",
    "            try:\n",
    "                inverse_key_matrix = inverse_2x2_mod(key_matrix, modulo)\n",
    "                return key_matrix, inverse_key_matrix\n",
    "            except ValueError:\n",
    "                continue\n",
    "        else:\n",
    "            print(\"Failed Iteration\")"
   ],
   "metadata": {
    "collapsed": false
   },
   "id": "1f1dfeedf6b19cf6",
   "execution_count": null
  },
  {
   "cell_type": "markdown",
   "source": [
    "Inverts a 2 x 2 Matrix with the modulo using integers "
   ],
   "metadata": {
    "collapsed": false
   },
   "id": "4cd5ff34af8a8421"
  },
  {
   "cell_type": "code",
   "outputs": [],
   "source": [
    "def inverse_2x2_mod(matrix, modulo):\n",
    "    a, b = matrix[0]\n",
    "    c, d = matrix[1]\n",
    "    det = int((a*d - b*c) % modulo)\n",
    "    if math.gcd(det, modulo) != 1:\n",
    "        raise ValueError(\"Matrix not invertible modulo {}\".format(modulo))\n",
    "    det_inv = pow(det, -1, modulo)\n",
    "    return (det_inv * np.array([[d, -b],\n",
    "                                [-c, a]])) % modulo"
   ],
   "metadata": {
    "collapsed": false
   },
   "id": "a5a05819e3958255",
   "execution_count": null
  },
  {
   "cell_type": "markdown",
   "source": [
    "Encrypts plain text using a 2 x 2 key matrix. by converting text to integers based on the provided alphabet, creating a matrix of those integers, getting the dot product with the key, then converting back to text. Modulo is used to ensure all digits are in the range of the alphabet."
   ],
   "metadata": {
    "collapsed": false
   },
   "id": "48fa1888e159b3d8"
  },
  {
   "cell_type": "code",
   "outputs": [],
   "source": [
    "def encrypt(plaintext, key_matrix, modulo, alphabet):\n",
    "    # Map chars to numbers from 0 to len(alphabet)-1\n",
    "    char_to_num = {char: idx for idx, char in enumerate(alphabet)}\n",
    "    num_to_char = {v: k for k, v in char_to_num.items()}\n",
    "    padding_val = len(alphabet)  # Use a padding value outside the char range\n",
    "\n",
    "    # Convert plaintext to numbers\n",
    "    numbers = [char_to_num[c] for c in plaintext if c in char_to_num]\n",
    "\n",
    "    # Pad if necessary\n",
    "    if len(numbers) % 2 != 0:\n",
    "        numbers.append(padding_val)\n",
    "\n",
    "    plaintext_matrix = np.array(numbers).reshape(-1, 2).T\n",
    "    ciphertext_matrix = (key_matrix.dot(plaintext_matrix) % modulo).T\n",
    "\n",
    "    # Convert back to chars (skip padding_val when converting back)\n",
    "    ciphertext = []\n",
    "    for pair in ciphertext_matrix:\n",
    "        for num in pair:\n",
    "            if num != padding_val:\n",
    "                if num in num_to_char:\n",
    "                    ciphertext.append(num_to_char[num])\n",
    "                else:\n",
    "                    # If something unexpected, place a placeholder\n",
    "                    ciphertext.append('?')\n",
    "    return ''.join(ciphertext), ciphertext_matrix"
   ],
   "metadata": {
    "collapsed": false
   },
   "id": "5d4e7b3c0c25275e",
   "execution_count": null
  },
  {
   "cell_type": "markdown",
   "source": [
    "Decrypts plain text using a 2 x 2 inverse key matrix by converting text to integers based on the provided alphabet, creating a matrix of those integers, getting the dot product with the inverse key, then converting back to text. Modulo is used to ensure all digits are in the range of the alphabet."
   ],
   "metadata": {
    "collapsed": false
   },
   "id": "299a440a0df76052"
  },
  {
   "cell_type": "code",
   "outputs": [],
   "source": [
    "def decrypt(ciphertext, inverse_key_matrix, modulo, alphabet):\n",
    "    char_to_num = {char: idx for idx, char in enumerate(alphabet)}\n",
    "    num_to_char = {v: k for k, v in char_to_num.items()}\n",
    "    padding_val = len(alphabet)\n",
    "\n",
    "    numbers = [char_to_num[c] for c in ciphertext if c in char_to_num]\n",
    "    if len(numbers) % 2 != 0:\n",
    "        numbers.append(padding_val)\n",
    "\n",
    "    cipher_matrix = np.array(numbers).reshape(-1, 2)\n",
    "    decrypted_matrix = (inverse_key_matrix.dot(cipher_matrix.T) % modulo).T\n",
    "\n",
    "    # Convert back to text and remove padding\n",
    "    plaintext_chars = []\n",
    "    for pair in decrypted_matrix:\n",
    "        for num in pair:\n",
    "            if num == padding_val:\n",
    "                # Padding encountered, skip it\n",
    "                continue\n",
    "            if num in num_to_char:\n",
    "                plaintext_chars.append(num_to_char[num])\n",
    "            else:\n",
    "                plaintext_chars.append('*')\n",
    "    return ''.join(plaintext_chars).rstrip('A')"
   ],
   "metadata": {
    "collapsed": false
   },
   "id": "b1051b19258a65c3",
   "execution_count": null
  },
  {
   "cell_type": "markdown",
   "source": [
    "Generates a random n x n Key Matrix. Checks to make sure Greatest Common Denominator is 1 and that it is invertible with the modulo.\n"
   ],
   "metadata": {
    "collapsed": false
   },
   "id": "ccb84d0feab89e0c"
  },
  {
   "cell_type": "code",
   "outputs": [],
   "source": [
    "def generate_key_matrix_nxn(n, modulo):\n",
    "    while True:\n",
    "        key_matrix = np.random.randint(0, modulo, size=(n, n))\n",
    "        det = int(round(np.linalg.det(key_matrix))) % modulo\n",
    "        if math.gcd(det, modulo) == 1:\n",
    "            try:\n",
    "                inverse_key_matrix = inverse_nxn_mod(key_matrix, modulo)\n",
    "                return key_matrix, inverse_key_matrix\n",
    "            except ValueError:\n",
    "                continue\n",
    "        else:\n",
    "            # All matrices must be invertible\n",
    "            pass"
   ],
   "metadata": {
    "collapsed": false
   },
   "id": "c87425f21599cad9",
   "execution_count": null
  },
  {
   "cell_type": "markdown",
   "source": [
    "Inverts a n x n matrix with the modulo using Gaussian Elimination\n",
    "\n",
    "Inverting matrices with >2 rows and columns requires GCD since it is not guaranteed that rows and columns will be the same number, so we need to look at the coprime of them"
   ],
   "metadata": {
    "collapsed": false
   },
   "id": "7a2cb94e930b72e2"
  },
  {
   "cell_type": "code",
   "outputs": [],
   "source": [
    "def inverse_nxn_mod(matrix, modulo):\n",
    "    A = np.array(matrix, dtype=int) % modulo\n",
    "    n = A.shape[0]\n",
    "\n",
    "    I = np.eye(n, dtype=int)\n",
    "\n",
    "    # Perform Gaussian elimination\n",
    "    for i in range(n):\n",
    "        # Find pivot (row with non-zero element in column i)\n",
    "        for r in range(i, n):\n",
    "            if A[r, i] % modulo != 0:\n",
    "                # Swap pivot row if necessary\n",
    "                if r != i:\n",
    "                    A[[i, r]] = A[[r, i]]\n",
    "                    I[[i, r]] = I[[r, i]]\n",
    "                break\n",
    "        else:\n",
    "            # No pivot found, matrix not invertible\n",
    "            raise ValueError(\"Matrix not invertible modulo {}\".format(modulo))\n",
    "\n",
    "        # Normalize pivot row\n",
    "        inv_pivot = pow(int(A[i, i]), -1, modulo)\n",
    "        A[i] = (A[i] * inv_pivot) % modulo\n",
    "        I[i] = (I[i] * inv_pivot) % modulo\n",
    "\n",
    "        # Eliminate other rows\n",
    "        for r in range(n):\n",
    "            if r != i:\n",
    "                factor = A[r, i] % modulo\n",
    "                if factor != 0:\n",
    "                    A[r] = (A[r] - factor * A[i]) % modulo\n",
    "                    I[r] = (I[r] - factor * I[i]) % modulo\n",
    "\n",
    "    return I % modulo"
   ],
   "metadata": {
    "collapsed": false
   },
   "id": "c2427cdb5277501a",
   "execution_count": null
  },
  {
   "cell_type": "markdown",
   "source": [
    "Encrypts plain text using a n x n key matrix. by converting text to integers based on the provided alphabet, creating a matrix of those integers, getting the dot product with the key, then converting back to text. Modulo is used to ensure all digits are in the range of the alphabet.\n",
    "\n",
    "Matrix created from text is dynamically sized so that the dot product can be taken with the n x n key\n"
   ],
   "metadata": {
    "collapsed": false
   },
   "id": "e13d0393aa5402f3"
  },
  {
   "cell_type": "code",
   "outputs": [],
   "source": [
    "def encrypt_nxn(plaintext, key_matrix, modulo, alphabet):\n",
    "    # Map chars to numbers from 0 to len(alphabet)-1\n",
    "    n = key_matrix.shape[0]\n",
    "    char_to_num = {char: idx for idx, char in enumerate(alphabet)}\n",
    "    num_to_char = {v: k for k, v in char_to_num.items()}\n",
    "    padding_val = len(alphabet)  # Use a padding value outside the char range\n",
    "\n",
    "    # Convert plaintext to numbers\n",
    "    numbers = [char_to_num[c] for c in plaintext if c in char_to_num]\n",
    "\n",
    "    # Pad if necessary\n",
    "    remainder = len(numbers) % n\n",
    "    if remainder != 0:\n",
    "        numbers.extend([padding_val] * (n - remainder))\n",
    "\n",
    "    plaintext_matrix = np.array(numbers).reshape(-1, n).T\n",
    "    ciphertext_matrix = (key_matrix.dot(plaintext_matrix) % modulo).T\n",
    "\n",
    "    # Convert back to chars (skip padding_val when converting back)\n",
    "    ciphertext = []\n",
    "    for pair in ciphertext_matrix:\n",
    "        for num in pair:\n",
    "            if num != padding_val:\n",
    "                if num in num_to_char:\n",
    "                    ciphertext.append(num_to_char[num])\n",
    "                else:\n",
    "                    # If something unexpected, place a placeholder\n",
    "                    ciphertext.append('?')\n",
    "    return ''.join(ciphertext), ciphertext_matrix"
   ],
   "metadata": {
    "collapsed": false
   },
   "id": "bdafb66747688dc2",
   "execution_count": null
  },
  {
   "cell_type": "markdown",
   "source": [
    "Decrypts plain text using a 2 x 2 inverse key matrix by converting text to integers based on the provided alphabet, creating a matrix of those integers, getting the dot product with the inverse key, then converting back to text. Modulo is used to ensure all digits are in the range of the alphabet.\n",
    "\n",
    "Matrix created from text is dynamically sized so that the dot product can be taken with the n x n inverse key\n"
   ],
   "metadata": {
    "collapsed": false
   },
   "id": "f5cfe6cbc8fe8624"
  },
  {
   "cell_type": "code",
   "outputs": [],
   "source": [
    "def decrypt_nxn(ciphertext, inverse_key_matrix, modulo, alphabet):\n",
    "    n = inverse_key_matrix.shape[0]\n",
    "    char_to_num = {char: idx for idx, char in enumerate(alphabet)}\n",
    "    num_to_char = {v: k for k, v in char_to_num.items()}\n",
    "    padding_val = len(alphabet)\n",
    "\n",
    "    numbers = [char_to_num[c] for c in ciphertext if c in char_to_num]\n",
    "    remainder = len(numbers) % n\n",
    "    if remainder != 0:\n",
    "        numbers.extend([padding_val] * (n - remainder))\n",
    "\n",
    "    cipher_matrix = np.array(numbers).reshape(-1, n)\n",
    "    decrypted_matrix = (inverse_key_matrix.dot(cipher_matrix.T) % modulo).T\n",
    "\n",
    "    # Convert back to text and remove padding\n",
    "    plaintext_chars = []\n",
    "    for pair in decrypted_matrix:\n",
    "        for num in pair:\n",
    "            if num == padding_val:\n",
    "                # Padding encountered, skip it\n",
    "                continue\n",
    "            if num in num_to_char:\n",
    "                plaintext_chars.append(num_to_char[num])\n",
    "            else:\n",
    "                plaintext_chars.append('?')\n",
    "    dec = ''.join(plaintext_chars)\n",
    "    return dec.rstrip('A')"
   ],
   "metadata": {
    "collapsed": false
   },
   "id": "2561d6be663b150c",
   "execution_count": null
  },
  {
   "cell_type": "markdown",
   "source": [
    "Functions for creating and testing random strings with a 2 x 2 key matrix"
   ],
   "metadata": {
    "collapsed": false
   },
   "id": "da21553585024c1e"
  },
  {
   "cell_type": "code",
   "source": [
    "def generate_random_string(alphabet, l):\n",
    "    return ''.join(random.choice(alphabet) for _ in range(l))\n",
    "\n",
    "\n",
    "def test_encryption_decryption(l):\n",
    "    plaintext = generate_random_string(ALPHABET, l)\n",
    "    ciphertext, ciphertext_matrix = encrypt(plaintext, KEY_MATRIX_2x2, MODULO, ALPHABET)\n",
    "    decrypted_text = decrypt(ciphertext, inverse_key_matrix, MODULO, ALPHABET)\n",
    "    return plaintext, decrypted_text, plaintext == decrypted_text"
   ],
   "metadata": {
    "collapsed": false
   },
   "id": "33c9131fcbfa8bb0",
   "outputs": [],
   "execution_count": null
  },
  {
   "metadata": {},
   "cell_type": "markdown",
   "source": "First testing our matrix to make sure it is invertible and therefore useable for our purposes.",
   "id": "3f1d0ecaf506f153"
  },
  {
   "cell_type": "code",
   "source": [
    "inverse_key_matrix = inverse_2x2_mod(KEY_MATRIX_2x2, MODULO)\n",
    "\n",
    "for idx in range(1, 51):\n",
    "    plaintext, decrypted_text, result = test_encryption_decryption(200)\n",
    "    if result:\n",
    "        print(f\"Test {idx}: True\")\n",
    "    else:\n",
    "        print(f\"Test {idx}: False\")\n",
    "        print(f\"  Original: {plaintext}\")\n",
    "        print(f\"  Decrypted: {decrypted_text}\")"
   ],
   "metadata": {
    "collapsed": false
   },
   "id": "1a4d3f1e85aebb8a",
   "outputs": [],
   "execution_count": null
  },
  {
   "metadata": {},
   "cell_type": "markdown",
   "source": "Now let's look at our encrypting a message using our predefined KEY_MATRIX_2x2",
   "id": "fd4c5f07fa2ffd0a"
  },
  {
   "metadata": {
    "collapsed": false
   },
   "cell_type": "code",
   "source": [
    "MESSAGE = \"Hello my name is Makenna\"\n",
    "\n",
    "inverse_key_matrix = inverse_2x2_mod(KEY_MATRIX_2x2, MODULO)\n",
    "print(f\"Key Matrix:\\n{KEY_MATRIX_2x2}\")\n",
    "print(f\"Inverse Key Matrix:\\n{inverse_key_matrix}\")\n",
    "\n",
    "ciphertext, ciphertext_matrix = encrypt(MESSAGE, KEY_MATRIX_2x2, MODULO, ALPHABET)\n",
    "print(f\"Ciphertext Matrix:\\n{ciphertext_matrix}\")\n",
    "\n",
    "decrypted_text = decrypt(ciphertext, inverse_key_matrix, MODULO, ALPHABET)\n",
    "print(f\"Ciphertext: {ciphertext}\")\n",
    "print(f\"Condition: {np.linalg.cond(KEY_MATRIX_2x2)}\")\n",
    "\n",
    "original_text = MESSAGE\n",
    "\n",
    "print(\"Cipher Text Matrx: \\n\", ciphertext_matrix)\n",
    "print(\"\\n\\n\")\n",
    "\n",
    "print(\"Original Text :   \",original_text)\n",
    "print()\n",
    "print(\"Cipher Text   :   \",ciphertext)\n",
    "print()\n",
    "print(\"Decrypted Text:   \",decrypted_text)\n"
   ],
   "id": "5eeb9832cb154c86",
   "outputs": [],
   "execution_count": null
  },
  {
   "cell_type": "markdown",
   "source": [
    "Example with the generating of a 2 x 2 random key. "
   ],
   "metadata": {
    "collapsed": false
   },
   "id": "e0e924355c41d52d"
  },
  {
   "metadata": {
    "collapsed": false
   },
   "cell_type": "code",
   "source": [
    "MESSAGE = \"Hello my name is Nic\"\n",
    "\n",
    "key_matrix, inverse_key_matrix = generate_key_matrix_2x2(MODULO)\n",
    "\n",
    "print(f\"Key Matrix:\\n{KEY_MATRIX_2x2}\")\n",
    "print(f\"Inverse Key Matrix:\\n{inverse_key_matrix}\")\n",
    "\n",
    "ciphertext, ciphertext_matrix = encrypt(MESSAGE, key_matrix, MODULO, ALPHABET)\n",
    "\n",
    "decrypted_text = decrypt(ciphertext, inverse_key_matrix, MODULO, ALPHABET)\n",
    "\n",
    "original_text = MESSAGE\n",
    "\n",
    "print(\"Cipher Text Matrx: \\n\", ciphertext_matrix)\n",
    "print(\"\\n\\n\")\n",
    "\n",
    "print(\"Original Text :   \",original_text)\n",
    "print()\n",
    "print(\"Cipher Text   :   \",ciphertext)\n",
    "print()\n",
    "print(\"Decrypted Text:   \",decrypted_text)"
   ],
   "id": "960b069258a8220c",
   "outputs": [],
   "execution_count": null
  },
  {
   "cell_type": "code",
   "outputs": [],
   "source": [
    "MESSAGE = text1\n",
    "KEY_MATRIX_SIZE = 7\n",
    "\n",
    "key_matrix, inverse_key_matrix = generate_key_matrix_nxn(KEY_MATRIX_SIZE, MODULO)\n",
    "\n",
    "ciphertext, ciphertext_matrix = encrypt_nxn(MESSAGE, key_matrix, MODULO, ALPHABET)\n",
    "print(\"Plain Text Length:\", len(text1))\n",
    "print(\"Ciphertext Length:\", len(ciphertext))\n",
    "\n",
    "print(f\"Key Matrix:\\n{key_matrix}\")\n",
    "print(f\"Inverse Key Matrix:\\n{inverse_key_matrix}\")\n",
    "\n",
    "decrypted_text = decrypt_nxn(ciphertext, inverse_key_matrix, MODULO, ALPHABET)\n",
    "print(f\"Ciphertext: {ciphertext}\")\n",
    "\n",
    "original_text = MESSAGE\n",
    "\n",
    "original_button = widgets.Button(description=\"Show Original Text\")\n",
    "decrypted_button = widgets.Button(description=\"Show Decrypted Text\")\n",
    "original_output = widgets.Output()\n",
    "decrypted_output = widgets.Output()\n",
    "\n",
    "def show_original_text(button):\n",
    "    with original_output:\n",
    "        original_output.clear_output()\n",
    "        print(original_text)\n",
    "\n",
    "def show_decrypted_text(button):\n",
    "    with decrypted_output:\n",
    "        decrypted_output.clear_output()\n",
    "        print(decrypted_text)\n",
    "\n",
    "original_button.on_click(show_original_text)\n",
    "decrypted_button.on_click(show_decrypted_text)\n",
    "\n",
    "display(original_button, original_output)\n",
    "display(decrypted_button, decrypted_output)"
   ],
   "metadata": {
    "collapsed": false
   },
   "id": "20ca6fd6e7a16f9f",
   "execution_count": null
  },
  {
   "cell_type": "code",
   "outputs": [],
   "source": [
    "MESSAGE = text2\n",
    "KEY_MATRIX_SIZE = 23\n",
    "\n",
    "key_matrix, inverse_key_matrix = generate_key_matrix_nxn(KEY_MATRIX_SIZE, MODULO)\n",
    "\n",
    "ciphertext, ciphertext_matrix = encrypt_nxn(MESSAGE, key_matrix, MODULO, ALPHABET)\n",
    "print(\"Plain Text Length:\", len(text1))\n",
    "print(\"Ciphertext Length:\", len(ciphertext))\n",
    "\n",
    "print(f\"Key Matrix:\\n{key_matrix}\")\n",
    "print(f\"Inverse Key Matrix:\\n{inverse_key_matrix}\")\n",
    "\n",
    "decrypted_text = decrypt_nxn(ciphertext, inverse_key_matrix, MODULO, ALPHABET)\n",
    "print(f\"Ciphertext: {ciphertext}\")\n",
    "\n",
    "original_text = MESSAGE\n",
    "\n",
    "original_button = widgets.Button(description=\"Show Original Text\")\n",
    "decrypted_button = widgets.Button(description=\"Show Decrypted Text\")\n",
    "original_output = widgets.Output()\n",
    "decrypted_output = widgets.Output()\n",
    "\n",
    "def show_original_text(button):\n",
    "    with original_output:\n",
    "        original_output.clear_output()\n",
    "        print(original_text)\n",
    "\n",
    "def show_decrypted_text(button):\n",
    "    with decrypted_output:\n",
    "        decrypted_output.clear_output()\n",
    "        print(decrypted_text)\n",
    "\n",
    "original_button.on_click(show_original_text)\n",
    "decrypted_button.on_click(show_decrypted_text)\n",
    "\n",
    "display(original_button, original_output)\n",
    "display(decrypted_button, decrypted_output)"
   ],
   "metadata": {
    "collapsed": false
   },
   "id": "a64c9cc25f9f1e60",
   "execution_count": null
  },
  {
   "metadata": {
    "collapsed": false
   },
   "cell_type": "code",
   "source": [
    "MESSAGE = text3\n",
    "KEY_MATRIX_SIZE = 100\n",
    "\n",
    "key_matrix, inverse_key_matrix = generate_key_matrix_nxn(KEY_MATRIX_SIZE, MODULO)\n",
    "\n",
    "ciphertext, ciphertext_matrix = encrypt_nxn(MESSAGE, key_matrix, MODULO, ALPHABET)\n",
    "print(\"Plain Text Length:\", len(text1))\n",
    "print(\"Ciphertext Length:\", len(ciphertext))\n",
    "\n",
    "print(f\"Key Matrix:\\n{key_matrix}\")\n",
    "print(f\"Inverse Key Matrix:\\n{inverse_key_matrix}\")\n",
    "\n",
    "decrypted_text = decrypt_nxn(ciphertext, inverse_key_matrix, MODULO, ALPHABET)\n",
    "print(f\"Ciphertext: {ciphertext}\")\n",
    "\n",
    "original_text = MESSAGE\n",
    "\n",
    "original_button = widgets.Button(description=\"Show Original Text\")\n",
    "decrypted_button = widgets.Button(description=\"Show Decrypted Text\")\n",
    "original_output = widgets.Output()\n",
    "decrypted_output = widgets.Output()\n",
    "\n",
    "def show_original_text(button):\n",
    "    with original_output:\n",
    "        original_output.clear_output()\n",
    "        print(original_text)\n",
    "\n",
    "def show_decrypted_text(button):\n",
    "    with decrypted_output:\n",
    "        decrypted_output.clear_output()\n",
    "        print(decrypted_text)\n",
    "\n",
    "original_button.on_click(show_original_text)\n",
    "decrypted_button.on_click(show_decrypted_text)\n",
    "\n",
    "display(original_button, original_output)\n",
    "display(decrypted_button, decrypted_output)"
   ],
   "id": "5cf3dbb61281f0ae",
   "outputs": [],
   "execution_count": null
  }
 ],
 "metadata": {
  "kernelspec": {
   "display_name": "Python 3",
   "language": "python",
   "name": "python3"
  },
  "language_info": {
   "codemirror_mode": {
    "name": "ipython",
    "version": 2
   },
   "file_extension": ".py",
   "mimetype": "text/x-python",
   "name": "python",
   "nbconvert_exporter": "python",
   "pygments_lexer": "ipython2",
   "version": "2.7.6"
  }
 },
 "nbformat": 4,
 "nbformat_minor": 5
}
