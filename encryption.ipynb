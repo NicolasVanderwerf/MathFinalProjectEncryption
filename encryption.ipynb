{
 "cells": [
  {
   "metadata": {},
   "cell_type": "markdown",
   "source": [
    "# Matrix Encryption\n",
    "Makenna Worley and Nic Van Der Werf\n",
    "\n",
    "An exploration into encrypting data through matrices transformations and modular arithmetic"
   ],
   "id": "13985eb8b585a9e2"
  },
  {
   "cell_type": "code",
   "id": "initial_id",
   "metadata": {
    "collapsed": true,
    "ExecuteTime": {
     "end_time": "2024-12-11T03:13:54.909904Z",
     "start_time": "2024-12-11T03:13:54.904382Z"
    }
   },
   "source": [
    "# Importing and declaring global variables\n",
    "import numpy as np\n",
    "import math\n",
    "import random\n",
    "\n",
    "from ipywidgets import widgets\n",
    "from IPython.display import display\n",
    "\n",
    "MODULO = 59\n",
    "ALPHABET = \"ABCDEFGHIJKLMNOPQRSTUVWXYZabcdefghijklmnopqrstuvwxyz .,!?'\\n\"\n",
    "# print(len(ALPHABET))\n",
    "\n",
    "KEY_MATRIX_2x2 = np.array([\n",
    "    [3, 2],\n",
    "    [5, 7]\n",
    "])\n",
    "\n",
    "text1 = open('text/one.txt').read()\n",
    "text2 = open('text/two.txt').read()\n",
    "text3 = open('text/our_super_secret_message.txt').read()"
   ],
   "outputs": [],
   "execution_count": 32
  },
  {
   "metadata": {},
   "cell_type": "markdown",
   "source": "Functions that will help us with encrypting and decrypting our secret messages!",
   "id": "12dc1ec93b09be3a"
  },
  {
   "cell_type": "code",
   "source": [
    "def generate_key_matrix(n, modulo):\n",
    "    while True:\n",
    "        key_matrix = np.random.randint(0, modulo, size=(n, n))\n",
    "\n",
    "        # Calculating the determinant with Mod\n",
    "        a, b = key_matrix[0]\n",
    "        c, d = key_matrix[1]\n",
    "        det = (a*d - b*c) % modulo\n",
    "        if math.gcd(det, modulo) == 1:\n",
    "            try:\n",
    "                inverse_key_matrix = inverse_2x2_mod(key_matrix, modulo)\n",
    "                return key_matrix, inverse_key_matrix\n",
    "            except ValueError:\n",
    "                continue\n",
    "        else:\n",
    "            print(\"Failed Iteration\")\n",
    "\n",
    "\n",
    "def generate_key_matrix_nxn(n, modulo):\n",
    "    while True:\n",
    "        key_matrix = np.random.randint(0, modulo, size=(n, n))\n",
    "        det = int(round(np.linalg.det(key_matrix))) % modulo\n",
    "        if math.gcd(det, modulo) == 1:\n",
    "            try:\n",
    "                inverse_key_matrix = inverse_nxn_mod(key_matrix, modulo)\n",
    "                return key_matrix, inverse_key_matrix\n",
    "            except ValueError:\n",
    "                continue\n",
    "        else:\n",
    "            # All matrices must be invertible\n",
    "            pass\n",
    "\n",
    "\n",
    "def inverse_2x2_mod(matrix, modulo):\n",
    "    a, b = matrix[0]\n",
    "    c, d = matrix[1]\n",
    "    det = int((a*d - b*c) % modulo)\n",
    "    if math.gcd(det, modulo) != 1:\n",
    "        raise ValueError(\"Matrix not invertible modulo {}\".format(modulo))\n",
    "    det_inv = pow(det, -1, modulo)\n",
    "    return (det_inv * np.array([[d, -b],\n",
    "                                [-c, a]])) % modulo\n",
    "\n",
    "\n",
    "# Inverting matrices with >2 rows and columns requires GCD since it is not guaranteed that rows and columns will be the same number, so we need to look at the coprime of them\n",
    "def inverse_nxn_mod(matrix, modulo):\n",
    "    A = np.array(matrix, dtype=int) % modulo\n",
    "    n = A.shape[0]\n",
    "\n",
    "    I = np.eye(n, dtype=int)\n",
    "\n",
    "    # Perform Gaussian elimination\n",
    "    for i in range(n):\n",
    "        # Find pivot (row with non-zero element in column i)\n",
    "        for r in range(i, n):\n",
    "            if A[r, i] % modulo != 0:\n",
    "                # Swap pivot row if necessary\n",
    "                if r != i:\n",
    "                    A[[i, r]] = A[[r, i]]\n",
    "                    I[[i, r]] = I[[r, i]]\n",
    "                break\n",
    "        else:\n",
    "            # No pivot found, matrix not invertible\n",
    "            raise ValueError(\"Matrix not invertible modulo {}\".format(modulo))\n",
    "\n",
    "        # Normalize pivot row\n",
    "        inv_pivot = pow(int(A[i, i]), -1, modulo)\n",
    "        A[i] = (A[i] * inv_pivot) % modulo\n",
    "        I[i] = (I[i] * inv_pivot) % modulo\n",
    "\n",
    "        # Eliminate other rows\n",
    "        for r in range(n):\n",
    "            if r != i:\n",
    "                factor = A[r, i] % modulo\n",
    "                if factor != 0:\n",
    "                    A[r] = (A[r] - factor * A[i]) % modulo\n",
    "                    I[r] = (I[r] - factor * I[i]) % modulo\n",
    "\n",
    "    return I % modulo\n",
    "\n",
    "\n",
    "def encrypt(plaintext, key_matrix, modulo, alphabet):\n",
    "    # Map chars to numbers from 0 to len(alphabet)-1\n",
    "    char_to_num = {char: idx for idx, char in enumerate(alphabet)}\n",
    "    num_to_char = {v: k for k, v in char_to_num.items()}\n",
    "    padding_val = len(alphabet)  # Use a padding value outside the char range\n",
    "\n",
    "    # Convert plaintext to numbers\n",
    "    numbers = [char_to_num[c] for c in plaintext if c in char_to_num]\n",
    "\n",
    "    # Pad if necessary\n",
    "    if len(numbers) % 2 != 0:\n",
    "        numbers.append(padding_val)\n",
    "\n",
    "    plaintext_matrix = np.array(numbers).reshape(-1, 2).T\n",
    "    ciphertext_matrix = (key_matrix.dot(plaintext_matrix) % modulo).T\n",
    "\n",
    "    # Convert back to chars (skip padding_val when converting back)\n",
    "    ciphertext = []\n",
    "    for pair in ciphertext_matrix:\n",
    "        for num in pair:\n",
    "            if num != padding_val:\n",
    "                if num in num_to_char:\n",
    "                    ciphertext.append(num_to_char[num])\n",
    "                else:\n",
    "                    # If something unexpected, place a placeholder\n",
    "                    ciphertext.append('?')\n",
    "    return ''.join(ciphertext), ciphertext_matrix\n",
    "\n",
    "\n",
    "def encrypt_nxn(plaintext, key_matrix, modulo, alphabet):\n",
    "    # Map chars to numbers from 0 to len(alphabet)-1\n",
    "    n = key_matrix.shape[0]\n",
    "    char_to_num = {char: idx for idx, char in enumerate(alphabet)}\n",
    "    num_to_char = {v: k for k, v in char_to_num.items()}\n",
    "    padding_val = len(alphabet)  # Use a padding value outside the char range\n",
    "\n",
    "    # Convert plaintext to numbers\n",
    "    numbers = [char_to_num[c] for c in plaintext if c in char_to_num]\n",
    "\n",
    "    # Pad if necessary\n",
    "    remainder = len(numbers) % n\n",
    "    if remainder != 0:\n",
    "        numbers.extend([padding_val] * (n - remainder))\n",
    "\n",
    "    plaintext_matrix = np.array(numbers).reshape(-1, n).T\n",
    "    ciphertext_matrix = (key_matrix.dot(plaintext_matrix) % modulo).T\n",
    "\n",
    "    # Convert back to chars (skip padding_val when converting back)\n",
    "    ciphertext = []\n",
    "    for pair in ciphertext_matrix:\n",
    "        for num in pair:\n",
    "            if num != padding_val:\n",
    "                if num in num_to_char:\n",
    "                    ciphertext.append(num_to_char[num])\n",
    "                else:\n",
    "                    # If something unexpected, place a placeholder\n",
    "                    ciphertext.append('?')\n",
    "    return ''.join(ciphertext), ciphertext_matrix\n",
    "\n",
    "\n",
    "def decrypt(ciphertext, inverse_key_matrix, modulo, alphabet):\n",
    "    char_to_num = {char: idx for idx, char in enumerate(alphabet)}\n",
    "    num_to_char = {v: k for k, v in char_to_num.items()}\n",
    "    padding_val = len(alphabet)\n",
    "\n",
    "    numbers = [char_to_num[c] for c in ciphertext if c in char_to_num]\n",
    "    if len(numbers) % 2 != 0:\n",
    "        numbers.append(padding_val)\n",
    "\n",
    "    cipher_matrix = np.array(numbers).reshape(-1, 2)\n",
    "    decrypted_matrix = (inverse_key_matrix.dot(cipher_matrix.T) % modulo).T\n",
    "\n",
    "    # Convert back to text and remove padding\n",
    "    plaintext_chars = []\n",
    "    for pair in decrypted_matrix:\n",
    "        for num in pair:\n",
    "            if num == padding_val:\n",
    "                # Padding encountered, skip it\n",
    "                continue\n",
    "            if num in num_to_char:\n",
    "                plaintext_chars.append(num_to_char[num])\n",
    "            else:\n",
    "                plaintext_chars.append('*')\n",
    "    return ''.join(plaintext_chars).rstrip('A')\n",
    "\n",
    "\n",
    "def decrypt_nxn(ciphertext, inverse_key_matrix, modulo, alphabet):\n",
    "    n = inverse_key_matrix.shape[0]\n",
    "    char_to_num = {char: idx for idx, char in enumerate(alphabet)}\n",
    "    num_to_char = {v: k for k, v in char_to_num.items()}\n",
    "    padding_val = len(alphabet)\n",
    "\n",
    "    numbers = [char_to_num[c] for c in ciphertext if c in char_to_num]\n",
    "    remainder = len(numbers) % n\n",
    "    if remainder != 0:\n",
    "        numbers.extend([padding_val] * (n - remainder))\n",
    "\n",
    "    cipher_matrix = np.array(numbers).reshape(-1, n)\n",
    "    decrypted_matrix = (inverse_key_matrix.dot(cipher_matrix.T) % modulo).T\n",
    "\n",
    "    # Convert back to text and remove padding\n",
    "    plaintext_chars = []\n",
    "    for pair in decrypted_matrix:\n",
    "        for num in pair:\n",
    "            if num == padding_val:\n",
    "                # Padding encountered, skip it\n",
    "                continue\n",
    "            if num in num_to_char:\n",
    "                plaintext_chars.append(num_to_char[num])\n",
    "            else:\n",
    "                plaintext_chars.append('?')\n",
    "    dec = ''.join(plaintext_chars)\n",
    "    return dec.rstrip('A')\n",
    "\n",
    "\n",
    "def generate_random_string(alphabet, l):\n",
    "    return ''.join(random.choice(alphabet) for _ in range(l))\n",
    "\n",
    "\n",
    "def test_encryption_decryption(l):\n",
    "    plaintext = generate_random_string(ALPHABET, l)\n",
    "    ciphertext, ciphertext_matrix = encrypt(plaintext, KEY_MATRIX_2x2, MODULO, ALPHABET)\n",
    "    decrypted_text = decrypt(ciphertext, inverse_key_matrix, MODULO, ALPHABET)\n",
    "    return plaintext, decrypted_text, plaintext == decrypted_text"
   ],
   "metadata": {
    "collapsed": false,
    "ExecuteTime": {
     "end_time": "2024-12-11T03:13:54.927572Z",
     "start_time": "2024-12-11T03:13:54.913911Z"
    }
   },
   "id": "33c9131fcbfa8bb0",
   "outputs": [],
   "execution_count": 33
  },
  {
   "metadata": {},
   "cell_type": "markdown",
   "source": "First testing our matrix to make sure it is invertible and therefore useable for our purposes.",
   "id": "3f1d0ecaf506f153"
  },
  {
   "cell_type": "code",
   "source": [
    "inverse_key_matrix = inverse_2x2_mod(KEY_MATRIX_2x2, MODULO)\n",
    "\n",
    "for idx in range(1, 51):\n",
    "    plaintext, decrypted_text, result = test_encryption_decryption(200)\n",
    "    if result:\n",
    "        print(f\"Test {idx}: True\")\n",
    "    else:\n",
    "        print(f\"Test {idx}: False\")\n",
    "        print(f\"  Original: {plaintext}\")\n",
    "        print(f\"  Decrypted: {decrypted_text}\")"
   ],
   "metadata": {
    "collapsed": false,
    "ExecuteTime": {
     "end_time": "2024-12-11T03:13:54.953062Z",
     "start_time": "2024-12-11T03:13:54.939495Z"
    }
   },
   "id": "1a4d3f1e85aebb8a",
   "outputs": [
    {
     "name": "stdout",
     "output_type": "stream",
     "text": [
      "Test 1: False\n",
      "  Original: H.gMqvqhYg'olVqIqRbWLOGA\n",
      "w.nfUercTEH,uPC'FtzyPPBSY bDulf.KVFzbdtpg'nQCJwpkAzgCRqiFBvQY'wkZtln\n",
      "GMsARym XMPhpV\n",
      "qZRAttppJGQturH wocXYv\n",
      ".lhO'wjLNJyhEBG,HJdcdMhSpWE'TGffOAiJSm\n",
      "oDmhFsMfAWRDwLjSIUbrMsMgQPV.A\n",
      "  Decrypted: H.gMqvqhYg'olVqIqRbWLOGA\n",
      "w.nfUercTEH,uPC'FtzyPPBSY bDulf.KVFzbdtpg'nQCJwpkAzgCRqiFBvQY'wkZtln\n",
      "GMsARym XMPhpV\n",
      "qZRAttppJGQturH wocXYv\n",
      ".lhO'wjLNJyhEBG,HJdcdMhSpWE'TGffOAiJSm\n",
      "oDmhFsMfAWRDwLjSIUbrMsMgQPV.\n",
      "Test 2: True\n",
      "Test 3: True\n",
      "Test 4: True\n",
      "Test 5: True\n",
      "Test 6: True\n",
      "Test 7: True\n",
      "Test 8: True\n",
      "Test 9: True\n",
      "Test 10: True\n",
      "Test 11: True\n",
      "Test 12: True\n",
      "Test 13: True\n",
      "Test 14: True\n",
      "Test 15: False\n",
      "  Original: X ZPfccjLjZUmXC'mhlsSozIOqH!FJ,.Sy?,x'ZiGphhINN'KgOniVRwHsk,sFUoIbsUE\n",
      "JxEv\n",
      "wpAYdk!XrEz'?nmAVffj,RRLejwG!IGJqT!cnA.eWo!KsF.q?PD'bfqRlmmkEOf P,tKBUTOlIHqIex ORhTsBxJQPryhLInrEzJngnEftyOELBNe,qAh'JP!fqeA\n",
      "  Decrypted: X ZPfccjLjZUmXC'mhlsSozIOqH!FJ,.Sy?,x'ZiGphhINN'KgOniVRwHsk,sFUoIbsUE\n",
      "JxEv\n",
      "wpAYdk!XrEz'?nmAVffj,RRLejwG!IGJqT!cnA.eWo!KsF.q?PD'bfqRlmmkEOf P,tKBUTOlIHqIex ORhTsBxJQPryhLInrEzJngnEftyOELBNe,qAh'JP!fqe\n",
      "Test 16: True\n",
      "Test 17: True\n",
      "Test 18: True\n",
      "Test 19: True\n",
      "Test 20: True\n",
      "Test 21: True\n",
      "Test 22: True\n",
      "Test 23: True\n",
      "Test 24: True\n",
      "Test 25: True\n",
      "Test 26: True\n",
      "Test 27: True\n",
      "Test 28: True\n",
      "Test 29: True\n",
      "Test 30: True\n",
      "Test 31: True\n",
      "Test 32: True\n",
      "Test 33: True\n",
      "Test 34: True\n",
      "Test 35: True\n",
      "Test 36: True\n",
      "Test 37: True\n",
      "Test 38: True\n",
      "Test 39: True\n",
      "Test 40: True\n",
      "Test 41: True\n",
      "Test 42: True\n",
      "Test 43: True\n",
      "Test 44: True\n",
      "Test 45: True\n",
      "Test 46: True\n",
      "Test 47: True\n",
      "Test 48: True\n",
      "Test 49: True\n",
      "Test 50: True\n"
     ]
    }
   ],
   "execution_count": 34
  },
  {
   "metadata": {},
   "cell_type": "markdown",
   "source": "Now let's look at our encrypting a message using our predefined KEY_MATRIX_2x2",
   "id": "fd4c5f07fa2ffd0a"
  },
  {
   "metadata": {
    "collapsed": false,
    "ExecuteTime": {
     "end_time": "2024-12-11T03:14:02.226517Z",
     "start_time": "2024-12-11T03:14:02.215461Z"
    }
   },
   "cell_type": "code",
   "source": [
    "MESSAGE = text1\n",
    "\n",
    "inverse_key_matrix = inverse_2x2_mod(KEY_MATRIX_2x2, MODULO)\n",
    "print(f\"Key Matrix:\\n{KEY_MATRIX_2x2}\")\n",
    "print(f\"Inverse Key Matrix:\\n{inverse_key_matrix}\")\n",
    "\n",
    "ciphertext, ciphertext_matrix = encrypt(MESSAGE, KEY_MATRIX_2x2, MODULO, ALPHABET)\n",
    "print(f\"Ciphertext Matrix:\\n{ciphertext_matrix}\")\n",
    "\n",
    "decrypted_text = decrypt(ciphertext, inverse_key_matrix, MODULO, ALPHABET)\n",
    "print(f\"Ciphertext: {ciphertext}\")\n",
    "print(f\"Condition: {np.linalg.cond(KEY_MATRIX_2x2)}\")\n",
    "\n",
    "original_text = MESSAGE\n",
    "\n",
    "original_button = widgets.Button(description=\"Show Original Text\")\n",
    "decrypted_button = widgets.Button(description=\"Show Decrypted Text\")\n",
    "original_output = widgets.Output()\n",
    "decrypted_output = widgets.Output()\n",
    "\n",
    "def show_original_text(button):\n",
    "    with original_output:\n",
    "        original_output.clear_output()\n",
    "        print(original_text)\n",
    "\n",
    "def show_decrypted_text(button):\n",
    "    with decrypted_output:\n",
    "        decrypted_output.clear_output()\n",
    "        print(decrypted_text)\n",
    "\n",
    "original_button.on_click(show_original_text)\n",
    "decrypted_button.on_click(show_decrypted_text)\n",
    "\n",
    "display(original_button, original_output)\n",
    "display(decrypted_button, decrypted_output)\n"
   ],
   "id": "5eeb9832cb154c86",
   "outputs": [
    {
     "name": "stdout",
     "output_type": "stream",
     "text": [
      "Key Matrix:\n",
      "[[3 2]\n",
      " [5 7]]\n",
      "Inverse Key Matrix:\n",
      "[[ 6 32]\n",
      " [21 11]]\n",
      "Ciphertext Matrix:\n",
      "[[ 4 38]\n",
      " [58 38]\n",
      " [33 36]\n",
      " [46 55]\n",
      " [34  4]\n",
      " [16  6]\n",
      " [12 12]\n",
      " [45  4]\n",
      " [ 2 10]\n",
      " [ 4  6]\n",
      " [30 44]\n",
      " [54 23]\n",
      " [16  4]\n",
      " [37 29]\n",
      " [ 4  6]\n",
      " [31 29]\n",
      " [38 44]\n",
      " [ 1 45]\n",
      " [13 34]\n",
      " [ 0  9]\n",
      " [51 30]\n",
      " [10 53]\n",
      " [40 45]\n",
      " [17 42]\n",
      " [46  7]\n",
      " [47  0]\n",
      " [15 17]\n",
      " [ 0  9]\n",
      " [44 28]\n",
      " [10 53]\n",
      " [50 38]\n",
      " [55 22]\n",
      " [56 48]\n",
      " [ 3 30]\n",
      " [52 39]\n",
      " [11 10]\n",
      " [ 4 43]\n",
      " [38 18]\n",
      " [30 48]\n",
      " [29 29]\n",
      " [42 19]\n",
      " [ 5 22]\n",
      " [29  6]\n",
      " [44 28]\n",
      " [11 35]\n",
      " [56 46]\n",
      " [14 43]]\n",
      "Ciphertext: Em\n",
      "mhku!iEQGMMtECKEGes,XQEldEGfdmsBtNiAJzeK.otRquHvAPRAJscK.ym!W?wDe nLKErmSewddqTFWdGscLj?uOr\n",
      "Condition: 7.780565547548909\n"
     ]
    },
    {
     "data": {
      "text/plain": [
       "Button(description='Show Original Text', style=ButtonStyle())"
      ],
      "application/vnd.jupyter.widget-view+json": {
       "version_major": 2,
       "version_minor": 0,
       "model_id": "f0d6c9a8d8984c04b05a9f443235eb22"
      }
     },
     "metadata": {},
     "output_type": "display_data"
    },
    {
     "data": {
      "text/plain": [
       "Output()"
      ],
      "application/vnd.jupyter.widget-view+json": {
       "version_major": 2,
       "version_minor": 0,
       "model_id": "5855155591a043a49ef3870bcc8de1ab"
      }
     },
     "metadata": {},
     "output_type": "display_data"
    },
    {
     "data": {
      "text/plain": [
       "Button(description='Show Decrypted Text', style=ButtonStyle())"
      ],
      "application/vnd.jupyter.widget-view+json": {
       "version_major": 2,
       "version_minor": 0,
       "model_id": "9b038aae374742ebb8d45593de3e4c6c"
      }
     },
     "metadata": {},
     "output_type": "display_data"
    },
    {
     "data": {
      "text/plain": [
       "Output()"
      ],
      "application/vnd.jupyter.widget-view+json": {
       "version_major": 2,
       "version_minor": 0,
       "model_id": "8973054a35e74fc59882f5e0751cba24"
      }
     },
     "metadata": {},
     "output_type": "display_data"
    }
   ],
   "execution_count": 38
  },
  {
   "metadata": {
    "collapsed": false,
    "ExecuteTime": {
     "end_time": "2024-12-11T03:14:10.736749Z",
     "start_time": "2024-12-11T03:14:10.729144Z"
    }
   },
   "cell_type": "code",
   "source": [
    "MESSAGE = text2\n",
    "\n",
    "key_matrix, inverse_key_matrix = generate_key_matrix(2, MODULO)\n",
    "\n",
    "print(f\"Key Matrix:\\n{key_matrix}\")\n",
    "print(f\"Inverse Key Matrix:\\n{inverse_key_matrix}\")\n",
    "\n",
    "ciphertext, ciphertext_matrix = encrypt(MESSAGE, key_matrix, MODULO, ALPHABET)\n",
    "print(f\"Ciphertext Matrix:\\n{ciphertext_matrix}\")\n",
    "\n",
    "decrypted_text = decrypt(ciphertext, inverse_key_matrix, MODULO, ALPHABET)\n",
    "print(f\"Ciphertext: {ciphertext}\")\n",
    "print(f\"Condition: {np.linalg.cond(key_matrix)}\")\n",
    "\n",
    "original_text = MESSAGE\n",
    "\n",
    "original_button = widgets.Button(description=\"Show Original Text\")\n",
    "decrypted_button = widgets.Button(description=\"Show Decrypted Text\")\n",
    "original_output = widgets.Output()\n",
    "decrypted_output = widgets.Output()\n",
    "\n",
    "def show_original_text(button):\n",
    "    with original_output:\n",
    "        original_output.clear_output()\n",
    "        print(original_text)\n",
    "\n",
    "def show_decrypted_text(button):\n",
    "    with decrypted_output:\n",
    "        decrypted_output.clear_output()\n",
    "        print(decrypted_text)\n",
    "\n",
    "original_button.on_click(show_original_text)\n",
    "decrypted_button.on_click(show_decrypted_text)\n",
    "\n",
    "display(original_button, original_output)\n",
    "display(decrypted_button, decrypted_output)"
   ],
   "id": "960b069258a8220c",
   "outputs": [
    {
     "name": "stdout",
     "output_type": "stream",
     "text": [
      "Key Matrix:\n",
      "[[41 23]\n",
      " [58 22]]\n",
      "Inverse Key Matrix:\n",
      "[[33 54]\n",
      " [31 32]]\n",
      "Ciphertext Matrix:\n",
      "[[ 6 38]\n",
      " [45 26]\n",
      " [43  2]\n",
      " [21 23]\n",
      " [ 9 39]\n",
      " [12 32]\n",
      " [ 6 58]\n",
      " [49 57]\n",
      " [47 28]\n",
      " [49 15]\n",
      " [ 4  8]\n",
      " [21 23]\n",
      " [40 53]\n",
      " [37 37]\n",
      " [ 0 25]\n",
      " [ 6 21]\n",
      " [12 49]\n",
      " [ 0 29]\n",
      " [43 28]\n",
      " [24  9]\n",
      " [26 43]\n",
      " [16 30]\n",
      " [14 36]\n",
      " [10 45]\n",
      " [50 41]\n",
      " [34 27]\n",
      " [ 7  2]\n",
      " [26 35]\n",
      " [36 20]\n",
      " [ 7 52]\n",
      " [53  0]\n",
      " [ 7 24]\n",
      " [30 13]\n",
      " [36 31]\n",
      " [13  4]]\n",
      "Ciphertext: GmtarCVXJnMgG\n",
      "x'vcxPEIVXo.llAZGVMxAdrcYJarQeOkKtypibHCajkUH .AHYeNkfNE\n",
      "Condition: 13.951471119148144\n"
     ]
    },
    {
     "data": {
      "text/plain": [
       "Button(description='Show Original Text', style=ButtonStyle())"
      ],
      "application/vnd.jupyter.widget-view+json": {
       "version_major": 2,
       "version_minor": 0,
       "model_id": "4a33dcafaa504236a07d6dbf10fc906c"
      }
     },
     "metadata": {},
     "output_type": "display_data"
    },
    {
     "data": {
      "text/plain": [
       "Output()"
      ],
      "application/vnd.jupyter.widget-view+json": {
       "version_major": 2,
       "version_minor": 0,
       "model_id": "35d419ed75ae43a69fe055157ca389b9"
      }
     },
     "metadata": {},
     "output_type": "display_data"
    },
    {
     "data": {
      "text/plain": [
       "Button(description='Show Decrypted Text', style=ButtonStyle())"
      ],
      "application/vnd.jupyter.widget-view+json": {
       "version_major": 2,
       "version_minor": 0,
       "model_id": "39623412d66a41a2b2adbd40fee06ce0"
      }
     },
     "metadata": {},
     "output_type": "display_data"
    },
    {
     "data": {
      "text/plain": [
       "Output()"
      ],
      "application/vnd.jupyter.widget-view+json": {
       "version_major": 2,
       "version_minor": 0,
       "model_id": "5af6ccb49c4246ab976c6792750f835c"
      }
     },
     "metadata": {},
     "output_type": "display_data"
    }
   ],
   "execution_count": 39
  },
  {
   "metadata": {
    "collapsed": false,
    "ExecuteTime": {
     "end_time": "2024-12-11T03:14:19.962775Z",
     "start_time": "2024-12-11T03:14:19.951273Z"
    }
   },
   "cell_type": "code",
   "source": [
    "MESSAGE = text3\n",
    "KEY_MATRIX_SIZE = 7\n",
    "\n",
    "key_matrix, inverse_key_matrix = generate_key_matrix_nxn(KEY_MATRIX_SIZE, MODULO)\n",
    "\n",
    "ciphertext, ciphertext_matrix = encrypt_nxn(MESSAGE, key_matrix, MODULO, ALPHABET)\n",
    "print(\"Plain Text Length:\", len(text1))\n",
    "print(\"Ciphertext Length:\", len(ciphertext))\n",
    "\n",
    "print(f\"Key Matrix:\\n{key_matrix}\")\n",
    "print(f\"Inverse Key Matrix:\\n{inverse_key_matrix}\")\n",
    "\n",
    "decrypted_text = decrypt_nxn(ciphertext, inverse_key_matrix, MODULO, ALPHABET)\n",
    "print(f\"Ciphertext: {ciphertext}\")\n",
    "\n",
    "original_text = MESSAGE\n",
    "\n",
    "original_button = widgets.Button(description=\"Show Original Text\")\n",
    "decrypted_button = widgets.Button(description=\"Show Decrypted Text\")\n",
    "original_output = widgets.Output()\n",
    "decrypted_output = widgets.Output()\n",
    "\n",
    "def show_original_text(button):\n",
    "    with original_output:\n",
    "        original_output.clear_output()\n",
    "        print(original_text)\n",
    "\n",
    "def show_decrypted_text(button):\n",
    "    with decrypted_output:\n",
    "        decrypted_output.clear_output()\n",
    "        print(decrypted_text)\n",
    "\n",
    "original_button.on_click(show_original_text)\n",
    "decrypted_button.on_click(show_decrypted_text)\n",
    "\n",
    "display(original_button, original_output)\n",
    "display(decrypted_button, decrypted_output)"
   ],
   "id": "5cf3dbb61281f0ae",
   "outputs": [
    {
     "name": "stdout",
     "output_type": "stream",
     "text": [
      "Plain Text Length: 93\n",
      "Ciphertext Length: 1722\n",
      "Key Matrix:\n",
      "[[17 11 53  7 28 39 16]\n",
      " [37 21 14 42 33 57 10]\n",
      " [30 36 13 29 42 40 52]\n",
      " [39 54 44 47  5 20  0]\n",
      " [51 29  1 28 26  1  1]\n",
      " [52 45 25  3 56 34  8]\n",
      " [10 32 40 31 30 24 19]]\n",
      "Inverse Key Matrix:\n",
      "[[40  1 49 25 50 42  7]\n",
      " [13 18 22  7 46 33 49]\n",
      " [ 7  9 25 50 14 23 13]\n",
      " [31 51 13 35 28 19 20]\n",
      " [51 40 49 25 20 30 18]\n",
      " [16 24 57 23 13 36  7]\n",
      " [27 53 40  5 37 14  6]]\n",
      "Ciphertext: ZOK!.UMPydJR!b!kbXWPjcktqrgQDBszxubJOlDRCG!c itzHjbP,Qk ar BK flhJ.'sMjTSGIzShvHERedQhnY'sUCdHWnplxXWbyJ\n",
      "rxaDqHDvPZjwIuf'IToowfenOHzDuGaSOO lcuk!l PubegXCjLve,rELdntmFG'UCwjNo?VrsZniZQ.DQeRxyQetuQerwQuPSZqcKKaYrfYsWMrTjXFK,ZBNEfwO\n",
      "e.'EFlOQxMqbOjgveF!tmZqcKKaYqXGshpQmEpvhswNQB?sllRAaOXYpwBdaNBue.'EFlOZQ.DQeRlMoUPyeZqcKKaY\n",
      "h\n",
      "sixjkJEK,ngoVWb\n",
      "jbe.'EFlORGz,yndHNUlU?UretzQsS.ZB\n",
      "cDTBMJttezKz\n",
      "vQ.ggJT?zXyk'c whwL VpIiV\n",
      "KLLxUXEI,kPYRT\n",
      "'XuoT zCBwajR!tLDHHu!ZfqTnGURVGQqIRfJ wUGsIFBlxFgTLRxslOxzB'WEI,kPYRBJHM\n",
      "q\n",
      "rduS ChmQHN\n",
      "l'IcCXeX,DiqKaKexZmt!KX.gY\n",
      "cWJEsuDDmzq,rafq.KiuHfuQCTJmwKm Qcocq!zYD'Hqa?buK'\n",
      "MKs?vRnlLnFzMvAsgLZcPB?xLOkONIfeRN w!UXnyRy.HqkZoiZqcKKaYFWwsb UKXOk?zwwna'UAFIfeRN wk SrjkhodIJouXesrhyWn.NN'ApsZqcKKaYVgpscBn'nkrycGBbHNbhzIfeRN weCBhaBXD!S!BmMZqcKKaYPrzsj',px,gXmy'dFh,\n",
      "TlckLnQAGdFOoguSAKoWN!,yRiyKJXg?RyXKIfeRN wQbClviqifjYkvJFGfklWjSAKoWN!ucAw\n",
      "CjrtmiqSVZTgbSPO?r,!TznIfeRN wieLC\n",
      "nbgEQeJi.PAH IEbSAKoWN!FD'zvRMHGfXqcnIfeRN wz TRMUxAVTcgLyqQgTzP bhsD,kwGF!hKsQpFaOmRZlbKD.ZXYHYJkshcCPewCFafLAFUhzFQrBjgCyhivstSy mcgxSJgBXMVtuSi?TTFBdXlE,WsycEWomeP!'PXkExZMVnlKJOCVL'ZldTknbmIqCpCoklByjUxzs'FcyMx\n",
      "l?QQySJCXsNtUnGCGs'fU'ZMARTYh?Frju gFmCz TRMUxCXBMLD'RxggXdK.CAHJDx'!sw??c'nkrycGlnmuoIVgbIDXGyIfeRN w!UXnyRy.HqkZoiZqcKKaYFWwsb UKXOk?zwwna'UAFIfeRN wk SrjkhodIJouXesrhyWn.NN'ApsZqcKKaYVgpscBn'nkrycGBbHNbhzIfeRN weCBhaBXD!S!BmMZqcKKaYPrzsj',px,gXmy'dFh,\n",
      "TlckLnQAGdFOoguSAKoWN!,yRiyKJXg?RyXKIfeRN wQbClviqifjYkvJFGfklWjSAKoWN!ucAw\n",
      "CjrtmiqSVZTgbSPO?r,!TznIfeRN wieLC\n",
      "nbgEQeJi.PAH IEbSAKoWN!FD'zvRMHGfXqcnIfeRN wz TRMUxAVTcgLyqQgTzP BCwDtX,IDmrFYyaOKfcH?oZMGPLhnVg!VI!SAKoWN!d\n",
      "ypn? XmF?DgdIDmrFYyZlFfXXyozLNz\n",
      "oR?QjEvdwoawStLGdFOoguSAKoWN!QJCB,pWvwvCa.uIDmrFYynr!xoStvsb'ZFIdb?nyaESAKoWN!JCAdEdLGiOvd\n",
      "vytMi,IlGbYgLUr\n"
     ]
    },
    {
     "data": {
      "text/plain": [
       "Button(description='Show Original Text', style=ButtonStyle())"
      ],
      "application/vnd.jupyter.widget-view+json": {
       "version_major": 2,
       "version_minor": 0,
       "model_id": "d4e0d6e59d1a4e1ca91c4d986a6d8f8c"
      }
     },
     "metadata": {},
     "output_type": "display_data"
    },
    {
     "data": {
      "text/plain": [
       "Output()"
      ],
      "application/vnd.jupyter.widget-view+json": {
       "version_major": 2,
       "version_minor": 0,
       "model_id": "e46cdac0b79742b2b981cf30fc87123e"
      }
     },
     "metadata": {},
     "output_type": "display_data"
    },
    {
     "data": {
      "text/plain": [
       "Button(description='Show Decrypted Text', style=ButtonStyle())"
      ],
      "application/vnd.jupyter.widget-view+json": {
       "version_major": 2,
       "version_minor": 0,
       "model_id": "5a20cf1e653744e5bba0924f62995e10"
      }
     },
     "metadata": {},
     "output_type": "display_data"
    },
    {
     "data": {
      "text/plain": [
       "Output()"
      ],
      "application/vnd.jupyter.widget-view+json": {
       "version_major": 2,
       "version_minor": 0,
       "model_id": "4687375f6ebd461d8f959f5f8ae0de63"
      }
     },
     "metadata": {},
     "output_type": "display_data"
    }
   ],
   "execution_count": 40
  }
 ],
 "metadata": {
  "kernelspec": {
   "display_name": "Python 3",
   "language": "python",
   "name": "python3"
  },
  "language_info": {
   "codemirror_mode": {
    "name": "ipython",
    "version": 2
   },
   "file_extension": ".py",
   "mimetype": "text/x-python",
   "name": "python",
   "nbconvert_exporter": "python",
   "pygments_lexer": "ipython2",
   "version": "2.7.6"
  }
 },
 "nbformat": 4,
 "nbformat_minor": 5
}
