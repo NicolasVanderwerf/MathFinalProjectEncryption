{
 "cells": [
  {
   "metadata": {},
   "cell_type": "markdown",
   "source": [
    "# Matrix Encryption\n",
    "Makenna Worley and Nic Van Der Werf\n",
    "\n",
    "An exploration into encrypting data through matrices transformations and modular arithmetic"
   ],
   "id": "13985eb8b585a9e2"
  },
  {
   "cell_type": "code",
   "id": "initial_id",
   "metadata": {
    "collapsed": true,
    "ExecuteTime": {
     "end_time": "2024-12-11T19:51:34.873527Z",
     "start_time": "2024-12-11T19:51:34.869308Z"
    }
   },
   "source": [
    "# Importing and declaring global variables\n",
    "import numpy as np\n",
    "import math\n",
    "import random\n",
    "\n",
    "from ipywidgets import widgets\n",
    "from IPython.display import display\n",
    "\n",
    "MODULO = 59\n",
    "ALPHABET = \"ABCDEFGHIJKLMNOPQRSTUVWXYZabcdefghijklmnopqrstuvwxyz .,!?'\\n\"\n",
    "# print(len(ALPHABET))\n",
    "\n",
    "KEY_MATRIX_2x2 = np.array([\n",
    "    [3, 2],\n",
    "    [5, 7]\n",
    "])\n",
    "\n",
    "text1 = open('text/one_line.txt').read()\n",
    "text2 = open('text/two_lines.txt').read()\n",
    "text3 = open('text/our_super_secret_message.txt').read()"
   ],
   "outputs": [],
   "execution_count": 30
  },
  {
   "metadata": {},
   "cell_type": "markdown",
   "source": "Functions that will help us with encrypting and decrypting our secret messages!",
   "id": "12dc1ec93b09be3a"
  },
  {
   "cell_type": "markdown",
   "source": [
    "Generates a random 2 x 2 Key Matrix. Checks to make sure Greatest Common Denominator is 1 and that it is invertible with the modulo."
   ],
   "metadata": {
    "collapsed": false
   },
   "id": "b6ebf32969d817b2"
  },
  {
   "cell_type": "code",
   "source": [
    "def generate_key_matrix_2x2(modulo):\n",
    "    while True:\n",
    "        key_matrix = np.random.randint(0, modulo, size=(2, 2))\n",
    "\n",
    "        # Calculating the determinant with Mod\n",
    "        a, b = key_matrix[0]\n",
    "        c, d = key_matrix[1]\n",
    "        det = (a*d - b*c) % modulo\n",
    "        if math.gcd(det, modulo) == 1:\n",
    "            try:\n",
    "                inverse_key_matrix = inverse_2x2_mod(key_matrix, modulo)\n",
    "                return key_matrix, inverse_key_matrix\n",
    "            except ValueError:\n",
    "                continue\n",
    "        else:\n",
    "            print(\"Failed Iteration\")"
   ],
   "metadata": {
    "collapsed": false,
    "ExecuteTime": {
     "end_time": "2024-12-11T19:15:38.358035Z",
     "start_time": "2024-12-11T19:15:38.354913Z"
    }
   },
   "id": "1f1dfeedf6b19cf6",
   "outputs": [],
   "execution_count": 2
  },
  {
   "cell_type": "markdown",
   "source": [
    "Inverts a 2 x 2 Matrix with the modulo using integers "
   ],
   "metadata": {
    "collapsed": false
   },
   "id": "4cd5ff34af8a8421"
  },
  {
   "cell_type": "code",
   "source": [
    "def inverse_2x2_mod(matrix, modulo):\n",
    "    a, b = matrix[0]\n",
    "    c, d = matrix[1]\n",
    "    det = int((a*d - b*c) % modulo)\n",
    "    if math.gcd(det, modulo) != 1:\n",
    "        raise ValueError(\"Matrix not invertible modulo {}\".format(modulo))\n",
    "    det_inv = pow(det, -1, modulo)\n",
    "    return (det_inv * np.array([[d, -b],\n",
    "                                [-c, a]])) % modulo"
   ],
   "metadata": {
    "collapsed": false,
    "ExecuteTime": {
     "end_time": "2024-12-11T19:15:39.952973Z",
     "start_time": "2024-12-11T19:15:39.950903Z"
    }
   },
   "id": "a5a05819e3958255",
   "outputs": [],
   "execution_count": 3
  },
  {
   "cell_type": "markdown",
   "source": [
    "Encrypts plain text using a 2 x 2 key matrix. by converting text to integers based on the provided alphabet, creating a matrix of those integers, getting the dot product with the key, then converting back to text. Modulo is used to ensure all digits are in the range of the alphabet."
   ],
   "metadata": {
    "collapsed": false
   },
   "id": "48fa1888e159b3d8"
  },
  {
   "cell_type": "code",
   "source": [
    "def encrypt(plaintext, key_matrix, modulo, alphabet):\n",
    "    # Map chars to numbers from 0 to len(alphabet)-1\n",
    "    char_to_num = {char: idx for idx, char in enumerate(alphabet)}\n",
    "    num_to_char = {v: k for k, v in char_to_num.items()}\n",
    "    padding_val = len(alphabet)  # Use a padding value outside the char range\n",
    "\n",
    "    # Convert plaintext to numbers\n",
    "    numbers = [char_to_num[c] for c in plaintext if c in char_to_num]\n",
    "\n",
    "    # Pad if necessary\n",
    "    if len(numbers) % 2 != 0:\n",
    "        numbers.append(padding_val)\n",
    "\n",
    "    plaintext_matrix = np.array(numbers).reshape(-1, 2).T\n",
    "    ciphertext_matrix = (key_matrix.dot(plaintext_matrix) % modulo).T\n",
    "\n",
    "    # Convert back to chars (skip padding_val when converting back)\n",
    "    ciphertext = []\n",
    "    for pair in ciphertext_matrix:\n",
    "        for num in pair:\n",
    "            if num != padding_val:\n",
    "                if num in num_to_char:\n",
    "                    ciphertext.append(num_to_char[num])\n",
    "                else:\n",
    "                    # If something unexpected, place a placeholder\n",
    "                    ciphertext.append('?')\n",
    "    return ''.join(ciphertext), ciphertext_matrix"
   ],
   "metadata": {
    "collapsed": false,
    "ExecuteTime": {
     "end_time": "2024-12-11T19:15:40.996767Z",
     "start_time": "2024-12-11T19:15:40.993648Z"
    }
   },
   "id": "5d4e7b3c0c25275e",
   "outputs": [],
   "execution_count": 4
  },
  {
   "cell_type": "markdown",
   "source": [
    "Decrypts plain text using a 2 x 2 inverse key matrix by converting text to integers based on the provided alphabet, creating a matrix of those integers, getting the dot product with the inverse key, then converting back to text. Modulo is used to ensure all digits are in the range of the alphabet."
   ],
   "metadata": {
    "collapsed": false
   },
   "id": "299a440a0df76052"
  },
  {
   "cell_type": "code",
   "source": [
    "def decrypt(ciphertext, inverse_key_matrix, modulo, alphabet):\n",
    "    char_to_num = {char: idx for idx, char in enumerate(alphabet)}\n",
    "    num_to_char = {v: k for k, v in char_to_num.items()}\n",
    "    padding_val = len(alphabet)\n",
    "\n",
    "    numbers = [char_to_num[c] for c in ciphertext if c in char_to_num]\n",
    "    if len(numbers) % 2 != 0:\n",
    "        numbers.append(padding_val)\n",
    "\n",
    "    cipher_matrix = np.array(numbers).reshape(-1, 2)\n",
    "    decrypted_matrix = (inverse_key_matrix.dot(cipher_matrix.T) % modulo).T\n",
    "\n",
    "    # Convert back to text and remove padding\n",
    "    plaintext_chars = []\n",
    "    for pair in decrypted_matrix:\n",
    "        for num in pair:\n",
    "            if num == padding_val:\n",
    "                # Padding encountered, skip it\n",
    "                continue\n",
    "            if num in num_to_char:\n",
    "                plaintext_chars.append(num_to_char[num])\n",
    "            else:\n",
    "                plaintext_chars.append('*')\n",
    "    return ''.join(plaintext_chars).rstrip('A')"
   ],
   "metadata": {
    "collapsed": false,
    "ExecuteTime": {
     "end_time": "2024-12-11T19:15:42.826164Z",
     "start_time": "2024-12-11T19:15:42.823112Z"
    }
   },
   "id": "b1051b19258a65c3",
   "outputs": [],
   "execution_count": 5
  },
  {
   "cell_type": "markdown",
   "source": [
    "Generates a random n x n Key Matrix. Checks to make sure Greatest Common Denominator is 1 and that it is invertible with the modulo.\n"
   ],
   "metadata": {
    "collapsed": false
   },
   "id": "ccb84d0feab89e0c"
  },
  {
   "cell_type": "code",
   "source": [
    "def generate_key_matrix_nxn(n, modulo):\n",
    "    while True:\n",
    "        key_matrix = np.random.randint(0, modulo, size=(n, n))\n",
    "        det = int(round(np.linalg.det(key_matrix))) % modulo\n",
    "        if math.gcd(det, modulo) == 1:\n",
    "            try:\n",
    "                inverse_key_matrix = inverse_nxn_mod(key_matrix, modulo)\n",
    "                return key_matrix, inverse_key_matrix\n",
    "            except ValueError:\n",
    "                continue\n",
    "        else:\n",
    "            # All matrices must be invertible\n",
    "            pass"
   ],
   "metadata": {
    "collapsed": false,
    "ExecuteTime": {
     "end_time": "2024-12-11T19:15:44.531749Z",
     "start_time": "2024-12-11T19:15:44.529578Z"
    }
   },
   "id": "c87425f21599cad9",
   "outputs": [],
   "execution_count": 6
  },
  {
   "cell_type": "markdown",
   "source": [
    "Inverts a n x n matrix with the modulo using Gaussian Elimination\n",
    "\n",
    "Inverting matrices with >2 rows and columns requires GCD since it is not guaranteed that rows and columns will be the same number, so we need to look at the coprime of them"
   ],
   "metadata": {
    "collapsed": false
   },
   "id": "7a2cb94e930b72e2"
  },
  {
   "cell_type": "code",
   "source": [
    "# Inverting matrices with >2 rows and columns requires GCD since it is not guaranteed that rows and columns will be the same number, so we need to look at the coprime of them\n",
    "def inverse_nxn_mod(matrix, modulo):\n",
    "    A = np.array(matrix, dtype=int) % modulo\n",
    "    n = A.shape[0]\n",
    "\n",
    "    I = np.eye(n, dtype=int)\n",
    "\n",
    "    # Perform Gaussian elimination\n",
    "    for i in range(n):\n",
    "        # Find pivot (row with non-zero element in column i)\n",
    "        for r in range(i, n):\n",
    "            if A[r, i] % modulo != 0:\n",
    "                # Swap pivot row if necessary\n",
    "                if r != i:\n",
    "                    A[[i, r]] = A[[r, i]]\n",
    "                    I[[i, r]] = I[[r, i]]\n",
    "                break\n",
    "        else:\n",
    "            # No pivot found, matrix not invertible\n",
    "            raise ValueError(\"Matrix not invertible modulo {}\".format(modulo))\n",
    "\n",
    "        # Normalize pivot row\n",
    "        inv_pivot = pow(int(A[i, i]), -1, modulo)\n",
    "        A[i] = (A[i] * inv_pivot) % modulo\n",
    "        I[i] = (I[i] * inv_pivot) % modulo\n",
    "\n",
    "        # Eliminate other rows\n",
    "        for r in range(n):\n",
    "            if r != i:\n",
    "                factor = A[r, i] % modulo\n",
    "                if factor != 0:\n",
    "                    A[r] = (A[r] - factor * A[i]) % modulo\n",
    "                    I[r] = (I[r] - factor * I[i]) % modulo\n",
    "\n",
    "    return I % modulo"
   ],
   "metadata": {
    "collapsed": false,
    "ExecuteTime": {
     "end_time": "2024-12-11T19:15:45.603554Z",
     "start_time": "2024-12-11T19:15:45.600511Z"
    }
   },
   "id": "c2427cdb5277501a",
   "outputs": [],
   "execution_count": 7
  },
  {
   "cell_type": "markdown",
   "source": [
    "Encrypts plain text using a n x n key matrix. by converting text to integers based on the provided alphabet, creating a matrix of those integers, getting the dot product with the key, then converting back to text. Modulo is used to ensure all digits are in the range of the alphabet.\n",
    "\n",
    "Matrix created from text is dynamically sized so that the dot product can be taken with the n x n key\n"
   ],
   "metadata": {
    "collapsed": false
   },
   "id": "e13d0393aa5402f3"
  },
  {
   "cell_type": "code",
   "source": [
    "def encrypt_nxn(plaintext, key_matrix, modulo, alphabet):\n",
    "    # Map chars to numbers from 0 to len(alphabet)-1\n",
    "    n = key_matrix.shape[0]\n",
    "    char_to_num = {char: idx for idx, char in enumerate(alphabet)}\n",
    "    num_to_char = {v: k for k, v in char_to_num.items()}\n",
    "    padding_val = len(alphabet)  # Use a padding value outside the char range\n",
    "\n",
    "    # Convert plaintext to numbers\n",
    "    numbers = [char_to_num[c] for c in plaintext if c in char_to_num]\n",
    "\n",
    "    # Pad if necessary\n",
    "    remainder = len(numbers) % n\n",
    "    if remainder != 0:\n",
    "        numbers.extend([padding_val] * (n - remainder))\n",
    "\n",
    "    plaintext_matrix = np.array(numbers).reshape(-1, n).T\n",
    "    ciphertext_matrix = (key_matrix.dot(plaintext_matrix) % modulo).T\n",
    "\n",
    "    # Convert back to chars (skip padding_val when converting back)\n",
    "    ciphertext = []\n",
    "    for pair in ciphertext_matrix:\n",
    "        for num in pair:\n",
    "            if num != padding_val:\n",
    "                if num in num_to_char:\n",
    "                    ciphertext.append(num_to_char[num])\n",
    "                else:\n",
    "                    # If something unexpected, place a placeholder\n",
    "                    ciphertext.append('?')\n",
    "    return ''.join(ciphertext), ciphertext_matrix"
   ],
   "metadata": {
    "collapsed": false,
    "ExecuteTime": {
     "end_time": "2024-12-11T19:15:47.427779Z",
     "start_time": "2024-12-11T19:15:47.425124Z"
    }
   },
   "id": "bdafb66747688dc2",
   "outputs": [],
   "execution_count": 8
  },
  {
   "cell_type": "markdown",
   "source": [
    "Decrypts plain text using a 2 x 2 inverse key matrix by converting text to integers based on the provided alphabet, creating a matrix of those integers, getting the dot product with the inverse key, then converting back to text. Modulo is used to ensure all digits are in the range of the alphabet.\n",
    "\n",
    "Matrix created from text is dynamically sized so that the dot product can be taken with the n x n inverse key\n"
   ],
   "metadata": {
    "collapsed": false
   },
   "id": "f5cfe6cbc8fe8624"
  },
  {
   "cell_type": "code",
   "source": [
    "def decrypt_nxn(ciphertext, inverse_key_matrix, modulo, alphabet):\n",
    "    n = inverse_key_matrix.shape[0]\n",
    "    char_to_num = {char: idx for idx, char in enumerate(alphabet)}\n",
    "    num_to_char = {v: k for k, v in char_to_num.items()}\n",
    "    padding_val = len(alphabet)\n",
    "\n",
    "    numbers = [char_to_num[c] for c in ciphertext if c in char_to_num]\n",
    "    remainder = len(numbers) % n\n",
    "    if remainder != 0:\n",
    "        numbers.extend([padding_val] * (n - remainder))\n",
    "\n",
    "    cipher_matrix = np.array(numbers).reshape(-1, n)\n",
    "    decrypted_matrix = (inverse_key_matrix.dot(cipher_matrix.T) % modulo).T\n",
    "\n",
    "    # Convert back to text and remove padding\n",
    "    plaintext_chars = []\n",
    "    for pair in decrypted_matrix:\n",
    "        for num in pair:\n",
    "            if num == padding_val:\n",
    "                # Padding encountered, skip it\n",
    "                continue\n",
    "            if num in num_to_char:\n",
    "                plaintext_chars.append(num_to_char[num])\n",
    "            else:\n",
    "                plaintext_chars.append('?')\n",
    "    dec = ''.join(plaintext_chars)\n",
    "    return dec.rstrip('A')"
   ],
   "metadata": {
    "collapsed": false,
    "ExecuteTime": {
     "end_time": "2024-12-11T19:15:49.046727Z",
     "start_time": "2024-12-11T19:15:49.042989Z"
    }
   },
   "id": "2561d6be663b150c",
   "outputs": [],
   "execution_count": 9
  },
  {
   "cell_type": "markdown",
   "source": [
    "Functions for creating and testing random strings with a 2 x 2 key matrix"
   ],
   "metadata": {
    "collapsed": false
   },
   "id": "da21553585024c1e"
  },
  {
   "cell_type": "code",
   "source": [
    "def generate_random_string(alphabet, l):\n",
    "    return ''.join(random.choice(alphabet) for _ in range(l))\n",
    "\n",
    "\n",
    "def test_encryption_decryption(l):\n",
    "    plaintext = generate_random_string(ALPHABET, l)\n",
    "    ciphertext, ciphertext_matrix = encrypt(plaintext, KEY_MATRIX_2x2, MODULO, ALPHABET)\n",
    "    decrypted_text = decrypt(ciphertext, inverse_key_matrix, MODULO, ALPHABET)\n",
    "    return plaintext, decrypted_text, plaintext == decrypted_text"
   ],
   "metadata": {
    "collapsed": false,
    "ExecuteTime": {
     "end_time": "2024-12-11T19:15:56.219247Z",
     "start_time": "2024-12-11T19:15:56.216455Z"
    }
   },
   "id": "33c9131fcbfa8bb0",
   "outputs": [],
   "execution_count": 10
  },
  {
   "metadata": {},
   "cell_type": "markdown",
   "source": "First testing our matrix to make sure it is invertible and therefore useable for our purposes.",
   "id": "3f1d0ecaf506f153"
  },
  {
   "cell_type": "code",
   "source": [
    "inverse_key_matrix = inverse_2x2_mod(KEY_MATRIX_2x2, MODULO)\n",
    "\n",
    "for idx in range(1, 51):\n",
    "    plaintext, decrypted_text, result = test_encryption_decryption(200)\n",
    "    if result:\n",
    "        print(f\"Test {idx}: True\")\n",
    "    else:\n",
    "        print(f\"Test {idx}: False\")\n",
    "        print(f\"  Original: {plaintext}\")\n",
    "        print(f\"  Decrypted: {decrypted_text}\")"
   ],
   "metadata": {
    "collapsed": false,
    "ExecuteTime": {
     "end_time": "2024-12-11T19:16:42.961566Z",
     "start_time": "2024-12-11T19:16:42.944679Z"
    }
   },
   "id": "1a4d3f1e85aebb8a",
   "outputs": [
    {
     "name": "stdout",
     "output_type": "stream",
     "text": [
      "Test 1: True\n",
      "Test 2: True\n",
      "Test 3: True\n",
      "Test 4: True\n",
      "Test 5: True\n",
      "Test 6: True\n",
      "Test 7: True\n",
      "Test 8: True\n",
      "Test 9: True\n",
      "Test 10: True\n",
      "Test 11: True\n",
      "Test 12: True\n",
      "Test 13: True\n",
      "Test 14: True\n",
      "Test 15: True\n",
      "Test 16: True\n",
      "Test 17: True\n",
      "Test 18: True\n",
      "Test 19: True\n",
      "Test 20: True\n",
      "Test 21: True\n",
      "Test 22: True\n",
      "Test 23: True\n",
      "Test 24: True\n",
      "Test 25: True\n",
      "Test 26: True\n",
      "Test 27: True\n",
      "Test 28: True\n",
      "Test 29: True\n",
      "Test 30: True\n",
      "Test 31: True\n",
      "Test 32: True\n",
      "Test 33: True\n",
      "Test 34: True\n",
      "Test 35: True\n",
      "Test 36: True\n",
      "Test 37: True\n",
      "Test 38: True\n",
      "Test 39: True\n",
      "Test 40: True\n",
      "Test 41: True\n",
      "Test 42: True\n",
      "Test 43: True\n",
      "Test 44: True\n",
      "Test 45: True\n",
      "Test 46: True\n",
      "Test 47: True\n",
      "Test 48: True\n",
      "Test 49: True\n",
      "Test 50: True\n"
     ]
    }
   ],
   "execution_count": 16
  },
  {
   "metadata": {},
   "cell_type": "markdown",
   "source": "Now let's look at our encrypting a message using our predefined KEY_MATRIX_2x2",
   "id": "fd4c5f07fa2ffd0a"
  },
  {
   "metadata": {
    "collapsed": false,
    "ExecuteTime": {
     "end_time": "2024-12-11T19:16:45.465413Z",
     "start_time": "2024-12-11T19:16:45.460834Z"
    }
   },
   "cell_type": "code",
   "source": [
    "MESSAGE = \"Hello my name is Makenna\"\n",
    "\n",
    "inverse_key_matrix = inverse_2x2_mod(KEY_MATRIX_2x2, MODULO)\n",
    "print(f\"Key Matrix:\\n{KEY_MATRIX_2x2}\")\n",
    "print(f\"Inverse Key Matrix:\\n{inverse_key_matrix}\")\n",
    "\n",
    "ciphertext, ciphertext_matrix = encrypt(MESSAGE, KEY_MATRIX_2x2, MODULO, ALPHABET)\n",
    "print(f\"Ciphertext Matrix:\\n{ciphertext_matrix}\")\n",
    "\n",
    "decrypted_text = decrypt(ciphertext, inverse_key_matrix, MODULO, ALPHABET)\n",
    "print(f\"Ciphertext: {ciphertext}\")\n",
    "print(f\"Condition: {np.linalg.cond(KEY_MATRIX_2x2)}\")\n",
    "\n",
    "original_text = MESSAGE\n",
    "\n",
    "print(\"Cipher Text Matrx: \\n\", ciphertext_matrix)\n",
    "print(\"\\n\\n\")\n",
    "\n",
    "print(\"Original Text :   \",original_text)\n",
    "print()\n",
    "print(\"Cipher Text   :   \",ciphertext)\n",
    "print()\n",
    "print(\"Decrypted Text:   \",decrypted_text)\n"
   ],
   "id": "5eeb9832cb154c86",
   "outputs": [
    {
     "name": "stdout",
     "output_type": "stream",
     "text": [
      "Key Matrix:\n",
      "[[3 2]\n",
      " [5 7]]\n",
      "Inverse Key Matrix:\n",
      "[[ 6 32]\n",
      " [21 11]]\n",
      "Ciphertext Matrix:\n",
      "[[22  9]\n",
      " [ 8 31]\n",
      " [47 33]\n",
      " [37  9]\n",
      " [57  2]\n",
      " [36 42]\n",
      " [17 42]\n",
      " [13  6]\n",
      " [ 3 49]\n",
      " [32 28]\n",
      " [50 10]\n",
      " [51 23]]\n",
      "Ciphertext: WJIfvhlJ'CkqRqNGDxgcyKzX\n",
      "Condition: 7.780565547548909\n",
      "Cipher Text Matrx: \n",
      " [[22  9]\n",
      " [ 8 31]\n",
      " [47 33]\n",
      " [37  9]\n",
      " [57  2]\n",
      " [36 42]\n",
      " [17 42]\n",
      " [13  6]\n",
      " [ 3 49]\n",
      " [32 28]\n",
      " [50 10]\n",
      " [51 23]]\n",
      "\n",
      "\n",
      "\n",
      "Original Text :    Hello my name is Makenna\n",
      "\n",
      "Cipher Text   :    WJIfvhlJ'CkqRqNGDxgcyKzX\n",
      "\n",
      "Decrypted Text:    Hello my name is Makenna\n"
     ]
    }
   ],
   "execution_count": 17
  },
  {
   "cell_type": "markdown",
   "source": [
    "Example with the generating of a 2 x 2 random key. "
   ],
   "metadata": {
    "collapsed": false
   },
   "id": "e0e924355c41d52d"
  },
  {
   "metadata": {
    "collapsed": false,
    "ExecuteTime": {
     "end_time": "2024-12-11T19:50:17.279683Z",
     "start_time": "2024-12-11T19:50:17.274622Z"
    }
   },
   "cell_type": "code",
   "source": [
    "MESSAGE = \"Hello my name is Nic\"\n",
    "\n",
    "key_matrix, inverse_key_matrix = generate_key_matrix_2x2(MODULO)\n",
    "\n",
    "print(f\"Key Matrix:\\n{key_matrix}\")\n",
    "print(f\"Inverse Key Matrix:\\n{inverse_key_matrix}\")\n",
    "\n",
    "ciphertext, ciphertext_matrix = encrypt(MESSAGE, key_matrix, MODULO, ALPHABET)\n",
    "\n",
    "decrypted_text = decrypt(ciphertext, inverse_key_matrix, MODULO, ALPHABET)\n",
    "\n",
    "original_text = MESSAGE\n",
    "\n",
    "print(\"Cipher Text Matrx: \\n\", ciphertext_matrix)\n",
    "print(\"\\n\\n\")\n",
    "\n",
    "print(\"Original Text :   \",original_text)\n",
    "print()\n",
    "print(\"Cipher Text   :   \",ciphertext)\n",
    "print()\n",
    "print(\"Decrypted Text:   \",decrypted_text)"
   ],
   "id": "960b069258a8220c",
   "outputs": [
    {
     "name": "stdout",
     "output_type": "stream",
     "text": [
      "Key Matrix:\n",
      "[[38 22]\n",
      " [11  9]]\n",
      "Inverse Key Matrix:\n",
      "[[29 34]\n",
      " [17 11]]\n",
      "Cipher Text Matrx: \n",
      " [[41 52]\n",
      " [37 32]\n",
      " [ 9 23]\n",
      " [ 7 42]\n",
      " [ 2 38]\n",
      " [54 38]\n",
      " [42 31]\n",
      " [18  3]\n",
      " [20 40]\n",
      " [20 36]]\n",
      "\n",
      "\n",
      "\n",
      "Original Text :    Hello my name is Nic\n",
      "\n",
      "Cipher Text   :    p lgJXHqCm,mqfSDUoUk\n",
      "\n",
      "Decrypted Text:    Hello my name is Nic\n"
     ]
    }
   ],
   "execution_count": 29
  },
  {
   "cell_type": "code",
   "source": [
    "MESSAGE = text1\n",
    "KEY_MATRIX_SIZE = 7\n",
    "\n",
    "key_matrix, inverse_key_matrix = generate_key_matrix_nxn(KEY_MATRIX_SIZE, MODULO)\n",
    "\n",
    "ciphertext, ciphertext_matrix = encrypt_nxn(MESSAGE, key_matrix, MODULO, ALPHABET)\n",
    "print(\"Plain Text Length:\", len(text1))\n",
    "print(\"Ciphertext Length:\", len(ciphertext))\n",
    "\n",
    "print(f\"Key Matrix:\\n{key_matrix}\")\n",
    "print(f\"Inverse Key Matrix:\\n{inverse_key_matrix}\")\n",
    "\n",
    "decrypted_text = decrypt_nxn(ciphertext, inverse_key_matrix, MODULO, ALPHABET)\n",
    "print(f\"Ciphertext: {ciphertext}\")\n",
    "\n",
    "original_text = MESSAGE\n",
    "\n",
    "original_button = widgets.Button(description=\"Show Original Text\")\n",
    "decrypted_button = widgets.Button(description=\"Show Decrypted Text\")\n",
    "original_output = widgets.Output()\n",
    "decrypted_output = widgets.Output()\n",
    "\n",
    "def show_original_text(button):\n",
    "    with original_output:\n",
    "        original_output.clear_output()\n",
    "        print(original_text)\n",
    "\n",
    "def show_decrypted_text(button):\n",
    "    with decrypted_output:\n",
    "        decrypted_output.clear_output()\n",
    "        print(decrypted_text)\n",
    "\n",
    "original_button.on_click(show_original_text)\n",
    "decrypted_button.on_click(show_decrypted_text)\n",
    "\n",
    "display(original_button, original_output)\n",
    "display(decrypted_button, decrypted_output)"
   ],
   "metadata": {
    "collapsed": false,
    "ExecuteTime": {
     "end_time": "2024-12-11T19:52:20.038916Z",
     "start_time": "2024-12-11T19:52:20.023824Z"
    }
   },
   "id": "20ca6fd6e7a16f9f",
   "outputs": [
    {
     "name": "stdout",
     "output_type": "stream",
     "text": [
      "Plain Text Length: 93\n",
      "Ciphertext Length: 98\n",
      "Key Matrix:\n",
      "[[24  3 40 18 15 46  4]\n",
      " [40 27 14 43 46  8  2]\n",
      " [18 35 19 58 51 25 32]\n",
      " [13 42  0 38 26 48  5]\n",
      " [29 14 12 51 27 48 16]\n",
      " [32 42 14 45 36 43 33]\n",
      " [ 0 34 21 34 24 12 31]]\n",
      "Inverse Key Matrix:\n",
      "[[ 3 57 35 43 55 11 46]\n",
      " [41 16 16 43 31  9 36]\n",
      " [30 20 43 31 36 14 49]\n",
      " [23 42 19 31  6 14  5]\n",
      " [35 39 20 28 42 45  1]\n",
      " [46 16 36 53 48 28 45]\n",
      " [53 33 42  6 40 30 35]]\n",
      "Ciphertext: pFppuAJbDanKUHKhBZs!aPEsOft?Ksyjkb!.LcgDuE'YpJjmtEOPwOu'B!FVk!eXYhhSDMr'LibYDuQizUYV oinJvfacP!LjV\n"
     ]
    },
    {
     "data": {
      "text/plain": [
       "Button(description='Show Original Text', style=ButtonStyle())"
      ],
      "application/vnd.jupyter.widget-view+json": {
       "version_major": 2,
       "version_minor": 0,
       "model_id": "dcf93ef323dc4514bfddb2b47893cc95"
      }
     },
     "metadata": {},
     "output_type": "display_data"
    },
    {
     "data": {
      "text/plain": [
       "Output()"
      ],
      "application/vnd.jupyter.widget-view+json": {
       "version_major": 2,
       "version_minor": 0,
       "model_id": "a0e00bb8c6514a1aa7e28da02ede9ccd"
      }
     },
     "metadata": {},
     "output_type": "display_data"
    },
    {
     "data": {
      "text/plain": [
       "Button(description='Show Decrypted Text', style=ButtonStyle())"
      ],
      "application/vnd.jupyter.widget-view+json": {
       "version_major": 2,
       "version_minor": 0,
       "model_id": "5a8552708ce642ce9bff8929d47b462b"
      }
     },
     "metadata": {},
     "output_type": "display_data"
    },
    {
     "data": {
      "text/plain": [
       "Output()"
      ],
      "application/vnd.jupyter.widget-view+json": {
       "version_major": 2,
       "version_minor": 0,
       "model_id": "54cc5e3e606e46d185d6c7282e723d69"
      }
     },
     "metadata": {},
     "output_type": "display_data"
    }
   ],
   "execution_count": 33
  },
  {
   "cell_type": "code",
   "source": [
    "MESSAGE = text2\n",
    "KEY_MATRIX_SIZE = 23\n",
    "\n",
    "key_matrix, inverse_key_matrix = generate_key_matrix_nxn(KEY_MATRIX_SIZE, MODULO)\n",
    "\n",
    "ciphertext, ciphertext_matrix = encrypt_nxn(MESSAGE, key_matrix, MODULO, ALPHABET)\n",
    "print(\"Plain Text Length:\", len(text1))\n",
    "print(\"Ciphertext Length:\", len(ciphertext))\n",
    "\n",
    "print(f\"Key Matrix:\\n{key_matrix}\")\n",
    "print(f\"Inverse Key Matrix:\\n{inverse_key_matrix}\")\n",
    "\n",
    "decrypted_text = decrypt_nxn(ciphertext, inverse_key_matrix, MODULO, ALPHABET)\n",
    "print(f\"Ciphertext: {ciphertext}\")\n",
    "\n",
    "original_text = MESSAGE\n",
    "\n",
    "original_button = widgets.Button(description=\"Show Original Text\")\n",
    "decrypted_button = widgets.Button(description=\"Show Decrypted Text\")\n",
    "original_output = widgets.Output()\n",
    "decrypted_output = widgets.Output()\n",
    "\n",
    "def show_original_text(button):\n",
    "    with original_output:\n",
    "        original_output.clear_output()\n",
    "        print(original_text)\n",
    "\n",
    "def show_decrypted_text(button):\n",
    "    with decrypted_output:\n",
    "        decrypted_output.clear_output()\n",
    "        print(decrypted_text)\n",
    "\n",
    "original_button.on_click(show_original_text)\n",
    "decrypted_button.on_click(show_decrypted_text)\n",
    "\n",
    "display(original_button, original_output)\n",
    "display(decrypted_button, decrypted_output)"
   ],
   "metadata": {
    "collapsed": false,
    "ExecuteTime": {
     "end_time": "2024-12-11T19:53:13.814189Z",
     "start_time": "2024-12-11T19:53:13.797552Z"
    }
   },
   "id": "a64c9cc25f9f1e60",
   "outputs": [
    {
     "name": "stdout",
     "output_type": "stream",
     "text": [
      "Plain Text Length: 93\n",
      "Ciphertext Length: 69\n",
      "Key Matrix:\n",
      "[[38 30 24  4 51 10 24 33 27 14 30 26 58 33 39 24 22  9 53  5 47 20 22]\n",
      " [24 36 16 35 37  2 58 13 43 47 21 25  2 37  5 29 28 33 24 42 24  3 55]\n",
      " [10 29  5 17  2 37 39 28  9 48 55 19 17 29  9 53 23 39 23  6 12 47 12]\n",
      " [13  3  3 47 44 40 21 28 11 23 20 58 18 28 38 28 36 42 42 34 54 51 25]\n",
      " [ 9 41 48 19 24 53  4 40 29 45 26 20 52 22 36 17 51  2 36 11 58 11 57]\n",
      " [49 31 42 17 12 58 27 54 12 33 57 47 22  0 43 40 27 31 16 34 43  7 14]\n",
      " [ 4  5 12 46 13 56 14 26 52  4 18 29 46 53 39 55 37 11 30 14 16 33 55]\n",
      " [13 23 44 30 20  6 36 11 45 37 17 55 46 48 39 35 49 14 32  4 27 19 26]\n",
      " [26 57  9  3 42  8 47 37 47 54 40 29 52 43 17 31 49 10 22 17 41 34 16]\n",
      " [44  4 27 14 39 53 27 34 54 29 46 28 50 40  2 23 46  3 34 41 54 12 16]\n",
      " [ 1 26 12 16 12 35 25 21 20 49 16 36 49 43 37 49 15 45 14 47 38 52 15]\n",
      " [34  2 58  3 14 30 53 55 16 17  5 13 32 55 48  3 22 50 36 34 54 46 55]\n",
      " [35 32 31  5 15 40  0 34 19 42 31 57 54 35  9 29 17  4  5 51 25 14 57]\n",
      " [24 23 16 36 31  2 35 42  3 17  1 47 18 29 18 26 12 11  7  1  2 35 24]\n",
      " [47 51 39  7 50  9 45  0  5  8 56 58 37 58 29  9 17  7 32 47 22 32 45]\n",
      " [ 0 32 57 22 53 41 34 43 48 36 54 32 30 52 57 21 33 21 50  9 12 43 18]\n",
      " [44  5 40 10 52 48 55 54 36 53 33  4 13 27 22 47  7 13 16 49 21  9 44]\n",
      " [50 53 31 17 25 22  3 14  2 25 32 52 33 50 28 52  5 22 11 51 35 40 11]\n",
      " [ 8 56 11 28 15 52 27 10  8 30 16  2 22 38 21  0 29 26 47 51 57 40 46]\n",
      " [43 15 26 47 54 14  9 38  3 17  6 33 28 29  7 53 17 21 27  3 39 10 57]\n",
      " [ 8  0 41 24  8 53  4 32 14 23 10 47 52 34 34 51 50 49 14 45 56 39 54]\n",
      " [30 28 10 24 47  4 10 34 26 26 18  4 49 23 29 54 34 35 12 53 48 17 56]\n",
      " [24 40 31  7 58  2 22 35 23 12 48 27  7 24 19 51  8 41 46 25 43  6  7]]\n",
      "Inverse Key Matrix:\n",
      "[[ 2 24 14 36 53 40 27 54 25  2  9  8 56 25  2 26 23 42 35 43 16 46 27]\n",
      " [25 20 35 58 22 38 30  0 34 23 10 43 27 50 53 51  2  0 31 57 30  1  4]\n",
      " [29 14 24 24  9 54 32 21  2 54 48 36  7  5  6  8 12 25 44 37 12 13 40]\n",
      " [38 36  8 43 48 29 29  5 12 11  1 32 27 29 18 47 56 28 35 50 31 36 13]\n",
      " [57 11 18  4  3 21 36 35 33 14 32 52 56  5 47 58 20 31  6 14 52 28 52]\n",
      " [10 43 54 18 10  8 32 44 35 41 50 40 38 38 25 26 48 29  6 48 41 14  8]\n",
      " [54 38  6 34 22 29 22 58 46 50 44 21 45 18 51 42 27 40  7 56 37 28  6]\n",
      " [ 9  9  0 19 28 24 13 29 28 29  6 38 35 28  9 22 41 40 44 37 46 31 57]\n",
      " [11 43 36 15 22 50 32 40 40 36 45 45  3 23 29 24  4 30 48 50  7 48  5]\n",
      " [26 19  3 40 29 54 28 29 43 52 29 31 53 18  0 45 58 10 48  7 16 50 39]\n",
      " [42 51 11 56 33 52 51 45 24  0  1 31  4  1 13 41 48 36 20 32 42 35 27]\n",
      " [25 18 57 28 23 21 41 54 31  2 11 27 21 10  1  3 38 23 34 13  0 27  8]\n",
      " [30 39 33 17 19 49  2 46  5  6 29  6 22 20 14 52 29  1 34  3 40  2 49]\n",
      " [ 9 12  1 34 50 31 36 26 26 38 38 11 26 19 18  2 24 32 35 54 56 15 16]\n",
      " [58 52 31 57 12 17 14 35 48  6 35 43 13 25 51  3 13  1  9 43  1 33 21]\n",
      " [22 36 22 26 55 45 17 39 55 52 47 49 15 43  8 11 53  2 57 23  8  5 10]\n",
      " [49  3 25 30 41 15 14 42 21 58 41 15 17 41 26  9  4 42 21 45 37  3 55]\n",
      " [14  7 12 56 50 29 36 15 34 23 40 51 37 17 57 28 11 42  0 36 18 17 46]\n",
      " [39 34 46 26 53 14  0 53  0 27 50 26 21 37 10 38  4  2 48  5 51 35 52]\n",
      " [19 32 15  7 47 52  2  3  7 45 20 34 36 16 42 10 24 34  8 46  3 55 17]\n",
      " [26 56 15  0 30 18  1 49 49 17 30 45 46 24 10 41 42 22 57 17 52 14 53]\n",
      " [14 36 27 24 45 51 58 52 45 24  2  9 28 49 42 34 28  8 29 23 32  3 14]\n",
      " [45 23 39 18 52 30 18 18 25 13 18  3 42 55 22 58 23 50 57 26  8  3 41]]\n",
      "Ciphertext: VXuIpoVTWjTJukTSDF GiKSSo.avgnbejsZ!dlysJMQug!.x,IcTvaawXs!wFs,Csi iE\n"
     ]
    },
    {
     "data": {
      "text/plain": [
       "Button(description='Show Original Text', style=ButtonStyle())"
      ],
      "application/vnd.jupyter.widget-view+json": {
       "version_major": 2,
       "version_minor": 0,
       "model_id": "dc5bf3367ec849e39216b74baa5e022d"
      }
     },
     "metadata": {},
     "output_type": "display_data"
    },
    {
     "data": {
      "text/plain": [
       "Output()"
      ],
      "application/vnd.jupyter.widget-view+json": {
       "version_major": 2,
       "version_minor": 0,
       "model_id": "91e94c3778b0474f82ec73053ccac6a7"
      }
     },
     "metadata": {},
     "output_type": "display_data"
    },
    {
     "data": {
      "text/plain": [
       "Button(description='Show Decrypted Text', style=ButtonStyle())"
      ],
      "application/vnd.jupyter.widget-view+json": {
       "version_major": 2,
       "version_minor": 0,
       "model_id": "71470dd291d74916ac95a673873fbcef"
      }
     },
     "metadata": {},
     "output_type": "display_data"
    },
    {
     "data": {
      "text/plain": [
       "Output()"
      ],
      "application/vnd.jupyter.widget-view+json": {
       "version_major": 2,
       "version_minor": 0,
       "model_id": "c26dd14e46d446038980b0d90b0d24a5"
      }
     },
     "metadata": {},
     "output_type": "display_data"
    }
   ],
   "execution_count": 34
  },
  {
   "metadata": {
    "collapsed": false,
    "ExecuteTime": {
     "end_time": "2024-12-11T19:54:15.473074Z",
     "start_time": "2024-12-11T19:54:15.354071Z"
    }
   },
   "cell_type": "code",
   "source": [
    "MESSAGE = text3\n",
    "KEY_MATRIX_SIZE = 100\n",
    "\n",
    "key_matrix, inverse_key_matrix = generate_key_matrix_nxn(KEY_MATRIX_SIZE, MODULO)\n",
    "\n",
    "ciphertext, ciphertext_matrix = encrypt_nxn(MESSAGE, key_matrix, MODULO, ALPHABET)\n",
    "print(\"Plain Text Length:\", len(text1))\n",
    "print(\"Ciphertext Length:\", len(ciphertext))\n",
    "\n",
    "print(f\"Key Matrix:\\n{key_matrix}\")\n",
    "print(f\"Inverse Key Matrix:\\n{inverse_key_matrix}\")\n",
    "\n",
    "decrypted_text = decrypt_nxn(ciphertext, inverse_key_matrix, MODULO, ALPHABET)\n",
    "print(f\"Ciphertext: {ciphertext}\")\n",
    "\n",
    "original_text = MESSAGE\n",
    "\n",
    "original_button = widgets.Button(description=\"Show Original Text\")\n",
    "decrypted_button = widgets.Button(description=\"Show Decrypted Text\")\n",
    "original_output = widgets.Output()\n",
    "decrypted_output = widgets.Output()\n",
    "\n",
    "def show_original_text(button):\n",
    "    with original_output:\n",
    "        original_output.clear_output()\n",
    "        print(original_text)\n",
    "\n",
    "def show_decrypted_text(button):\n",
    "    with decrypted_output:\n",
    "        decrypted_output.clear_output()\n",
    "        print(decrypted_text)\n",
    "\n",
    "original_button.on_click(show_original_text)\n",
    "decrypted_button.on_click(show_decrypted_text)\n",
    "\n",
    "display(original_button, original_output)\n",
    "display(decrypted_button, decrypted_output)"
   ],
   "id": "5cf3dbb61281f0ae",
   "outputs": [
    {
     "name": "stdout",
     "output_type": "stream",
     "text": [
      "Plain Text Length: 93\n",
      "Ciphertext Length: 1800\n",
      "Key Matrix:\n",
      "[[31  2 57 ... 53 23 35]\n",
      " [43 31 22 ... 42 49 46]\n",
      " [12 31  7 ...  7 40 39]\n",
      " ...\n",
      " [ 5  1 55 ... 24 50 53]\n",
      " [43 27 31 ...  8 31 25]\n",
      " [42  4 21 ... 24 45 25]]\n",
      "Inverse Key Matrix:\n",
      "[[39  8 12 ... 34 30 23]\n",
      " [45 55 54 ...  0  7 35]\n",
      " [14 42 41 ... 40 44 31]\n",
      " ...\n",
      " [29 10 13 ... 51 18 49]\n",
      " [15 45 48 ...  0 55 14]\n",
      " [28 16 39 ... 54 40 44]]\n",
      "Ciphertext: GCQifuiAS\n",
      "UtyJyXW?WptpJ'jMgGCz.boBpxyoS'?oqulTVSCcD'nkbnkMkHQIfUlVst!lPMIVNbxd?Ox,GcEw?jtfStVWRdB?z!YUKZQnlHsc!.Crla!iWAPrhygZkt?pBbFlTJGlz.WBFI'xEtkG!PfxcmC\n",
      "!fyAQKCQvxahCTTACSbDl.y,OfYCaHErZxgcwowhrWk'LuQO ,vtpguDP.q'Xgrpuhz!LXBB\n",
      ",lZuai.qGojLqXxItur,qoqyx'stGswhRJrYNuL'RFlGnzD?qEkbvVAwGzamBP?e\n",
      "DwWngzg?guhIBJAPyRv ESg!\n",
      "rZhkDRoxWxjKdxkGYiuEtsuvQNiOpDRtbxNzW\n",
      "hDpJiDaDJMxVYtmjZonkUcu\n",
      "CiOiN.BDUSsddZEP?Msvp,WxCbUWdhgL?KukTZcod.KbkuHRPaBk,QA,cjRjt hdibOVtRfHkOCEbdKmxZ\n",
      "NLbSl.Hgh\n",
      "YjrgaVtIhwnSNktZVNcM'kL,P!hCj\n",
      "!ppHG!yYTzSV!lThNtf.plsfxCrKk KjeAM. uOCxY\n",
      "\n",
      "JYwWBCcWj'pSsmlYa\n",
      "JhOcSdgld KQCnYfTPUF'pAAfnGPo!n.TUy'hxjkkuHoInLOvDP.LWIxNbtBCjayqf'FIGFqcUrKS'BzsMZXhQfENODqh,wVWGxjJn'XTASvphff\n",
      "YJdiQV.gH!mfE.Qzki vdM Le'R'lv\n",
      ",!ejzVmrjnWpYrCicKRBHScGTEJVHDMIKN\n",
      "!n.,pBZUafrlHYqx.aeS.lwd!lMmcmyKMvWtCsTvcxvfTh'U.ldfglSr?TzAYRVOhZ,sxAAwfYppcZAwGwbbTO.ChKX,YsDjFKHbVNAoThvlV\n",
      "qcthlpMkZj?Qk I?YjgvgqqKaWzob\n",
      "TxHxmLOIJ.slH?AiSdxzpLReNP?ZFlLIBoo Elg.Yy.YON\n",
      "pit wM\n",
      "iFTyH?qsjGwePznpQsBEFhGwM KTLJW?ST jRYWvmFUWhsxMDbWb?pEhE\n",
      "vfNrHO!anm'bXISjThPuzbFzH?oKJNe?RWzoa.yHNQSJHrvJvF XwOqwoSromChHgIxcvEjzXpVHU!xiYo?hCQe\n",
      "oWYndt,ssRFngIxDLnL!eoKlzPx?rErQ?Cs'o!f.O?\n",
      "v'CkcmQm'McHzLkALPMuQpbkyU?QOGlgHMxxh hHSiRjbtnhYHQjxYgflyuPruglIXCIG'Ow'Caon kMOdJaRtnweoHnk\n",
      "ZruRetXRo'\n",
      "hZJWVqZMRxMButHntiSBD, SdzSeMTfvkQ\n",
      "!ViZ\n",
      "xJkDE YSZN.Btaq'KzykJHsaAqKR BbC b?nTTzg.ZRt'fzBjaUE!cwIHnIdiTBNi\n",
      "aplKKqLorbsfOOrPwCMzLi.VDZi,WSxihfFbmnwIaMlylIvQlrBM\n",
      "FcO DlWeRzZBJcOcYONETuTlVMsuxMTev?pFqC!Iwtdb CgFsagvzwTWCES!EZOwISWdsmXwkXn!ZDB\n",
      "kUhqzUAhQLIZKKOkTJZIfnw'!k'jSaHQICDg.CiIuOJ\n",
      "vDtl.HBlkrgtGBVAlf'HlUjtpsp.qrp jCRL.P'WDvcPt.OAg\n",
      "L zlUDFf, GNaZcTi!y,wldWkGV\n",
      ",WhTwhbBrvoDvkSFkwplqtXJkVAvuiX!nxICUGAncBkyGayiTfqGjc\n",
      "KOXfD STS'.saQ.ZZlMKoiCTvR .cEICLzRpdkxQkYCWgKjpi?TSECqXd,uy?WCWZxzcY'WwAvq\n",
      "QkrDTkQcRRoqaCSAfISIMZowHhhiROfa!mnutLr'lAutDjGtBAkI\n",
      "kbvWrAONkRnaLt\n",
      "pJe V\n"
     ]
    },
    {
     "data": {
      "text/plain": [
       "Button(description='Show Original Text', style=ButtonStyle())"
      ],
      "application/vnd.jupyter.widget-view+json": {
       "version_major": 2,
       "version_minor": 0,
       "model_id": "2ec290e5851649529b8d4a2794a53036"
      }
     },
     "metadata": {},
     "output_type": "display_data"
    },
    {
     "data": {
      "text/plain": [
       "Output()"
      ],
      "application/vnd.jupyter.widget-view+json": {
       "version_major": 2,
       "version_minor": 0,
       "model_id": "076e4e5ac78142b49f8531da2f8489b4"
      }
     },
     "metadata": {},
     "output_type": "display_data"
    },
    {
     "data": {
      "text/plain": [
       "Button(description='Show Decrypted Text', style=ButtonStyle())"
      ],
      "application/vnd.jupyter.widget-view+json": {
       "version_major": 2,
       "version_minor": 0,
       "model_id": "3d5dd45143384a978630326ce2025dca"
      }
     },
     "metadata": {},
     "output_type": "display_data"
    },
    {
     "data": {
      "text/plain": [
       "Output()"
      ],
      "application/vnd.jupyter.widget-view+json": {
       "version_major": 2,
       "version_minor": 0,
       "model_id": "21a17ed484d540659a6b842ce1652a50"
      }
     },
     "metadata": {},
     "output_type": "display_data"
    }
   ],
   "execution_count": 35
  }
 ],
 "metadata": {
  "kernelspec": {
   "display_name": "Python 3",
   "language": "python",
   "name": "python3"
  },
  "language_info": {
   "codemirror_mode": {
    "name": "ipython",
    "version": 2
   },
   "file_extension": ".py",
   "mimetype": "text/x-python",
   "name": "python",
   "nbconvert_exporter": "python",
   "pygments_lexer": "ipython2",
   "version": "2.7.6"
  }
 },
 "nbformat": 4,
 "nbformat_minor": 5
}
