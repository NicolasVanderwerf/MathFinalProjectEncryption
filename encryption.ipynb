{
 "cells": [
  {
   "cell_type": "code",
   "execution_count": 403,
   "id": "initial_id",
   "metadata": {
    "collapsed": true,
    "ExecuteTime": {
     "end_time": "2024-12-09T19:36:26.297805Z",
     "start_time": "2024-12-09T19:36:26.295409Z"
    }
   },
   "outputs": [],
   "source": [
    "import numpy as np\n",
    "import math\n"
   ]
  },
  {
   "cell_type": "code",
   "outputs": [],
   "source": [
    "# def generateKeyMatrix(n, modulo):\n",
    "#     while True:\n",
    "#         key_matrix = np.random.randint(1, modulo, size=(n, n))\n",
    "#         try:\n",
    "#             inverse_key_matrix = inverse(key_matrix, modulo)\n",
    "#             return key_matrix, inverse_key_matrix\n",
    "#         except ValueError:\n",
    "#             continue  # Regenerate if not invertible"
   ],
   "metadata": {
    "collapsed": false,
    "ExecuteTime": {
     "end_time": "2024-12-09T19:36:26.305829Z",
     "start_time": "2024-12-09T19:36:26.303835Z"
    }
   },
   "id": "33c9131fcbfa8bb0",
   "execution_count": 404
  },
  {
   "cell_type": "code",
   "outputs": [],
   "source": [
    "\n",
    "def generateKeyMatrix(n, modulo):\n",
    "    while True:\n",
    "        key_matrix = np.random.randint(1, modulo, size=(n, n))\n",
    "        det = int(round(np.linalg.det(key_matrix))) % modulo\n",
    "        # Check if gcd(det, modulo) == 1 to ensure invertibility\n",
    "        if math.gcd(det, modulo) == 1:\n",
    "            try:\n",
    "                inverse_key_matrix = inverse_2x2_mod(key_matrix, modulo)\n",
    "                return key_matrix, inverse_key_matrix\n",
    "            except ValueError:\n",
    "                continue\n",
    "        else:\n",
    "            print(\"Failed Iteration\")"
   ],
   "metadata": {
    "collapsed": false,
    "ExecuteTime": {
     "end_time": "2024-12-09T19:36:26.309985Z",
     "start_time": "2024-12-09T19:36:26.307237Z"
    }
   },
   "id": "8dd8cf865d604415",
   "execution_count": 405
  },
  {
   "cell_type": "code",
   "outputs": [],
   "source": [
    "def inverse(matrix, modulo):\n",
    "    det = int(round(np.linalg.det(matrix))) % modulo\n",
    "    det_inv = pow(det, -1, modulo)  # Modular inverse of determinant\n",
    "    adjugate = np.round(np.linalg.inv(matrix) * det).astype(int) % modulo\n",
    "    return (det_inv * adjugate) % modulo"
   ],
   "metadata": {
    "collapsed": false,
    "ExecuteTime": {
     "end_time": "2024-12-09T19:36:26.313191Z",
     "start_time": "2024-12-09T19:36:26.310854Z"
    }
   },
   "id": "855480cf7414a0e5",
   "execution_count": 406
  },
  {
   "cell_type": "code",
   "outputs": [],
   "source": [
    "def inverse_2x2_mod(matrix, modulo):\n",
    "    a, b = matrix[0]\n",
    "    c, d = matrix[1]\n",
    "    det = int((a*d - b*c) % modulo)  # Ensure det is a Python int\n",
    "    if math.gcd(det, modulo) != 1:\n",
    "        raise ValueError(\"Matrix not invertible modulo {}\".format(modulo))\n",
    "    \n",
    "    det_inv = pow(det, -1, modulo)  # Now det is a Python int, this should work\n",
    "    # Adjugate matrix = [[d, -b], [-c, a]]\n",
    "    return (det_inv * np.array([[d, -b],\n",
    "                                [-c, a]])) % modulo\n"
   ],
   "metadata": {
    "collapsed": false,
    "ExecuteTime": {
     "end_time": "2024-12-09T19:36:26.317397Z",
     "start_time": "2024-12-09T19:36:26.314747Z"
    }
   },
   "id": "f0b514f06758e58d",
   "execution_count": 407
  },
  {
   "cell_type": "code",
   "outputs": [],
   "source": [
    "def encrypt(plaintext, key_matrix, modulo, alphabet):\n",
    "    # Map characters to numbers\n",
    "    char_to_num = {char: idx + 1 for idx, char in enumerate(alphabet)}\n",
    "    num_to_char = {v: k for k, v in char_to_num.items()}\n",
    "\n",
    "    # Convert plaintext to numbers and pair into groups\n",
    "    numbers = [char_to_num[char] for char in plaintext if char in char_to_num]\n",
    "    if len(numbers) % 2 != 0:\n",
    "        numbers.append(0)  # Padding if necessary\n",
    "\n",
    "    plaintext_matrix = np.array(numbers).reshape(-1, 2).T\n",
    "    print(\"Original Matrix: \\n\", np.array(numbers).reshape(-1, 2))\n",
    "    ciphertext_matrix = (np.dot(key_matrix, plaintext_matrix) % modulo).T\n",
    "\n",
    "    # Convert numbers back to characters\n",
    "    ciphertext = ''.join(num_to_char.get(num, '') for pair in ciphertext_matrix for num in pair if num != 0)\n",
    "    return ciphertext, ciphertext_matrix"
   ],
   "metadata": {
    "collapsed": false,
    "ExecuteTime": {
     "end_time": "2024-12-09T19:36:26.321264Z",
     "start_time": "2024-12-09T19:36:26.318128Z"
    }
   },
   "id": "2c7da1b404df69e5",
   "execution_count": 408
  },
  {
   "cell_type": "code",
   "outputs": [],
   "source": [
    "def decrypt(ciphertext, inverse_key_matrix, modulo, alphabet):\n",
    "    # Map numbers back to plaintext\n",
    "    char_to_num = {char: idx + 1 for idx, char in enumerate(alphabet)}\n",
    "    num_to_char = {v: k for k, v in char_to_num.items()}\n",
    "\n",
    "    numbers = [char_to_num[char] for char in ciphertext if char in char_to_num]\n",
    "    if len(numbers) % 2 != 0:\n",
    "        numbers.append(0)  # Padding if necessary\n",
    "\n",
    "    cipher_matrix = np.array(numbers).reshape(-1, 2)\n",
    "\n",
    "    decrypted_matrix = (np.dot(inverse_key_matrix, cipher_matrix.T) % modulo).T\n",
    "    text = ''.join(num_to_char.get(int(round(num)), '') for pair in decrypted_matrix for num in pair if num != 0)\n",
    "    return text"
   ],
   "metadata": {
    "collapsed": false,
    "ExecuteTime": {
     "end_time": "2024-12-09T19:36:26.324833Z",
     "start_time": "2024-12-09T19:36:26.322075Z"
    }
   },
   "id": "d802c365f5648805",
   "execution_count": 409
  },
  {
   "cell_type": "code",
   "outputs": [
    {
     "name": "stdout",
     "output_type": "stream",
     "text": [
      "Key Matrix:\n",
      "[[3 2]\n",
      " [5 7]]\n",
      "Inverse Key Matrix:\n",
      "[[27 42]\n",
      " [47 53]]\n",
      "Original Matrix: \n",
      " [[ 8 31]\n",
      " [38 38]\n",
      " [41 53]\n",
      " [13 51]\n",
      " [53 40]\n",
      " [27 39]\n",
      " [31 53]\n",
      " [35 45]\n",
      " [53 14]\n",
      " [35 29]]\n",
      "Ciphertext Matrix:\n",
      "[[28 25]\n",
      " [16 50]\n",
      " [55 54]\n",
      " [25 16]\n",
      " [ 7 23]\n",
      " [43  2]\n",
      " [25  4]\n",
      " [21 26]\n",
      " [13 15]\n",
      " [47 30]]\n",
      "Original Text: Hello My name is Nic\n",
      "Ciphertext: bYPx,.YPGWqBYDUZMOud\n",
      "Decrypted Text: Hello My name is Nic\n",
      "Original Matrix: \n",
      " [[ 8 31]\n",
      " [38 38]\n",
      " [41 53]\n",
      " [13 51]\n",
      " [53 40]\n",
      " [27 39]\n",
      " [31 53]\n",
      " [35 45]\n",
      " [53 14]\n",
      " [35 29]]\n",
      "Ciphertext: JuLdal?HkcudufybuqQx\n",
      "Decrypted Text: Hello My name is Nic\n"
     ]
    }
   ],
   "source": [
    "modulo = 58  # Adjust modulo to match extended alphabet size\n",
    "alphabet = \"ABCDEFGHIJKLMNOPQRSTUVWXYZabcdefghijklmnopqrstuvwxyz .,!?\"\n",
    "\n",
    "plaintext = \"Hello My name is Nic\"\n",
    "key_matrix = np.array([\n",
    "    [3, 2],\n",
    "    [5, 7]\n",
    "])\n",
    "\n",
    "# Compute inverse key matrix dynamically\n",
    "inverse_key_matrix = inverse(key_matrix, modulo)\n",
    "print(f\"Key Matrix:\\n{key_matrix}\")\n",
    "print(f\"Inverse Key Matrix:\\n{inverse_key_matrix}\")\n",
    "\n",
    "# Encrypt the plaintext\n",
    "ciphertext, ciphertext_matrix = encrypt(plaintext, key_matrix, modulo, alphabet)\n",
    "print(f\"Ciphertext Matrix:\\n{ciphertext_matrix}\")\n",
    "\n",
    "# Decrypt the ciphertext\n",
    "decrypted_text = decrypt(ciphertext, inverse_key_matrix, modulo, alphabet)\n",
    "print(\"Original Text:\", plaintext)\n",
    "print(f\"Ciphertext: {ciphertext}\")\n",
    "print(f\"Decrypted Text: {decrypted_text}\")\n",
    "\n",
    "ciphertext, ciphertext_matrix = encrypt(plaintext, inverse_key_matrix, modulo, alphabet)\n",
    "decrypted_text = decrypt(ciphertext, key_matrix, modulo, alphabet)\n",
    "print(f\"Ciphertext: {ciphertext}\")\n",
    "print(f\"Decrypted Text: {decrypted_text}\")"
   ],
   "metadata": {
    "collapsed": false,
    "ExecuteTime": {
     "end_time": "2024-12-09T19:36:26.329382Z",
     "start_time": "2024-12-09T19:36:26.325611Z"
    }
   },
   "id": "5eeb9832cb154c86",
   "execution_count": 410
  },
  {
   "cell_type": "code",
   "outputs": [
    {
     "name": "stdout",
     "output_type": "stream",
     "text": [
      "Key Matrix:\n",
      "[[37 14]\n",
      " [14 23]]\n",
      "Inverse Key Matrix:\n",
      "[[15  6]\n",
      " [ 6  9]]\n",
      "Original Matrix: \n",
      " [[ 8 31]\n",
      " [38 38]\n",
      " [41 53]\n",
      " [13 51]\n",
      " [53 40]\n",
      " [27 39]\n",
      " [31 53]\n",
      " [35 45]\n",
      " [53 14]\n",
      " [35 29]]\n",
      "Ciphertext Matrix:\n",
      "[[34 13]\n",
      " [24 14]\n",
      " [55 53]\n",
      " [35 21]\n",
      " [27 38]\n",
      " [37 57]\n",
      " [33 29]\n",
      " [11 17]\n",
      " [11 20]\n",
      " [19 55]]\n",
      "Original Text: Hello My name is Nic\n",
      "Ciphertext: hMXN, iUalk?gcKQKTS,\n",
      "Decrypted Text: Hello My name is Nic\n"
     ]
    }
   ],
   "source": [
    "modulo = 58  # Adjust modulo to match extended alphabet size\n",
    "alphabet = \"ABCDEFGHIJKLMNOPQRSTUVWXYZabcdefghijklmnopqrstuvwxyz .,!?\"\n",
    "\n",
    "plaintext = \"Hello My name is Nic\"\n",
    "key_matrix, inverse_key_matrix = generateKeyMatrix(2, modulo)\n",
    "\n",
    "# Compute inverse key matrix dynamically\n",
    "\n",
    "print(f\"Key Matrix:\\n{key_matrix}\")\n",
    "print(f\"Inverse Key Matrix:\\n{inverse_key_matrix}\")\n",
    "\n",
    "# Encrypt the plaintext\n",
    "ciphertext, ciphertext_matrix = encrypt(plaintext, key_matrix, modulo, alphabet)\n",
    "print(f\"Ciphertext Matrix:\\n{ciphertext_matrix}\")\n",
    "\n",
    "# Decrypt the ciphertext\n",
    "decrypted_text = decrypt(ciphertext, inverse_key_matrix, modulo, alphabet)\n",
    "print(\"Original Text:\", plaintext)\n",
    "print(f\"Ciphertext: {ciphertext}\")\n",
    "print(f\"Decrypted Text: {decrypted_text}\")"
   ],
   "metadata": {
    "collapsed": false,
    "ExecuteTime": {
     "end_time": "2024-12-09T19:36:26.333120Z",
     "start_time": "2024-12-09T19:36:26.330068Z"
    }
   },
   "id": "12737eed0d0fd8e5",
   "execution_count": 411
  },
  {
   "cell_type": "code",
   "outputs": [],
   "source": [
    "def minor_mod(M, i, j, mod):\n",
    "    # Return the minor matrix M_(i,j) with the ith row and jth column removed\n",
    "    return np.delete(np.delete(M, i, axis=0), j, axis=1) % mod"
   ],
   "metadata": {
    "collapsed": false,
    "ExecuteTime": {
     "end_time": "2024-12-09T19:36:26.336797Z",
     "start_time": "2024-12-09T19:36:26.335048Z"
    }
   },
   "id": "7ae41cae204b9aaf",
   "execution_count": 412
  },
  {
   "cell_type": "code",
   "outputs": [],
   "source": [
    "def determinant_mod(M, mod):\n",
    "    # Compute the determinant of M mod 'mod' using recursion (Laplace expansion)\n",
    "    M = M % mod\n",
    "    n = M.shape[0]\n",
    "    if n == 1:\n",
    "        return M[0,0] % mod\n",
    "    elif n == 2:\n",
    "        return (M[0,0]*M[1,1] - M[0,1]*M[1,0]) % mod\n",
    "\n",
    "    det_val = 0\n",
    "    for j in range(n):\n",
    "        cofactor = ((-1)**j) * M[0,j] * determinant_mod(minor_mod(M, 0, j, mod), mod)\n",
    "        det_val = (det_val + cofactor) % mod\n",
    "    return det_val % mod"
   ],
   "metadata": {
    "collapsed": false,
    "ExecuteTime": {
     "end_time": "2024-12-09T19:36:26.339987Z",
     "start_time": "2024-12-09T19:36:26.337536Z"
    }
   },
   "id": "bc5ab4e884402b1a",
   "execution_count": 413
  },
  {
   "cell_type": "code",
   "outputs": [],
   "source": [
    "def adjugate_mod(M, mod):\n",
    "    n = M.shape[0]\n",
    "    adj = np.zeros_like(M, dtype=int)\n",
    "    for i in range(n):\n",
    "        for j in range(n):\n",
    "            # Compute cofactor C[i,j]\n",
    "            C_ij = ((-1)**(i+j)) * determinant_mod(minor_mod(M, i, j, mod), mod)\n",
    "            # Note: adjugate is transpose of the cofactor matrix\n",
    "            adj[j, i] = C_ij % mod\n",
    "    return adj % mod"
   ],
   "metadata": {
    "collapsed": false,
    "ExecuteTime": {
     "end_time": "2024-12-09T19:36:26.342419Z",
     "start_time": "2024-12-09T19:36:26.340539Z"
    }
   },
   "id": "302c59a366955c",
   "execution_count": 414
  },
  {
   "cell_type": "code",
   "outputs": [],
   "source": [
    "def inverse_nxn_mod(M, mod):\n",
    "    # Compute the modular inverse of an n×n matrix M under modulo 'mod'\n",
    "    M = M % mod\n",
    "    det = determinant_mod(M, mod)\n",
    "    if math.gcd(det, mod) != 1:\n",
    "        raise ValueError(\"Matrix not invertible modulo {}\".format(mod))\n",
    "    det_inv = pow(int(det), -1, mod)\n",
    "    adj = adjugate_mod(M, mod)\n",
    "    return (det_inv * adj) % mod"
   ],
   "metadata": {
    "collapsed": false,
    "ExecuteTime": {
     "end_time": "2024-12-09T19:36:26.344816Z",
     "start_time": "2024-12-09T19:36:26.342906Z"
    }
   },
   "id": "91ace6b5ab05c1a3",
   "execution_count": 415
  },
  {
   "cell_type": "code",
   "outputs": [],
   "source": [
    "def generateKeyMatrix(n, modulo):\n",
    "    while True:\n",
    "        key_matrix = np.random.randint(1, modulo, size=(n, n))\n",
    "        det = determinant_mod(key_matrix, modulo)\n",
    "        if math.gcd(det, modulo) == 1:\n",
    "            try:\n",
    "                inverse_key_matrix = inverse_nxn_mod(key_matrix, modulo)\n",
    "                return key_matrix, inverse_key_matrix\n",
    "            except ValueError:\n",
    "                continue\n",
    "        else:\n",
    "            print(\"Failed Iteration\")\n"
   ],
   "metadata": {
    "collapsed": false,
    "ExecuteTime": {
     "end_time": "2024-12-09T19:36:26.348163Z",
     "start_time": "2024-12-09T19:36:26.346239Z"
    }
   },
   "id": "fa16243b1bacf0da",
   "execution_count": 416
  },
  {
   "cell_type": "code",
   "outputs": [],
   "source": [
    "def encryptNN(plaintext, key_matrix, modulo, alphabet):\n",
    "    n = key_matrix.shape[0]\n",
    "    char_to_num = {char: idx + 1 for idx, char in enumerate(alphabet)}\n",
    "    num_to_char = {v: k for k, v in char_to_num.items()}\n",
    "\n",
    "    numbers = [char_to_num[char] for char in plaintext if char in char_to_num]\n",
    "\n",
    "    # Pad so length is a multiple of n\n",
    "    while len(numbers) % n != 0:\n",
    "        numbers.append(0)\n",
    "\n",
    "    # Reshape into n-rows and as many columns as needed, then transpose\n",
    "    plaintext_matrix = np.array(numbers).reshape(-1, n).T\n",
    "    print(\"Plain Text Matrix: \\n\", plaintext_matrix)\n",
    "    ciphertext_matrix = (np.dot(key_matrix, plaintext_matrix) % modulo).T\n",
    "\n",
    "    # Convert numbers back to characters\n",
    "    ciphertext = ''.join(num_to_char.get(num, '')\n",
    "                         for row in ciphertext_matrix\n",
    "                         for num in row if num != 0)\n",
    "    return ciphertext, ciphertext_matrix"
   ],
   "metadata": {
    "collapsed": false,
    "ExecuteTime": {
     "end_time": "2024-12-09T19:36:26.351432Z",
     "start_time": "2024-12-09T19:36:26.348826Z"
    }
   },
   "id": "96980e7070e215cb",
   "execution_count": 417
  },
  {
   "cell_type": "code",
   "outputs": [],
   "source": [
    "\n",
    "\n",
    "def decryptNN(ciphertext, inverse_key_matrix, modulo, alphabet):\n",
    "    n = inverse_key_matrix.shape[0]\n",
    "    char_to_num = {char: idx + 1 for idx, char in enumerate(alphabet)}\n",
    "    num_to_char = {v: k for k, v in char_to_num.items()}\n",
    "\n",
    "    numbers = [char_to_num[char] for char in ciphertext if char in char_to_num]\n",
    "\n",
    "    # Pad if needed\n",
    "    while len(numbers) % n != 0:\n",
    "        numbers.append(0)\n",
    "\n",
    "    cipher_matrix = np.array(numbers).reshape(-1, n)\n",
    "    decrypted_matrix = (np.dot(inverse_key_matrix, cipher_matrix.T) % modulo).T\n",
    "\n",
    "    text = ''.join(num_to_char.get(int(num), '')\n",
    "                   for row in decrypted_matrix\n",
    "                   for num in row if num != 0)\n",
    "    return text\n"
   ],
   "metadata": {
    "collapsed": false,
    "ExecuteTime": {
     "end_time": "2024-12-09T19:36:26.354577Z",
     "start_time": "2024-12-09T19:36:26.351986Z"
    }
   },
   "id": "73b8b087e6c3688f",
   "execution_count": 418
  },
  {
   "cell_type": "code",
   "outputs": [
    {
     "name": "stdout",
     "output_type": "stream",
     "text": [
      "Failed Iteration\n",
      "Key Matrix:\n",
      "[[47 55]\n",
      " [38 15]]\n",
      "Inverse Key Matrix:\n",
      "[[27 17]\n",
      " [36 15]]\n",
      "Original Matrix: \n",
      " [[ 8 31]\n",
      " [38 38]\n",
      " [41 53]\n",
      " [13 51]\n",
      " [53 40]\n",
      " [27 39]\n",
      " [31 53]\n",
      " [35 45]\n",
      " [53 14]\n",
      " [35 29]]\n",
      "Original Text: Hello My name is Nic\n",
      "Ciphertext: yOvpbgzoyDxsVABgMTxY\n",
      "Decrypted Text: Hello My name is Nic\n"
     ]
    }
   ],
   "source": [
    "modulo = 58  # Adjust modulo to match extended alphabet size\n",
    "alphabet = \"ABCDEFGHIJKLMNOPQRSTUVWXYZabcdefghijklmnopqrstuvwxyz .,!?\"\n",
    "\n",
    "plaintext = \"Hello My name is Nic\"\n",
    "key_matrix, inverse_key_matrix = generateKeyMatrix(2, modulo)\n",
    "\n",
    "# Compute inverse key matrix dynamically\n",
    "\n",
    "print(f\"Key Matrix:\\n{key_matrix}\")\n",
    "print(f\"Inverse Key Matrix:\\n{inverse_key_matrix}\")\n",
    "\n",
    "# Encrypt the plaintext\n",
    "ciphertext, ciphertext_matrix = encrypt(plaintext, key_matrix, modulo, alphabet)\n",
    "\n",
    "# Decrypt the ciphertext\n",
    "decrypted_text = decrypt(ciphertext, inverse_key_matrix, modulo, alphabet)\n",
    "print(\"Original Text:\", plaintext)\n",
    "print(f\"Ciphertext: {ciphertext}\")\n",
    "print(f\"Decrypted Text: {decrypted_text}\")"
   ],
   "metadata": {
    "collapsed": false,
    "ExecuteTime": {
     "end_time": "2024-12-09T19:36:26.358111Z",
     "start_time": "2024-12-09T19:36:26.355308Z"
    }
   },
   "id": "ae531fd46ccb6778",
   "execution_count": 419
  },
  {
   "cell_type": "code",
   "outputs": [
    {
     "name": "stdout",
     "output_type": "stream",
     "text": [
      "Failed Iteration\n",
      "Failed Iteration\n",
      "Key Matrix:\n",
      "[[42 52 22 38 51  4]\n",
      " [23 49 32 51 19  6]\n",
      " [36 17 12 36 44 40]\n",
      " [30 12 26 47  6 39]\n",
      " [23  6 52 46  6 30]\n",
      " [13 34 47  8 37 45]]\n",
      "Inverse Key Matrix:\n",
      "[[ 2 12 44 54 17 26]\n",
      " [22  6 37 28 26 22]\n",
      " [16  7  5 49 12 51]\n",
      " [21 37 41 22 47 52]\n",
      " [35 28 20 42 34 22]\n",
      " [47 35  9 27 31 10]]\n",
      "Plain Text Matrix: \n",
      " [[ 8 13 31 35]\n",
      " [31 51 53 29]\n",
      " [38 53 35  0]\n",
      " [38 40 45  0]\n",
      " [41 27 53  0]\n",
      " [53 39 14  0]]\n",
      "Original Text: Hello My name is Nic\n",
      "Ciphertext: ilIONPyeKakrQruCgOTVMFyw\n",
      "Decrypted Text: Hello My name is Nic\n"
     ]
    }
   ],
   "source": [
    "modulo = 58  # Adjust modulo to match extended alphabet size\\\n",
    "keyMatrixSize = 6\n",
    "alphabet = \"ABCDEFGHIJKLMNOPQRSTUVWXYZabcdefghijklmnopqrstuvwxyz .,!?\"\n",
    "\n",
    "plaintext = \"Hello My name is Nic\"\n",
    "key_matrix, inverse_key_matrix = generateKeyMatrix(keyMatrixSize, modulo)\n",
    "\n",
    "\n",
    "# Compute inverse key matrix dynamically\n",
    "print(f\"Key Matrix:\\n{key_matrix}\")\n",
    "print(f\"Inverse Key Matrix:\\n{inverse_key_matrix}\")\n",
    "\n",
    "# Encrypt the plaintext\n",
    "ciphertext, ciphertext_matrix = encryptNN(plaintext, key_matrix, modulo, alphabet)\n",
    "\n",
    "# Decrypt the ciphertext\n",
    "decrypted_text = decryptNN(ciphertext, inverse_key_matrix, modulo, alphabet)\n",
    "print(\"Original Text:\", plaintext)\n",
    "print(f\"Ciphertext: {ciphertext}\")\n",
    "print(f\"Decrypted Text: {decrypted_text}\")"
   ],
   "metadata": {
    "collapsed": false,
    "ExecuteTime": {
     "end_time": "2024-12-09T19:36:26.387754Z",
     "start_time": "2024-12-09T19:36:26.358809Z"
    }
   },
   "id": "5cf3dbb61281f0ae",
   "execution_count": 420
  }
 ],
 "metadata": {
  "kernelspec": {
   "display_name": "Python 3",
   "language": "python",
   "name": "python3"
  },
  "language_info": {
   "codemirror_mode": {
    "name": "ipython",
    "version": 2
   },
   "file_extension": ".py",
   "mimetype": "text/x-python",
   "name": "python",
   "nbconvert_exporter": "python",
   "pygments_lexer": "ipython2",
   "version": "2.7.6"
  }
 },
 "nbformat": 4,
 "nbformat_minor": 5
}
